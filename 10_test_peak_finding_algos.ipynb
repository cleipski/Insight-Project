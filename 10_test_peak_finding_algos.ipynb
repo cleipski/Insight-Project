{
 "cells": [
  {
   "cell_type": "code",
   "execution_count": 1,
   "metadata": {
    "collapsed": true
   },
   "outputs": [],
   "source": [
    "from __future__ import absolute_import, division, print_function"
   ]
  },
  {
   "cell_type": "code",
   "execution_count": 2,
   "metadata": {
    "collapsed": true
   },
   "outputs": [],
   "source": [
    "import copy\n",
    "import glob\n",
    "import json\n",
    "import os\n",
    "import pickle\n",
    "import random\n",
    "import re\n",
    "import sys\n",
    "import time\n",
    "from collections import Counter\n",
    "\n",
    "import googlemaps\n",
    "import matplotlib as mpl\n",
    "import matplotlib.path as mplPath\n",
    "import matplotlib.pyplot as plt\n",
    "import numpy as np\n",
    "import pandas as pd\n",
    "import requests\n",
    "import scipy.stats as ss\n",
    "from sklearn.datasets.species_distributions import construct_grids\n",
    "from sklearn.neighbors.kde import KernelDensity\n",
    "\n",
    "import scipy\n",
    "import scipy.ndimage as ndimage\n",
    "import scipy.ndimage.filters as filters\n",
    "from scipy.ndimage.morphology import generate_binary_structure, binary_erosion\n",
    "\n",
    "\n",
    "%matplotlib inline\n"
   ]
  },
  {
   "cell_type": "markdown",
   "metadata": {},
   "source": [
    "# Compare the speed of different peak-finding algorithms"
   ]
  },
  {
   "cell_type": "markdown",
   "metadata": {},
   "source": [
    "## Self-written"
   ]
  },
  {
   "cell_type": "code",
   "execution_count": 3,
   "metadata": {
    "collapsed": true
   },
   "outputs": [],
   "source": [
    "# Find local maxima\n",
    "def find_local_max(inarr,win=3,style='mode',level=3,**kwargs):\n",
    "    \"\"\"\n",
    "    Find the local maxima in an array.\n",
    "    \n",
    "    The input array should be a (NxN) numpy array.\n",
    "    \n",
    "    A window of size (win)x(win) is used.\n",
    "    Window size win needs to be an odd number\n",
    "    to have a defined center pixel. If win is even, \n",
    "    it is autamtically increased by +1.\n",
    "    \n",
    "    The output is a mask of size equal to the input array \n",
    "    (NxN) with 0, unless a pixel is identified as a maximum.\n",
    "    \n",
    "    The maxima are evaluated base on 'style' using 'level'. \n",
    "    E.g., for 'style=mode' and 'level=3', a local maximum if \n",
    "    found is retained if its value is 3 times the mode of the\n",
    "    image.\n",
    "    \"\"\"\n",
    "    # check input\n",
    "    if win%2 == 0:\n",
    "        win += 1\n",
    "    # create empty mask\n",
    "    shp = inarr.shape\n",
    "    mask = np.zeros(shape=shp)\n",
    "    # central index of window\n",
    "    win_idx = int(np.floor(win/2.)) \n",
    "    cen_idx = (win_idx,win_idx)\n",
    "    win_mask = np.zeros(shape=(win,win))\n",
    "    win_mask[cen_idx] = 1\n",
    "    comp_mask = win_mask == 0\n",
    "    val_mask = win_mask == 1\n",
    "    xlen = len(inarr[:,0])\n",
    "    ylen = len(inarr[:,1])\n",
    "    # determine more in array\n",
    "    inarr_ravel = inarr.ravel()\n",
    "    tmp_list = np.ndarray.tolist(inarr_ravel)\n",
    "    if style == 'mean':\n",
    "        tmp_mode = np.mean(inarr_ravel)\n",
    "        print('Using MEAN for cutoff: ', tmp_mode)\n",
    "    elif style == 'median':\n",
    "        tmp_mode = np.median(inarr_ravel)\n",
    "        print('Using MEDIAN for cutoff: ', tmp_mode)\n",
    "    elif style == 'bkg':\n",
    "        tmp_mode = find_background(inarr,**kwargs)\n",
    "        print('Using BKG for cutoff: ', tmp_mode)\n",
    "    else:\n",
    "        tmp_mode = Counter(tmp_list).most_common(1)[0][0]\n",
    "        print('Using MODE for cutoff: ', tmp_mode)\n",
    "    cutoff = level*tmp_mode\n",
    "    for xidx,xin in enumerate(inarr[:,0]):\n",
    "        for yidx,yin in enumerate(inarr[0,:]):\n",
    "            sub_arr = inarr[xidx-win_idx:xidx+win_idx+1,yidx-win_idx:yidx+win_idx+1]\n",
    "            if sub_arr.shape != (win,win):\n",
    "                pass\n",
    "            else:\n",
    "                comp_vals = sub_arr[comp_mask]\n",
    "                mid_val = sub_arr[val_mask]\n",
    "                check = [False if x < mid_val else True for x in comp_vals]\n",
    "                if (sum(check) == 0) and (mid_val > cutoff):\n",
    "                    mask[xidx,yidx] = int(1)\n",
    "    final_mask = mask == 1\n",
    "    return final_mask, cutoff\n"
   ]
  },
  {
   "cell_type": "markdown",
   "metadata": {},
   "source": [
    "## Scipy maximum_filter"
   ]
  },
  {
   "cell_type": "code",
   "execution_count": 4,
   "metadata": {
    "collapsed": true
   },
   "outputs": [],
   "source": [
    "def detect_max(inarr,cutoff,win=5):\n",
    "    neighborhood_size = win\n",
    "    threshold = cutoff\n",
    "\n",
    "    data = inarr\n",
    "\n",
    "    data_max = filters.maximum_filter(data, neighborhood_size)\n",
    "    maxima = (data == data_max)\n",
    "    data_min = filters.minimum_filter(data, neighborhood_size)\n",
    "    diff = ((data_max - data_min) > threshold)\n",
    "    maxima[diff == 0] = 0\n",
    "\n",
    "    labeled, num_objects = ndimage.label(maxima)\n",
    "    xy = np.array(ndimage.center_of_mass(data, labeled, range(1, num_objects+1)))\n",
    "    \n",
    "    return xy\n"
   ]
  },
  {
   "cell_type": "markdown",
   "metadata": {},
   "source": [
    "## Different solution using scipy maximum_filter "
   ]
  },
  {
   "cell_type": "code",
   "execution_count": 6,
   "metadata": {
    "collapsed": false
   },
   "outputs": [],
   "source": [
    "# http://stackoverflow.com/questions/3684484/peak-detection-in-a-2d-array\n",
    "\n",
    "def detect_peaks(image):\n",
    "    \"\"\"\n",
    "    Takes an image and detect the peaks usingthe local maximum filter.\n",
    "    Returns a boolean mask of the peaks (i.e. 1 when\n",
    "    the pixel's value is the neighborhood maximum, 0 otherwise)\n",
    "    \"\"\"\n",
    "\n",
    "    # define an 8-connected neighborhood\n",
    "    neighborhood = generate_binary_structure(2,2)\n",
    "\n",
    "    #apply the local maximum filter; all pixel of maximal value \n",
    "    #in their neighborhood are set to 1\n",
    "    local_max = filters.maximum_filter(image, footprint=neighborhood)==image\n",
    "    #local_max is a mask that contains the peaks we are \n",
    "    #looking for, but also the background.\n",
    "    #In order to isolate the peaks we must remove the background from the mask.\n",
    "\n",
    "    #we create the mask of the background\n",
    "    background = (image==0)\n",
    "\n",
    "    #a little technicality: we must erode the background in order to \n",
    "    #successfully subtract it form local_max, otherwise a line will \n",
    "    #appear along the background border (artifact of the local maximum filter)\n",
    "    eroded_background = binary_erosion(background, structure=neighborhood, border_value=1)\n",
    "\n",
    "    #we obtain the final mask, containing only peaks, \n",
    "    #by removing the background from the local_max mask\n",
    "    detected_peaks = local_max - eroded_background\n",
    "\n",
    "    return detected_peaks\n",
    "\n"
   ]
  },
  {
   "cell_type": "code",
   "execution_count": null,
   "metadata": {
    "collapsed": true
   },
   "outputs": [],
   "source": []
  },
  {
   "cell_type": "markdown",
   "metadata": {},
   "source": [
    "# Data"
   ]
  },
  {
   "cell_type": "code",
   "execution_count": 7,
   "metadata": {
    "collapsed": true
   },
   "outputs": [],
   "source": [
    "# Get CA coordinates\n",
    "try:\n",
    "    x_coords\n",
    "    y_coords\n",
    "except:\n",
    "    infile = os.path.join('..','..','data','ca_shape.csv')\n",
    "    ca_shape = pd.read_csv(infile)\n",
    "    x_coords = ca_shape['longitude'].tolist()\n",
    "    y_coords = ca_shape['latitude'].tolist()\n"
   ]
  },
  {
   "cell_type": "code",
   "execution_count": 8,
   "metadata": {
    "collapsed": false
   },
   "outputs": [
    {
     "name": "stdout",
     "output_type": "stream",
     "text": [
      "--- 33.7271461487 seconds ---\n"
     ]
    }
   ],
   "source": [
    "# import cleaned and pickled dataframe\n",
    "try:\n",
    "    flickr_all_clean.shape\n",
    "except:\n",
    "    start_time = time.time()\n",
    "    flickr_all_clean = pd.read_pickle(os.path.join('..','..','data','flickr_all_clean.df'))\n",
    "    print(\"--- %s seconds ---\" % (time.time() - start_time))\n"
   ]
  },
  {
   "cell_type": "code",
   "execution_count": 9,
   "metadata": {
    "collapsed": true
   },
   "outputs": [],
   "source": [
    "keyword = 'football'\n",
    "df = flickr_all_clean[flickr_all_clean['title_tags']\n",
    "                      .str.contains(keyword, na=False)]\n"
   ]
  },
  {
   "cell_type": "code",
   "execution_count": 10,
   "metadata": {
    "collapsed": true
   },
   "outputs": [],
   "source": [
    "# Read KDE map for full database\n",
    "tmp_reload = pickle.load( open(\"kde_all.pkl\", \"rb\" ) )\n",
    "X_all = tmp_reload['X']\n",
    "Y_all = tmp_reload['Y']\n",
    "Z_all = tmp_reload['Z']\n"
   ]
  },
  {
   "cell_type": "markdown",
   "metadata": {},
   "source": [
    "# Run KDE map"
   ]
  },
  {
   "cell_type": "code",
   "execution_count": 12,
   "metadata": {
    "collapsed": false
   },
   "outputs": [
    {
     "name": "stdout",
     "output_type": "stream",
     "text": [
      "--- KDE: 0.022577047348 seconds ---\n",
      "--- Masking: 5.31221294403 seconds ---\n"
     ]
    }
   ],
   "source": [
    "# Select subset based on keyword\n",
    "# Set coordinates for cutout\n",
    "limit_lng = [-123.194178,-121.375941]\n",
    "limit_lat = [36.911135,38.202246]\n",
    "#\n",
    "if len(limit_lng) != 0 and len(limit_lat) != 0:\n",
    "    yin = np.array((df['longitude'][(df['longitude'] > limit_lng[0]) & \n",
    "                                    (df['longitude'] < limit_lng[1]) & \n",
    "                                    (df['latitude'] > limit_lat[0]) & \n",
    "                                    (df['latitude'] < limit_lat[1])].tolist()))\n",
    "\n",
    "    xin = np.array((df['latitude'][(df['longitude'] > limit_lng[0]) & \n",
    "                                   (df['longitude'] < limit_lng[1]) & \n",
    "                                   (df['latitude'] > limit_lat[0]) & \n",
    "                                   (df['latitude'] < limit_lat[1])].tolist()))\n",
    "else:\n",
    "    yin = np.array((df['longitude'][(df['longitude'] != 0.0) & (df['latitude'] != 0.0)].tolist()))\n",
    "    xin = np.array((df['latitude'][(df['longitude'] != 0.0) & (df['latitude'] != 0.0)].tolist()))\n",
    "# build array\n",
    "XY = np.vstack([yin.ravel(), xin.ravel()]).T\n",
    "# Run KDE\n",
    "patch_time = time.time()\n",
    "lng_max = limit_lng[0]\n",
    "lng_min = limit_lng[1]\n",
    "lat_max = limit_lat[0]\n",
    "lat_min = limit_lat[1]\n",
    "# Set up the data grid for the contour plot\n",
    "xgrid = np.linspace(lng_min,lng_max,100)\n",
    "ygrid = np.linspace(lat_min,lat_max,100)\n",
    "X, Y = np.meshgrid(xgrid, ygrid)\n",
    "#\n",
    "xy = np.vstack([Y.ravel(), X.ravel()]).T\n",
    "#\n",
    "Xtrain = np.vstack([xin,yin]).T\n",
    "Xtrain *= np.pi / 180.  # Convert lat/long to radians\n",
    "# \n",
    "kde = KernelDensity(bandwidth=0.0003,algorithm='ball_tree',rtol=1e-4)\n",
    "kde.fit(Xtrain)\n",
    "print(\"--- KDE: %s seconds ---\" % (time.time() - patch_time))\n",
    "# evaluate only on land\n",
    "# Create path for CA \n",
    "patch_time = time.time()\n",
    "bbPath = mplPath.Path(np.transpose(np.array((x_coords,y_coords))),closed=True)\n",
    "land_mask = np.zeros(xy.shape[0], dtype=bool)\n",
    "for idx,tmp_coords in enumerate(xy):\n",
    "    land_mask[idx] = bbPath.contains_point((tmp_coords[1], tmp_coords[0]))\n",
    "print(\"--- Masking: %s seconds ---\" % (time.time() - patch_time))\n",
    "#\n",
    "xy *= np.pi / 180. # Convert lat/long to radians\n",
    "xy = xy[land_mask]\n",
    "Z = -9999 + np.zeros(land_mask.shape[0])\n",
    "Z[land_mask] = np.exp(kde.score_samples(xy))\n",
    "Z = Z.reshape(X.shape)\n"
   ]
  },
  {
   "cell_type": "code",
   "execution_count": null,
   "metadata": {
    "collapsed": true
   },
   "outputs": [],
   "source": []
  },
  {
   "cell_type": "markdown",
   "metadata": {},
   "source": [
    "# Find maxima"
   ]
  },
  {
   "cell_type": "code",
   "execution_count": 13,
   "metadata": {
    "collapsed": false
   },
   "outputs": [
    {
     "name": "stdout",
     "output_type": "stream",
     "text": [
      "Using MEDIAN for cutoff:  8.51612986715e-15\n",
      "--- Find maxima: 0.333333969116 seconds ---\n",
      "Number of Maxima:  56\n"
     ]
    }
   ],
   "source": [
    "# Find local maxima in KDE map\n",
    "patch_time = time.time()\n",
    "level = 10\n",
    "method = 'median'\n",
    "local_maxima_map, cutoff = find_local_max(Z,win=5,style='median', \n",
    "                                          level=level,patch=5,method=method,\n",
    "                                          n_samples=50)\n",
    "xy_maxima = np.array((X.reshape(local_maxima_map.shape)[local_maxima_map],\n",
    "                      Y.reshape(local_maxima_map.shape)[local_maxima_map])).T\n",
    "z_maxima = np.array((Z.reshape(local_maxima_map.shape)[local_maxima_map])).T\n",
    "z_maxima_order = len(z_maxima) + 1 - ss.rankdata(z_maxima,method='dense').astype(int)\n",
    "z_all_maxima = np.array((Z_all.reshape(local_maxima_map.shape)[local_maxima_map])).T\n",
    "z_maxima_ratio = np.divide(z_maxima,z_all_maxima)\n",
    "z_maxima_ratio_order = (len(z_maxima_ratio) + 1 - \n",
    "    ss.rankdata(z_maxima_ratio,method='dense').astype(int))\n",
    "\n",
    "print(\"--- Find maxima: %s seconds ---\" % (time.time() - patch_time))\n",
    "print(\"Number of Maxima: \", len(xy_maxima))"
   ]
  },
  {
   "cell_type": "code",
   "execution_count": null,
   "metadata": {
    "collapsed": true
   },
   "outputs": [],
   "source": []
  },
  {
   "cell_type": "code",
   "execution_count": 14,
   "metadata": {
    "collapsed": false
   },
   "outputs": [
    {
     "name": "stdout",
     "output_type": "stream",
     "text": [
      "--- Detect peaks: 0.00709509849548 seconds ---\n"
     ]
    },
    {
     "name": "stderr",
     "output_type": "stream",
     "text": [
      "/usr/local/lib/python2.7/site-packages/ipykernel/__main__.py:30: DeprecationWarning: numpy boolean subtract, the `-` operator, is deprecated, use the bitwise_xor, the `^` operator, or the logical_xor function instead.\n"
     ]
    }
   ],
   "source": [
    "# Detect peaks\n",
    "patch_time = time.time()\n",
    "xy_detect_peaks = detect_peaks(Z)\n",
    "print(\"--- Detect peaks: %s seconds ---\" % (time.time() - patch_time))\n"
   ]
  },
  {
   "cell_type": "code",
   "execution_count": 16,
   "metadata": {
    "collapsed": false
   },
   "outputs": [
    {
     "name": "stdout",
     "output_type": "stream",
     "text": [
      "--- Detect max: 0.00869703292847 seconds ---\n"
     ]
    }
   ],
   "source": [
    "patch_time = time.time()\n",
    "\n",
    "xy_detect_max = detect_max(Z,cutoff,win=5)    \n",
    "    \n",
    "print(\"--- Detect max: %s seconds ---\" % (time.time() - patch_time))\n"
   ]
  },
  {
   "cell_type": "code",
   "execution_count": null,
   "metadata": {
    "collapsed": true
   },
   "outputs": [],
   "source": []
  },
  {
   "cell_type": "code",
   "execution_count": null,
   "metadata": {
    "collapsed": true
   },
   "outputs": [],
   "source": []
  }
 ],
 "metadata": {
  "kernelspec": {
   "display_name": "Python 2",
   "language": "python",
   "name": "python2"
  },
  "language_info": {
   "codemirror_mode": {
    "name": "ipython",
    "version": 2
   },
   "file_extension": ".py",
   "mimetype": "text/x-python",
   "name": "python",
   "nbconvert_exporter": "python",
   "pygments_lexer": "ipython2",
   "version": "2.7.12"
  }
 },
 "nbformat": 4,
 "nbformat_minor": 0
}
