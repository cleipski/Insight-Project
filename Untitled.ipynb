{
 "cells": [
  {
   "cell_type": "code",
   "execution_count": 1,
   "metadata": {
    "collapsed": false
   },
   "outputs": [
    {
     "name": "stdout",
     "output_type": "stream",
     "text": [
      "[False False False ..., False False False]\n"
     ]
    }
   ],
   "source": [
    "import numpy as np\n",
    "import matplotlib.pyplot as plt\n",
    "from sklearn.datasets import fetch_species_distributions\n",
    "from sklearn.datasets.species_distributions import construct_grids\n",
    "from sklearn.neighbors import KernelDensity\n",
    "\n",
    "# if basemap is available, we'll use it.\n",
    "# otherwise, we'll improvise later...\n",
    "try:\n",
    "    from mpl_toolkits.basemap import Basemap\n",
    "    basemap = True\n",
    "except ImportError:\n",
    "    basemap = False\n",
    "\n",
    "# Get matrices/arrays of species IDs and locations\n",
    "data = fetch_species_distributions()\n",
    "species_names = ['Bradypus Variegatus', 'Microryzomys Minutus']\n",
    "\n",
    "Xtrain = np.vstack([data['train']['dd lat'],\n",
    "                    data['train']['dd long']]).T\n",
    "ytrain = np.array([d.decode('ascii').startswith('micro')\n",
    "                  for d in data['train']['species']], dtype='int')\n",
    "Xtrain *= np.pi / 180.  # Convert lat/long to radians\n",
    "\n",
    "# Set up the data grid for the contour plot\n",
    "xgrid, ygrid = construct_grids(data)\n",
    "X, Y = np.meshgrid(xgrid[::5], ygrid[::5][::-1])\n",
    "land_reference = data.coverages[6][::5, ::5]\n",
    "land_mask = (land_reference > -9999).ravel()\n",
    "\n",
    "print(land_mask)\n",
    "\n",
    "# xy = np.vstack([Y.ravel(), X.ravel()]).T\n",
    "# xy = xy[land_mask]\n",
    "# xy *= np.pi / 180.\n",
    "\n",
    "# # Plot map of South America with distributions of each species\n",
    "# fig = plt.figure()\n",
    "# fig.subplots_adjust(left=0.05, right=0.95, wspace=0.05)\n",
    "\n",
    "# for i in range(2):\n",
    "#     plt.subplot(1, 2, i + 1)\n",
    "\n",
    "#     # construct a kernel density estimate of the distribution\n",
    "#     print(\" - computing KDE in spherical coordinates\")\n",
    "#     kde = KernelDensity(bandwidth=0.004, metric='haversine',\n",
    "#                         kernel='gaussian', algorithm='ball_tree')\n",
    "#     kde.fit(Xtrain[ytrain == i])\n",
    "\n",
    "#     # evaluate only on the land: -9999 indicates ocean\n",
    "#     Z = -9999 + np.zeros(land_mask.shape[0])\n",
    "#     Z[land_mask] = np.exp(kde.score_samples(xy))\n",
    "#     Z = Z.reshape(X.shape)\n",
    "\n",
    "#     # plot contours of the density\n",
    "#     levels = np.linspace(0, Z.max(), 25)\n",
    "#     plt.contourf(X, Y, Z, levels=levels, cmap=plt.cm.Reds)\n",
    "\n",
    "#     if basemap:\n",
    "#         print(\" - plot coastlines using basemap\")\n",
    "#         m = Basemap(projection='cyl', llcrnrlat=Y.min(),\n",
    "#                     urcrnrlat=Y.max(), llcrnrlon=X.min(),\n",
    "#                     urcrnrlon=X.max(), resolution='c')\n",
    "#         m.drawcoastlines()\n",
    "#         m.drawcountries()\n",
    "#     else:\n",
    "#         print(\" - plot coastlines from coverage\")\n",
    "#         plt.contour(X, Y, land_reference,\n",
    "#                     levels=[-9999], colors=\"k\",\n",
    "#                     linestyles=\"solid\")\n",
    "#         plt.xticks([])\n",
    "#         plt.yticks([])\n",
    "\n",
    "#     plt.title(species_names[i])\n",
    "\n",
    "# plt.show()"
   ]
  },
  {
   "cell_type": "code",
   "execution_count": 6,
   "metadata": {
    "collapsed": false
   },
   "outputs": [
    {
     "name": "stdout",
     "output_type": "stream",
     "text": [
      "28008\n",
      "[[ 0.41015237 -1.35699349]\n",
      " [ 0.41015237 -1.35263017]\n",
      " [ 0.41015237 -1.33081355]\n",
      " ..., \n",
      " [-0.97738438 -1.17809725]\n",
      " [-0.97738438 -1.17373392]\n",
      " [-0.97738438 -1.1693706 ]]\n"
     ]
    }
   ],
   "source": [
    "print(len(xy))\n",
    "print(xy)"
   ]
  },
  {
   "cell_type": "code",
   "execution_count": 3,
   "metadata": {
    "collapsed": false
   },
   "outputs": [
    {
     "name": "stdout",
     "output_type": "stream",
     "text": [
      "1624\n"
     ]
    }
   ],
   "source": [
    "print(len(Xtrain))"
   ]
  },
  {
   "cell_type": "code",
   "execution_count": 4,
   "metadata": {
    "collapsed": false
   },
   "outputs": [
    {
     "name": "stdout",
     "output_type": "stream",
     "text": [
      "1624\n"
     ]
    }
   ],
   "source": [
    "print(len(data['train']['dd lat']))"
   ]
  },
  {
   "cell_type": "code",
   "execution_count": 5,
   "metadata": {
    "collapsed": false
   },
   "outputs": [
    {
     "name": "stdout",
     "output_type": "stream",
     "text": [
      "[[-0.31154129 -1.129228  ]\n",
      " [-0.28506985 -1.18391442]\n",
      " [-0.28448865 -1.18478715]\n",
      " ..., \n",
      " [-0.00523599 -1.36950219]\n",
      " [ 0.01047198 -1.35815763]\n",
      " [ 0.08668474 -1.31568682]]\n"
     ]
    }
   ],
   "source": [
    "print(Xtrain)"
   ]
  },
  {
   "cell_type": "code",
   "execution_count": null,
   "metadata": {
    "collapsed": true
   },
   "outputs": [],
   "source": []
  }
 ],
 "metadata": {
  "kernelspec": {
   "display_name": "Python 2",
   "language": "python",
   "name": "python2"
  },
  "language_info": {
   "codemirror_mode": {
    "name": "ipython",
    "version": 2
   },
   "file_extension": ".py",
   "mimetype": "text/x-python",
   "name": "python",
   "nbconvert_exporter": "python",
   "pygments_lexer": "ipython2",
   "version": "2.7.12"
  }
 },
 "nbformat": 4,
 "nbformat_minor": 0
}
