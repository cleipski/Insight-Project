{
 "cells": [
  {
   "cell_type": "code",
   "execution_count": 1,
   "metadata": {
    "collapsed": true
   },
   "outputs": [],
   "source": [
    "from __future__ import absolute_import, division, print_function"
   ]
  },
  {
   "cell_type": "markdown",
   "metadata": {},
   "source": [
    "# Handling Census shapefiles\n",
    "\n",
    "In this notebook I will experiment on the use of Census shapefiles. These files encode the boundaries of the urbanized areas as identified in the U.S. Census.\n",
    "\n",
    "The data were downloaded from \n",
    "http://www2.census.gov/geo/tiger/TIGER2010/UA/2010/\n",
    "via\n",
    "https://www.census.gov/geo/reference/ua/urban-rural-2010.html\n",
    "\n",
    "\n",
    "See https://glenbambrick.com/tag/pyshp/ for a very useful demo."
   ]
  },
  {
   "cell_type": "code",
   "execution_count": 1,
   "metadata": {
    "collapsed": false
   },
   "outputs": [],
   "source": [
    "import os\n",
    "import json\n",
    "import pandas as pd\n",
    "import glob\n",
    "import numpy as np\n",
    "import shapefile as sf\n",
    "from pyproj import Proj, transform\n",
    "import matplotlib as mpl\n",
    "import matplotlib.pyplot as plt\n",
    "import time\n",
    "import copy\n",
    "\n",
    "## Python packages - you may have to pip install sqlalchemy, sqlalchemy_utils, and psycopg2.\n",
    "from sqlalchemy import create_engine\n",
    "from sqlalchemy_utils import database_exists, create_database\n",
    "import psycopg2\n",
    "\n",
    "%matplotlib inline\n",
    "mpl.rcParams['figure.figsize'] = 15, 6\n"
   ]
  },
  {
   "cell_type": "code",
   "execution_count": 3,
   "metadata": {
    "collapsed": true
   },
   "outputs": [],
   "source": [
    "def extract_coords(feature):\n",
    "    \"\"\"\n",
    "    Extract coordinates from a shapefile feature.\n",
    "    \"\"\"    \n",
    "    # if there is only one part\n",
    "    if len(feature.parts) == 1:\n",
    "        # create empty list to store all the coordinates\n",
    "        poly_list = []\n",
    "        # get each coord that makes up the polygon\n",
    "        for coords in feature.points:\n",
    "            x, y = coords[0], coords[1]\n",
    "            poly_coord = [float(x), float(y)]\n",
    "            # append the coords to the polygon list\n",
    "            poly_list.append(poly_coord)\n",
    "    # Handle geometries with multiple parts\n",
    "    else:\n",
    "        print('Multi-part file!')\n",
    "        # append the total amount of points to the end of the parts list\n",
    "        feature.parts.append(len(feature.points))\n",
    "        # enpty list to store all the parts that make up the complete feature\n",
    "        poly_list = []\n",
    "        # keep track of the part being added\n",
    "        parts_counter = 0\n",
    "        # while the parts_counter is less than the amount of parts\n",
    "        while parts_counter < len(feature.parts) - 1:\n",
    "            # keep track of the amount of points added to the feature\n",
    "            coord_count = feature.parts[parts_counter]\n",
    "            # number of points in each part\n",
    "            no_of_points = abs(feature.parts[parts_counter] - feature.parts[parts_counter + 1])\n",
    "            # create list to hold individual parts - these get added to poly_list[]\n",
    "            part_list = []\n",
    "            # cut off point for each part\n",
    "            end_point = coord_count + no_of_points\n",
    "            # loop through each part\n",
    "            while coord_count < end_point:\n",
    "                for coords in feature.points[coord_count:end_point]:\n",
    "                    x, y = coords[0], coords[1]\n",
    "                    poly_coord = [float(x), float(y)]\n",
    "                    # append the coords to the part list\n",
    "                    part_list.append(poly_coord)\n",
    "                    coord_count = coord_count + 1\n",
    "            # append the part to the poly_list\n",
    "            poly_list.append(part_list)\n",
    "            parts_counter = parts_counter + 1\n",
    "    return poly_list"
   ]
  },
  {
   "cell_type": "markdown",
   "metadata": {},
   "source": [
    "# State of California"
   ]
  },
  {
   "cell_type": "code",
   "execution_count": 4,
   "metadata": {
    "collapsed": true
   },
   "outputs": [],
   "source": [
    "# State of California shape file\n",
    "org_dir = os.path.join('..','data','urbanized_areas','cb_2015_us_state_500k')\n",
    "shp_file = os.path.join(org_dir,'cb_2015_us_state_500k.shp')"
   ]
  },
  {
   "cell_type": "code",
   "execution_count": 5,
   "metadata": {
    "collapsed": false
   },
   "outputs": [],
   "source": [
    "# Read shapefile\n",
    "shpf = sf.Reader(shp_file)\n",
    "# Create a variable to access the records\n",
    "records = shpf.records()"
   ]
  },
  {
   "cell_type": "code",
   "execution_count": 6,
   "metadata": {
    "collapsed": false
   },
   "outputs": [
    {
     "name": "stdout",
     "output_type": "stream",
     "text": [
      "0 ['31', '01779792', '0400000US31', '31', 'NE', 'Nebraska', '00', 198972429772, 1356294775]\n",
      "1 ['53', '01779804', '0400000US53', '53', 'WA', 'Washington', '00', 172121026344, 12540093192]\n",
      "2 ['35', '00897535', '0400000US35', '35', 'NM', 'New Mexico', '00', 314161426332, 755674004]\n"
     ]
    }
   ],
   "source": [
    "# Find column which contains the State abbreviation\n",
    "name_list = []\n",
    "lat_list = []\n",
    "long_list = []\n",
    "for idx,row in enumerate(records):\n",
    "    if idx < 3:\n",
    "        print(idx,row)\n"
   ]
  },
  {
   "cell_type": "code",
   "execution_count": 7,
   "metadata": {
    "collapsed": false
   },
   "outputs": [
    {
     "name": "stdout",
     "output_type": "stream",
     "text": [
      "53 ['06', '01779778', '0400000US06', '06', 'CA', 'California', '00', 403488955894, 20477992907]\n"
     ]
    }
   ],
   "source": [
    "# 4th column contains state (zero indexed)\n",
    "sub = 'CA'\n",
    "name_list = []\n",
    "lat_list = []\n",
    "long_list = []\n",
    "for idx,row in enumerate(records):\n",
    "    if sub in row[4]:\n",
    "        print(idx,row)\n",
    "\n",
    "# 'CA' column 4, row index 53 (both zero indexed)"
   ]
  },
  {
   "cell_type": "code",
   "execution_count": 8,
   "metadata": {
    "collapsed": true
   },
   "outputs": [],
   "source": [
    "# access the geometry of the features\n",
    "geom = shpf.shapes()"
   ]
  },
  {
   "cell_type": "code",
   "execution_count": 9,
   "metadata": {
    "collapsed": false
   },
   "outputs": [
    {
     "name": "stdout",
     "output_type": "stream",
     "text": [
      "Multi-part file!\n"
     ]
    }
   ],
   "source": [
    "# Extract the coordinates\n",
    "feature = geom[53]\n",
    "poly_list_ca = extract_coords(feature)\n"
   ]
  },
  {
   "cell_type": "code",
   "execution_count": 10,
   "metadata": {
    "collapsed": false
   },
   "outputs": [
    {
     "name": "stdout",
     "output_type": "stream",
     "text": [
      "Max. length: 4395\n",
      "At index: [12]\n"
     ]
    }
   ],
   "source": [
    "# Find longest sub-list to identify general state outline, ignoring islands and such\n",
    "index_list = []\n",
    "length_list = []\n",
    "for idx,sublist in enumerate(poly_list_ca):\n",
    "    index_list.append(idx)\n",
    "    length_list.append(len(sublist))\n",
    "    \n",
    "max_len = max(length_list)\n",
    "print('Max. length:', max_len)\n",
    "max_index = [index for idx,index in enumerate(index_list) if length_list[idx] == max_len]\n",
    "print('At index:', max_index)"
   ]
  },
  {
   "cell_type": "code",
   "execution_count": 11,
   "metadata": {
    "collapsed": false
   },
   "outputs": [
    {
     "data": {
      "image/png": "[encoded data removed]",
      "text/plain": [
       "<matplotlib.figure.Figure at 0x1135ec9d0>"
      ]
     },
     "metadata": {},
     "output_type": "display_data"
    }
   ],
   "source": [
    "# plot and save coordinates for state of CA\n",
    "plt.figure(figsize=(10,10))\n",
    "for idx,tmp_list in enumerate(poly_list_ca):\n",
    "    if idx == 12:\n",
    "        x_coords = [x[0] for x in tmp_list]\n",
    "        y_coords = [x[1] for x in tmp_list]\n",
    "        x_coords_cal = x_coords\n",
    "        y_coords_cal = y_coords\n",
    "\n",
    "plt.plot(x_coords_cal,y_coords_cal)\n",
    "plt.xlim(-123,-121.5)\n",
    "plt.ylim(37,38.5)  \n",
    "plt.show()"
   ]
  },
  {
   "cell_type": "code",
   "execution_count": 90,
   "metadata": {
    "collapsed": false
   },
   "outputs": [],
   "source": [
    "# save CA shape to disk\n",
    "outfile = os.path.join('..','data','ca_shape.csv')\n",
    "out = open(outfile,\"w\")\n",
    "out.write('longitude,latitude\\n')\n",
    "for idx,coord in enumerate(x_coords_cal):\n",
    "    out.write('{},{}\\n'.format(coord,y_coords_cal[idx]))\n",
    "out.close()\n",
    "              \n",
    "              \n",
    "\n"
   ]
  },
  {
   "cell_type": "code",
   "execution_count": null,
   "metadata": {
    "collapsed": true
   },
   "outputs": [],
   "source": []
  },
  {
   "cell_type": "code",
   "execution_count": null,
   "metadata": {
    "collapsed": true
   },
   "outputs": [],
   "source": []
  },
  {
   "cell_type": "code",
   "execution_count": null,
   "metadata": {
    "collapsed": true
   },
   "outputs": [],
   "source": []
  },
  {
   "cell_type": "markdown",
   "metadata": {},
   "source": [
    "# Urbanized areas for California"
   ]
  },
  {
   "cell_type": "code",
   "execution_count": 12,
   "metadata": {
    "collapsed": false
   },
   "outputs": [
    {
     "name": "stdout",
     "output_type": "stream",
     "text": [
      "Multi-part file!\n"
     ]
    }
   ],
   "source": [
    "# Now, read the urabnized area file for CA\n",
    "org_dir = os.path.join('..','data','urbanized_areas','tl_2010_us_uac10')\n",
    "shp_file = os.path.join(org_dir,'tl_2010_us_uac10.shp')\n",
    "# Read shapefile\n",
    "shpf = sf.Reader(shp_file)\n",
    "# Create a variable to access the records\n",
    "records = shpf.records()\n",
    "# access the geometry of the features\n",
    "geom = shpf.shapes()\n",
    "# get the coordinates for sj\n",
    "feature = geom[1176]\n",
    "poly_list_sj = extract_coords(feature)"
   ]
  },
  {
   "cell_type": "code",
   "execution_count": 13,
   "metadata": {
    "collapsed": false
   },
   "outputs": [
    {
     "data": {
      "image/png": "[encoded data removed]",
      "text/plain": [
       "<matplotlib.figure.Figure at 0x113966d50>"
      ]
     },
     "metadata": {},
     "output_type": "display_data"
    }
   ],
   "source": [
    "# plot CA and SJ\n",
    "plt.figure(figsize=(10,10))\n",
    "plt.plot(x_coords_cal,y_coords_cal)\n",
    "plt.xlim(-123,-121.5)\n",
    "plt.ylim(37,38.5)  \n",
    "for tmp_list in poly_list_sj:\n",
    "    x_coords = [x[0] for x in tmp_list]\n",
    "    y_coords = [x[1] for x in tmp_list]\n",
    "    plt.plot(x_coords,y_coords)\n",
    "plt.show()"
   ]
  },
  {
   "cell_type": "markdown",
   "metadata": {},
   "source": [
    "## Explore which locations are close to bay area"
   ]
  },
  {
   "cell_type": "code",
   "execution_count": 16,
   "metadata": {
    "collapsed": false
   },
   "outputs": [],
   "source": [
    "# extract long/lat of all cities. 3rd row contains city information\n",
    "sub = 'CA'\n",
    "name_list = []\n",
    "lat_list = []\n",
    "long_list = []\n",
    "for idx,row in enumerate(records):\n",
    "    if sub in row[2]:\n",
    "        name_list.append(row[2])\n",
    "        lat_list.append(row[10])\n",
    "        long_list.append(row[11])\n"
   ]
  },
  {
   "cell_type": "code",
   "execution_count": 17,
   "metadata": {
    "collapsed": false
   },
   "outputs": [
    {
     "data": {
      "image/png": "[encoded data removed]",
      "text/plain": [
       "<matplotlib.figure.Figure at 0x1136a7d10>"
      ]
     },
     "metadata": {},
     "output_type": "display_data"
    }
   ],
   "source": [
    "# plot CA, SJ, and cities\n",
    "fig = plt.figure(figsize=(10,10))\n",
    "ax = fig.add_subplot(111)\n",
    "plt.plot(x_coords_cal,y_coords_cal)\n",
    "plt.xlim(-123,-121.5)\n",
    "plt.ylim(36.5,38.5)  \n",
    "for tmp_list in poly_list_sj:\n",
    "    x_coords = [x[0] for x in tmp_list]\n",
    "    y_coords = [x[1] for x in tmp_list]\n",
    "    plt.plot(x_coords,y_coords)\n",
    "for idx,tmp_long in enumerate(long_list):\n",
    "    plt.scatter(tmp_long,lat_list[idx],color='red')\n",
    "    #print(name_list[idx])\n",
    "    ax.annotate(name_list[idx], (tmp_long,lat_list[idx]))\n",
    "\n",
    "plt.show()"
   ]
  },
  {
   "cell_type": "code",
   "execution_count": 18,
   "metadata": {
    "collapsed": true
   },
   "outputs": [],
   "source": [
    "# According to the graph above, we need to extract shapefiles for the following urban areas:\n",
    "urban_area_list = {\n",
    "    'Petaluma': 'pet',\n",
    "    'Sonoma': 'son',\n",
    "    'Yountville': 'yount',\n",
    "    'Napa': 'napa',\n",
    "    'Vallejo': 'val',\n",
    "    'Concord': 'conc',\n",
    "    'San Francisco': 'sf',\n",
    "    'San Jose': 'sj',\n",
    "    'Santa Cruz': 'sc',\n",
    "    'Half Moon Bay': 'hmb',}"
   ]
  },
  {
   "cell_type": "code",
   "execution_count": 19,
   "metadata": {
    "collapsed": false
   },
   "outputs": [
    {
     "name": "stdout",
     "output_type": "stream",
     "text": [
      "{'val': 1208, 'pet': 1049, 'son': 1191, 'sj': 1176, 'conc': 777, 'hmb': 990, 'napa': 1036, 'sc': 1180, 'sf': 1173, 'yount': 1223}\n"
     ]
    }
   ],
   "source": [
    "# find index for selected urban areas\n",
    "urban_area_list_idx = {}\n",
    "for urban_area in urban_area_list.keys():\n",
    "    tmp_val = urban_area_list[urban_area]\n",
    "    for idx,row in enumerate(records):\n",
    "        if urban_area in row[2] and 'CA' in row[2]:\n",
    "            urban_area_list_idx[tmp_val] = idx\n",
    "print(urban_area_list_idx)"
   ]
  },
  {
   "cell_type": "code",
   "execution_count": 20,
   "metadata": {
    "collapsed": false
   },
   "outputs": [
    {
     "name": "stdout",
     "output_type": "stream",
     "text": [
      "Multi-part file!\n",
      "Multi-part file!\n",
      "Multi-part file!\n",
      "Multi-part file!\n",
      "Multi-part file!\n",
      "Multi-part file!\n"
     ]
    }
   ],
   "source": [
    "# get coordinates for each of the urban areas\n",
    "urban_area_list_coords = {}\n",
    "for urban_area in urban_area_list_idx.keys():\n",
    "    tmp_idx = urban_area_list_idx[urban_area]\n",
    "    feature = geom[tmp_idx]\n",
    "    poly_list = extract_coords(feature)\n",
    "    urban_area_list_coords[urban_area] = poly_list"
   ]
  },
  {
   "cell_type": "code",
   "execution_count": 21,
   "metadata": {
    "collapsed": false,
    "scrolled": false
   },
   "outputs": [
    {
     "name": "stdout",
     "output_type": "stream",
     "text": [
      "[[-124.408601   -124.396642   -124.395598   ..., -124.407915   -124.409591\n",
      "  -124.408601  ]\n",
      " [  40.443201     40.462119     40.46459036 ...,   40.435971     40.438076\n",
      "    40.443201  ]]\n"
     ]
    }
   ],
   "source": [
    "out = np.array((x_coords_cal,y_coords_cal))\n",
    "print(out)"
   ]
  },
  {
   "cell_type": "code",
   "execution_count": 22,
   "metadata": {
    "collapsed": false
   },
   "outputs": [
    {
     "name": "stdout",
     "output_type": "stream",
     "text": [
      "[[-124.408601     40.443201  ]\n",
      " [-124.396642     40.462119  ]\n",
      " [-124.395598     40.46459036]\n",
      " ..., \n",
      " [-124.407915     40.435971  ]\n",
      " [-124.409591     40.438076  ]\n",
      " [-124.408601     40.443201  ]]\n"
     ]
    }
   ],
   "source": [
    "print(np.transpose(out))"
   ]
  },
  {
   "cell_type": "code",
   "execution_count": 23,
   "metadata": {
    "collapsed": false
   },
   "outputs": [
    {
     "data": {
      "text/plain": [
       "array([[ 0.44916747,  0.6662269 ],\n",
       "       [ 0.92666141,  0.97578522],\n",
       "       [ 0.07948981,  0.22386733],\n",
       "       [ 0.76777018,  0.0161489 ],\n",
       "       [ 0.51461222,  0.53261677],\n",
       "       [ 0.29369951,  0.73447599],\n",
       "       [ 0.62848594,  0.55826662],\n",
       "       [ 0.47481005,  0.49293619],\n",
       "       [ 0.5039105 ,  0.06446806],\n",
       "       [ 0.50398309,  0.36161844]])"
      ]
     },
     "execution_count": 23,
     "metadata": {},
     "output_type": "execute_result"
    }
   ],
   "source": [
    "np.random.rand(10, 2)"
   ]
  },
  {
   "cell_type": "code",
   "execution_count": 24,
   "metadata": {
    "collapsed": false,
    "scrolled": false
   },
   "outputs": [
    {
     "data": {
      "image/png": "[encoded data removed]",
      "text/plain": [
       "<matplotlib.figure.Figure at 0x1129d2bd0>"
      ]
     },
     "metadata": {},
     "output_type": "display_data"
    }
   ],
   "source": [
    "from matplotlib.patches import Polygon\n",
    "from matplotlib.collections import PatchCollection\n",
    "fig = plt.figure(figsize=(10,10))\n",
    "ax = fig.add_subplot(111)\n",
    "# Create patches list\n",
    "patches = []\n",
    "colors = []\n",
    "# Create polygon for CA outline and attach to pacthes list\n",
    "polygon = Polygon(np.transpose(np.array((x_coords_cal,y_coords_cal))), True)\n",
    "patches.append(polygon)\n",
    "colors.append('0.75')\n",
    "# Create polygon for urbanized areas and attach to pactheslist\n",
    "for urban_area in urban_area_list_coords.keys():\n",
    "    tmp_list = urban_area_list_coords[urban_area]\n",
    "    try:\n",
    "        for coord_list in tmp_list:\n",
    "            x_coords = [x[0] for x in coord_list]\n",
    "            y_coords = [x[1] for x in coord_list]\n",
    "            polygon = Polygon(np.transpose(np.array((x_coords,y_coords))), True)\n",
    "            patches.append(polygon)\n",
    "            colors.append('Blue')\n",
    "    except:\n",
    "        pass\n",
    "#         x_coords = [x[0] for x in tmp_list]\n",
    "#         y_coords = [x[1] for x in tmp_list]\n",
    "#         polygon = Polygon(np.transpose(np.array((x_coords,y_coords))), True)\n",
    "#         patches.append(polygon)\n",
    "#         color.append('Red')\n",
    "\n",
    "\n",
    "plt.xlim(-123,-121.5)\n",
    "plt.ylim(36.5,38.5)  \n",
    "\n",
    "collection = PatchCollection(patches)\n",
    "ax.add_collection(collection)\n",
    "collection.set_color(colors)\n",
    "plt.show()"
   ]
  },
  {
   "cell_type": "markdown",
   "metadata": {},
   "source": [
    "# Extract data"
   ]
  },
  {
   "cell_type": "code",
   "execution_count": 3,
   "metadata": {
    "collapsed": false
   },
   "outputs": [],
   "source": [
    "# Add observed data\n",
    "#In Python: Define a database name (we're using a dataset on births, so I call it \n",
    "# birth_db), and your username and password used above. \n",
    "dbname = 'flickr_db'\n",
    "#username = 'username'\n",
    "#pswd = 'password'\n",
    "## 'engine' is a connection to a database\n",
    "## Here, we're using postgres, but sqlalchemy can connect to other things too.\n",
    "#engine = create_engine('postgresql://%s:%s@localhost/%s'%(username,pswd,dbname))\n",
    "engine = create_engine('postgresql://@localhost/%s'%(dbname))\n",
    "# Connect to an existing database\n",
    "conn = psycopg2.connect(\"dbname=flickr_db\")\n",
    "# Open a cursor to perform database operations\n",
    "cur = conn.cursor()\n"
   ]
  },
  {
   "cell_type": "code",
   "execution_count": 27,
   "metadata": {
    "collapsed": false
   },
   "outputs": [],
   "source": [
    "# Fetch data with unique id'd\n",
    "# But for some reason, county was not commited\n",
    "sql_string = \"\"\"\n",
    "Select Min(longitude) As longitude\n",
    "    , id, latitude\n",
    "From flickr_all\n",
    "Group By id;\n",
    "\"\"\"\n",
    "sql_string = \"\"\"\n",
    "select * from flickr_all where\n",
    "longitude in (Select max(longitude) FROM flickr_all group by id)\n",
    "\"\"\"\n",
    "sql_string = \"\"\"\n",
    "select id,longitude,latitude from flickr_all where\n",
    "longitude in (Select max(longitude) FROM flickr_all group by id)\n",
    "\"\"\"\n",
    "\n",
    "sql_string = \"SELECT longitude FROM flickr_all WHERE id = '653243567'\"\n",
    "\n",
    "cur.execute(sql_string)\n",
    "rows = cur.fetchall()"
   ]
  },
  {
   "cell_type": "code",
   "execution_count": 226,
   "metadata": {
    "collapsed": true
   },
   "outputs": [],
   "source": [
    "import copy\n",
    "final_rows = copy.copy(rows)\n"
   ]
  },
  {
   "cell_type": "code",
   "execution_count": 228,
   "metadata": {
    "collapsed": false
   },
   "outputs": [
    {
     "name": "stdout",
     "output_type": "stream",
     "text": [
      "[(-122.302,), (-122.302,), (-122.302,)]\n"
     ]
    }
   ],
   "source": [
    "print(final_rows)"
   ]
  },
  {
   "cell_type": "code",
   "execution_count": 227,
   "metadata": {
    "collapsed": false
   },
   "outputs": [
    {
     "name": "stdout",
     "output_type": "stream",
     "text": [
      "3\n"
     ]
    }
   ],
   "source": [
    "# ceck output\n",
    "print(len(final_rows))"
   ]
  },
  {
   "cell_type": "code",
   "execution_count": 6,
   "metadata": {
    "collapsed": false
   },
   "outputs": [
    {
     "data": {
      "text/html": [
       "<div>\n",
       "<table border=\"1\" class=\"dataframe\">\n",
       "  <thead>\n",
       "    <tr style=\"text-align: right;\">\n",
       "      <th></th>\n",
       "      <th>id</th>\n",
       "      <th>longitude</th>\n",
       "      <th>latitude</th>\n",
       "    </tr>\n",
       "  </thead>\n",
       "  <tbody>\n",
       "    <tr>\n",
       "      <th>0</th>\n",
       "      <td>653243567</td>\n",
       "      <td>-122.302</td>\n",
       "      <td>37.7725</td>\n",
       "    </tr>\n",
       "    <tr>\n",
       "      <th>1</th>\n",
       "      <td>654102470</td>\n",
       "      <td>-122.302</td>\n",
       "      <td>37.7725</td>\n",
       "    </tr>\n",
       "    <tr>\n",
       "      <th>2</th>\n",
       "      <td>965675667</td>\n",
       "      <td>-122.064</td>\n",
       "      <td>37.8933</td>\n",
       "    </tr>\n",
       "    <tr>\n",
       "      <th>3</th>\n",
       "      <td>965675059</td>\n",
       "      <td>-122.064</td>\n",
       "      <td>37.8933</td>\n",
       "    </tr>\n",
       "    <tr>\n",
       "      <th>4</th>\n",
       "      <td>965674609</td>\n",
       "      <td>-122.204</td>\n",
       "      <td>37.8013</td>\n",
       "    </tr>\n",
       "  </tbody>\n",
       "</table>\n",
       "</div>"
      ],
      "text/plain": [
       "          id  longitude  latitude\n",
       "0  653243567   -122.302   37.7725\n",
       "1  654102470   -122.302   37.7725\n",
       "2  965675667   -122.064   37.8933\n",
       "3  965675059   -122.064   37.8933\n",
       "4  965674609   -122.204   37.8013"
      ]
     },
     "execution_count": 6,
     "metadata": {},
     "output_type": "execute_result"
    }
   ],
   "source": [
    "#Go directly into pands?\n",
    "\n",
    "sql_query = \"\"\"\n",
    "SELECT id,longitude,latitude FROM flickr_all;\n",
    "\"\"\"\n",
    "\n",
    "flickr_fom_sql = pd.read_sql_query(sql_query,conn)\n",
    "\n",
    "flickr_fom_sql.head()"
   ]
  },
  {
   "cell_type": "code",
   "execution_count": 7,
   "metadata": {
    "collapsed": false
   },
   "outputs": [
    {
     "data": {
      "text/plain": [
       "(8310560, 3)"
      ]
     },
     "execution_count": 7,
     "metadata": {},
     "output_type": "execute_result"
    }
   ],
   "source": [
    "flickr_fom_sql.shape"
   ]
  },
  {
   "cell_type": "code",
   "execution_count": 8,
   "metadata": {
    "collapsed": true
   },
   "outputs": [],
   "source": [
    "flickr_fom_sql_unique = flickr_fom_sql.drop_duplicates(subset='id',keep='first')"
   ]
  },
  {
   "cell_type": "code",
   "execution_count": 9,
   "metadata": {
    "collapsed": false
   },
   "outputs": [
    {
     "data": {
      "text/plain": [
       "(4913276, 3)"
      ]
     },
     "execution_count": 9,
     "metadata": {},
     "output_type": "execute_result"
    }
   ],
   "source": [
    "flickr_fom_sql_unique.shape"
   ]
  },
  {
   "cell_type": "code",
   "execution_count": 229,
   "metadata": {
    "collapsed": false
   },
   "outputs": [
    {
     "name": "stdout",
     "output_type": "stream",
     "text": [
      "4913276\n",
      "-122.302\n"
     ]
    }
   ],
   "source": [
    "print(flickr_fom_sql_unique.shape[0])\n",
    "print(flickr_fom_sql_unique['longitude'][0])"
   ]
  },
  {
   "cell_type": "code",
   "execution_count": 240,
   "metadata": {
    "collapsed": true
   },
   "outputs": [],
   "source": [
    "flickr_lng = flickr_fom_sql_unique['longitude'].tolist()\n",
    "flickr_lat = flickr_fom_sql_unique['latitude'].tolist()"
   ]
  },
  {
   "cell_type": "code",
   "execution_count": 244,
   "metadata": {
    "collapsed": false
   },
   "outputs": [
    {
     "name": "stdout",
     "output_type": "stream",
     "text": [
      "[-122.30200000000001, -122.30200000000001, -122.06399999999999, -122.06399999999999, -122.20399999999999, -122.20399999999999, -122.20399999999999, -122.20399999999999, -122.20399999999999, -122.20399999999999]\n"
     ]
    }
   ],
   "source": [
    "print(flickr_lng[0:10])"
   ]
  },
  {
   "cell_type": "code",
   "execution_count": null,
   "metadata": {
    "collapsed": true
   },
   "outputs": [],
   "source": []
  },
  {
   "cell_type": "markdown",
   "metadata": {},
   "source": [
    "# Making further selections on data\n",
    "\n",
    "Take the source data and select:\n",
    "\n",
    "* all rows that could contain a keyword (title, tags,) and other, potentially interesting columns (id, longitude, latitude, dateupload, datetaken).\n"
   ]
  },
  {
   "cell_type": "code",
   "execution_count": 4,
   "metadata": {
    "collapsed": false
   },
   "outputs": [],
   "source": [
    "# Go directly into pandas?\n",
    "\n",
    "sql_query = \"\"\"\n",
    "SELECT id,longitude,latitude,title,tags,dateupload,datetaken FROM flickr_all;\n",
    "\"\"\"\n",
    "flickr_fom_sql = pd.read_sql_query(sql_query,conn)\n"
   ]
  },
  {
   "cell_type": "code",
   "execution_count": 5,
   "metadata": {
    "collapsed": false
   },
   "outputs": [
    {
     "data": {
      "text/html": [
       "<div>\n",
       "<table border=\"1\" class=\"dataframe\">\n",
       "  <thead>\n",
       "    <tr style=\"text-align: right;\">\n",
       "      <th></th>\n",
       "      <th>id</th>\n",
       "      <th>longitude</th>\n",
       "      <th>latitude</th>\n",
       "      <th>title</th>\n",
       "      <th>tags</th>\n",
       "      <th>dateupload</th>\n",
       "      <th>datetaken</th>\n",
       "    </tr>\n",
       "  </thead>\n",
       "  <tbody>\n",
       "    <tr>\n",
       "      <th>0</th>\n",
       "      <td>653243567</td>\n",
       "      <td>-122.302</td>\n",
       "      <td>37.7725</td>\n",
       "      <td>CV18Ashtray</td>\n",
       "      <td>california museum ship ashtray aircraftcarrier...</td>\n",
       "      <td>1010011648</td>\n",
       "      <td>2007-06-28 16:33:50</td>\n",
       "    </tr>\n",
       "    <tr>\n",
       "      <th>1</th>\n",
       "      <td>654102470</td>\n",
       "      <td>-122.302</td>\n",
       "      <td>37.7725</td>\n",
       "      <td>waspcomp</td>\n",
       "      <td>california museum ship rack aircraftcarrier al...</td>\n",
       "      <td>1010011643</td>\n",
       "      <td>2007-06-28 16:33:48</td>\n",
       "    </tr>\n",
       "    <tr>\n",
       "      <th>2</th>\n",
       "      <td>965675667</td>\n",
       "      <td>-122.064</td>\n",
       "      <td>37.8933</td>\n",
       "      <td>IM000519</td>\n",
       "      <td></td>\n",
       "      <td>1003836744</td>\n",
       "      <td>2001-10-18 14:56:11</td>\n",
       "    </tr>\n",
       "    <tr>\n",
       "      <th>3</th>\n",
       "      <td>965675059</td>\n",
       "      <td>-122.064</td>\n",
       "      <td>37.8933</td>\n",
       "      <td>IM000518</td>\n",
       "      <td></td>\n",
       "      <td>1003836684</td>\n",
       "      <td>2001-10-18 14:55:54</td>\n",
       "    </tr>\n",
       "    <tr>\n",
       "      <th>4</th>\n",
       "      <td>965674609</td>\n",
       "      <td>-122.204</td>\n",
       "      <td>37.8013</td>\n",
       "      <td>IM000515</td>\n",
       "      <td></td>\n",
       "      <td>1003836623</td>\n",
       "      <td>2001-10-17 17:37:57</td>\n",
       "    </tr>\n",
       "  </tbody>\n",
       "</table>\n",
       "</div>"
      ],
      "text/plain": [
       "          id  longitude  latitude        title  \\\n",
       "0  653243567   -122.302   37.7725  CV18Ashtray   \n",
       "1  654102470   -122.302   37.7725     waspcomp   \n",
       "2  965675667   -122.064   37.8933     IM000519   \n",
       "3  965675059   -122.064   37.8933     IM000518   \n",
       "4  965674609   -122.204   37.8013     IM000515   \n",
       "\n",
       "                                                tags  dateupload  \\\n",
       "0  california museum ship ashtray aircraftcarrier...  1010011648   \n",
       "1  california museum ship rack aircraftcarrier al...  1010011643   \n",
       "2                                                     1003836744   \n",
       "3                                                     1003836684   \n",
       "4                                                     1003836623   \n",
       "\n",
       "             datetaken  \n",
       "0  2007-06-28 16:33:50  \n",
       "1  2007-06-28 16:33:48  \n",
       "2  2001-10-18 14:56:11  \n",
       "3  2001-10-18 14:55:54  \n",
       "4  2001-10-17 17:37:57  "
      ]
     },
     "execution_count": 5,
     "metadata": {},
     "output_type": "execute_result"
    }
   ],
   "source": [
    "# Verify \n",
    "flickr_fom_sql.head()\n"
   ]
  },
  {
   "cell_type": "code",
   "execution_count": 6,
   "metadata": {
    "collapsed": true
   },
   "outputs": [],
   "source": [
    "# Remove duplicates\n",
    "flickr_fom_sql_unique = flickr_fom_sql.drop_duplicates(subset='id',keep='first')"
   ]
  },
  {
   "cell_type": "code",
   "execution_count": 7,
   "metadata": {
    "collapsed": false,
    "scrolled": true
   },
   "outputs": [
    {
     "data": {
      "text/html": [
       "<div>\n",
       "<table border=\"1\" class=\"dataframe\">\n",
       "  <thead>\n",
       "    <tr style=\"text-align: right;\">\n",
       "      <th></th>\n",
       "      <th>id</th>\n",
       "      <th>longitude</th>\n",
       "      <th>latitude</th>\n",
       "      <th>title</th>\n",
       "      <th>tags</th>\n",
       "      <th>dateupload</th>\n",
       "      <th>datetaken</th>\n",
       "    </tr>\n",
       "  </thead>\n",
       "  <tbody>\n",
       "    <tr>\n",
       "      <th>0</th>\n",
       "      <td>653243567</td>\n",
       "      <td>-122.302</td>\n",
       "      <td>37.7725</td>\n",
       "      <td>CV18Ashtray</td>\n",
       "      <td>california museum ship ashtray aircraftcarrier...</td>\n",
       "      <td>1010011648</td>\n",
       "      <td>2007-06-28 16:33:50</td>\n",
       "    </tr>\n",
       "    <tr>\n",
       "      <th>1</th>\n",
       "      <td>654102470</td>\n",
       "      <td>-122.302</td>\n",
       "      <td>37.7725</td>\n",
       "      <td>waspcomp</td>\n",
       "      <td>california museum ship rack aircraftcarrier al...</td>\n",
       "      <td>1010011643</td>\n",
       "      <td>2007-06-28 16:33:48</td>\n",
       "    </tr>\n",
       "    <tr>\n",
       "      <th>2</th>\n",
       "      <td>965675667</td>\n",
       "      <td>-122.064</td>\n",
       "      <td>37.8933</td>\n",
       "      <td>IM000519</td>\n",
       "      <td></td>\n",
       "      <td>1003836744</td>\n",
       "      <td>2001-10-18 14:56:11</td>\n",
       "    </tr>\n",
       "    <tr>\n",
       "      <th>3</th>\n",
       "      <td>965675059</td>\n",
       "      <td>-122.064</td>\n",
       "      <td>37.8933</td>\n",
       "      <td>IM000518</td>\n",
       "      <td></td>\n",
       "      <td>1003836684</td>\n",
       "      <td>2001-10-18 14:55:54</td>\n",
       "    </tr>\n",
       "    <tr>\n",
       "      <th>4</th>\n",
       "      <td>965674609</td>\n",
       "      <td>-122.204</td>\n",
       "      <td>37.8013</td>\n",
       "      <td>IM000515</td>\n",
       "      <td></td>\n",
       "      <td>1003836623</td>\n",
       "      <td>2001-10-17 17:37:57</td>\n",
       "    </tr>\n",
       "  </tbody>\n",
       "</table>\n",
       "</div>"
      ],
      "text/plain": [
       "          id  longitude  latitude        title  \\\n",
       "0  653243567   -122.302   37.7725  CV18Ashtray   \n",
       "1  654102470   -122.302   37.7725     waspcomp   \n",
       "2  965675667   -122.064   37.8933     IM000519   \n",
       "3  965675059   -122.064   37.8933     IM000518   \n",
       "4  965674609   -122.204   37.8013     IM000515   \n",
       "\n",
       "                                                tags  dateupload  \\\n",
       "0  california museum ship ashtray aircraftcarrier...  1010011648   \n",
       "1  california museum ship rack aircraftcarrier al...  1010011643   \n",
       "2                                                     1003836744   \n",
       "3                                                     1003836684   \n",
       "4                                                     1003836623   \n",
       "\n",
       "             datetaken  \n",
       "0  2007-06-28 16:33:50  \n",
       "1  2007-06-28 16:33:48  \n",
       "2  2001-10-18 14:56:11  \n",
       "3  2001-10-18 14:55:54  \n",
       "4  2001-10-17 17:37:57  "
      ]
     },
     "execution_count": 7,
     "metadata": {},
     "output_type": "execute_result"
    }
   ],
   "source": [
    "# Verify \n",
    "flickr_fom_sql_unique.head()\n"
   ]
  },
  {
   "cell_type": "code",
   "execution_count": 19,
   "metadata": {
    "collapsed": false
   },
   "outputs": [
    {
     "data": {
      "text/plain": [
       "0"
      ]
     },
     "execution_count": 19,
     "metadata": {},
     "output_type": "execute_result"
    }
   ],
   "source": [
    "# Check how many rows have empty title AND tags\n",
    "flickr_fom_sql_unique.isnull().sum().sum()"
   ]
  },
  {
   "cell_type": "code",
   "execution_count": null,
   "metadata": {
    "collapsed": true
   },
   "outputs": [],
   "source": [
    "# Save to pickle\n",
    "flickr_fom_sql_unique.to_pickle(os.path.join('..','..','data','flickr_all_unique.df'))"
   ]
  },
  {
   "cell_type": "code",
   "execution_count": null,
   "metadata": {
    "collapsed": true
   },
   "outputs": [],
   "source": []
  },
  {
   "cell_type": "markdown",
   "metadata": {},
   "source": [
    "# Test speed for keyword sleection: SQL vs. Pandas"
   ]
  },
  {
   "cell_type": "code",
   "execution_count": 2,
   "metadata": {
    "collapsed": true
   },
   "outputs": [],
   "source": [
    "# Add observed data\n",
    "#In Python: Define a database name (we're using a dataset on births, so I call it \n",
    "# birth_db), and your username and password used above. \n",
    "dbname = 'flickr_db'\n",
    "#username = 'username'\n",
    "#pswd = 'password'\n",
    "## 'engine' is a connection to a database\n",
    "## Here, we're using postgres, but sqlalchemy can connect to other things too.\n",
    "#engine = create_engine('postgresql://%s:%s@localhost/%s'%(username,pswd,dbname))\n",
    "engine = create_engine('postgresql://@localhost/%s'%(dbname))\n",
    "# Connect to an existing database\n",
    "conn = psycopg2.connect(\"dbname=flickr_db\")\n",
    "# Open a cursor to perform database operations\n",
    "cur = conn.cursor()\n"
   ]
  },
  {
   "cell_type": "code",
   "execution_count": 34,
   "metadata": {
    "collapsed": false
   },
   "outputs": [
    {
     "name": "stdout",
     "output_type": "stream",
     "text": [
      "--- 130.60236311 seconds ---\n"
     ]
    }
   ],
   "source": [
    "import time\n",
    "start_time = time.time()\n",
    "# set query string\n",
    "sql_query = \"\"\"\n",
    "SELECT id,longitude,latitude,title,tags,dateupload,datetaken FROM flickr_all;\n",
    "\"\"\"\n",
    "# Run query and save in DF\n",
    "flickr_fom_sql = pd.read_sql_query(sql_query,conn)\n",
    "# Drop duplicates\n",
    "flickr_fom_sql_unique = flickr_fom_sql.drop_duplicates(subset='id',keep='first')\n",
    "# # Make title/tags lower case\n",
    "# flickr_fom_sql_unique['title'] = flickr_fom_sql_unique['title'].str.lower()\n",
    "# flickr_fom_sql_unique['tags'] = flickr_fom_sql_unique['tags'].str.lower()\n",
    "# Select entries with 'dog' in Tag or Title\n",
    "dog_title = flickr_fom_sql_unique[flickr_fom_sql_unique['title'].str.contains(\"dog\",na=False)]\n",
    "dog_tags = flickr_fom_sql_unique[flickr_fom_sql_unique['tags'].str.contains(\"dog\", na=False)]\n",
    "# Combine results\n",
    "dog_all = dog_tags.append(dog_title)\n",
    "# Drop duplicates\n",
    "dog_all_clean = dog_all.drop_duplicates(subset='id', keep='first')\n",
    "\n",
    "print(\"--- %s seconds ---\" % (time.time() - start_time))"
   ]
  },
  {
   "cell_type": "code",
   "execution_count": 35,
   "metadata": {
    "collapsed": false
   },
   "outputs": [
    {
     "data": {
      "text/plain": [
       "(34825, 7)"
      ]
     },
     "execution_count": 35,
     "metadata": {},
     "output_type": "execute_result"
    }
   ],
   "source": [
    "dog_all_clean.shape"
   ]
  },
  {
   "cell_type": "code",
   "execution_count": 36,
   "metadata": {
    "collapsed": false
   },
   "outputs": [
    {
     "data": {
      "text/html": [
       "<div>\n",
       "<table border=\"1\" class=\"dataframe\">\n",
       "  <thead>\n",
       "    <tr style=\"text-align: right;\">\n",
       "      <th></th>\n",
       "      <th>id</th>\n",
       "      <th>longitude</th>\n",
       "      <th>latitude</th>\n",
       "      <th>title</th>\n",
       "      <th>tags</th>\n",
       "      <th>dateupload</th>\n",
       "      <th>datetaken</th>\n",
       "    </tr>\n",
       "  </thead>\n",
       "  <tbody>\n",
       "    <tr>\n",
       "      <th>291</th>\n",
       "      <td>81482</td>\n",
       "      <td>-122.291</td>\n",
       "      <td>37.8443</td>\n",
       "      <td>Dog sign</td>\n",
       "      <td>dog cameraphone</td>\n",
       "      <td>1089958863</td>\n",
       "      <td>2004-07-15 23:21:03</td>\n",
       "    </tr>\n",
       "    <tr>\n",
       "      <th>470</th>\n",
       "      <td>2501390</td>\n",
       "      <td>-122.222</td>\n",
       "      <td>37.8092</td>\n",
       "      <td>2 Brothers</td>\n",
       "      <td>dog goose springerspaniel isidore englishsprin...</td>\n",
       "      <td>1103914328</td>\n",
       "      <td>2004-12-24 09:07:38</td>\n",
       "    </tr>\n",
       "    <tr>\n",
       "      <th>484</th>\n",
       "      <td>2426142</td>\n",
       "      <td>-122.222</td>\n",
       "      <td>37.8092</td>\n",
       "      <td>Goose on porch</td>\n",
       "      <td>dog goose springerspaniel englishspringerspaniel</td>\n",
       "      <td>1103693350</td>\n",
       "      <td>2004-12-21 10:23:48</td>\n",
       "    </tr>\n",
       "    <tr>\n",
       "      <th>631</th>\n",
       "      <td>1702005</td>\n",
       "      <td>-122.274</td>\n",
       "      <td>37.8556</td>\n",
       "      <td>Peter and Buster</td>\n",
       "      <td>me fosterdog</td>\n",
       "      <td>1101420164</td>\n",
       "      <td>2004-11-25 14:02:44</td>\n",
       "    </tr>\n",
       "    <tr>\n",
       "      <th>640</th>\n",
       "      <td>1645391</td>\n",
       "      <td>-122.261</td>\n",
       "      <td>37.8718</td>\n",
       "      <td>Doggie</td>\n",
       "      <td>bw dog 35mm canon rangefinder scan peoplespark...</td>\n",
       "      <td>1101172010</td>\n",
       "      <td>2004-11-22 17:03:58</td>\n",
       "    </tr>\n",
       "  </tbody>\n",
       "</table>\n",
       "</div>"
      ],
      "text/plain": [
       "          id  longitude  latitude             title  \\\n",
       "291    81482   -122.291   37.8443          Dog sign   \n",
       "470  2501390   -122.222   37.8092        2 Brothers   \n",
       "484  2426142   -122.222   37.8092    Goose on porch   \n",
       "631  1702005   -122.274   37.8556  Peter and Buster   \n",
       "640  1645391   -122.261   37.8718            Doggie   \n",
       "\n",
       "                                                  tags  dateupload  \\\n",
       "291                                    dog cameraphone  1089958863   \n",
       "470  dog goose springerspaniel isidore englishsprin...  1103914328   \n",
       "484   dog goose springerspaniel englishspringerspaniel  1103693350   \n",
       "631                                       me fosterdog  1101420164   \n",
       "640  bw dog 35mm canon rangefinder scan peoplespark...  1101172010   \n",
       "\n",
       "               datetaken  \n",
       "291  2004-07-15 23:21:03  \n",
       "470  2004-12-24 09:07:38  \n",
       "484  2004-12-21 10:23:48  \n",
       "631  2004-11-25 14:02:44  \n",
       "640  2004-11-22 17:03:58  "
      ]
     },
     "execution_count": 36,
     "metadata": {},
     "output_type": "execute_result"
    }
   ],
   "source": [
    "dog_all_clean.head()"
   ]
  },
  {
   "cell_type": "code",
   "execution_count": null,
   "metadata": {
    "collapsed": true
   },
   "outputs": [],
   "source": [
    "# # Make titles/tags lower case for easier selection downstream\n",
    "# insert_str = 'UPDATE flickr_all SET title=lower(title)'\n",
    "# cur.execute(insert_str)\n",
    "# insert_str = 'UPDATE flickr_all SET tags=lower(tags)'\n",
    "# cur.execute(insert_str)\n"
   ]
  },
  {
   "cell_type": "code",
   "execution_count": 39,
   "metadata": {
    "collapsed": false
   },
   "outputs": [
    {
     "name": "stdout",
     "output_type": "stream",
     "text": [
      "--- 33.7297730446 seconds ---\n"
     ]
    }
   ],
   "source": [
    "import time\n",
    "start_time = time.time()\n",
    "# set query string\n",
    "sql_query = \"\"\"\n",
    "SELECT \n",
    "    id,longitude,latitude,title,tags,dateupload,datetaken \n",
    "FROM \n",
    "    flickr_all \n",
    "WHERE \n",
    "    title ~ 'dog' \n",
    "    OR\n",
    "    tags ~ 'dog';\n",
    "\"\"\"\n",
    "# Run query and save in DF\n",
    "try:\n",
    "    flickr_fom_sql = pd.read_sql_query(sql_query,conn)\n",
    "except:\n",
    "    conn.rollback()\n",
    "    # Drop duplicates\n",
    "dog_all_clean = flickr_fom_sql.drop_duplicates(subset='id', keep='first')\n",
    "\n",
    "print(\"--- %s seconds ---\" % (time.time() - start_time))"
   ]
  },
  {
   "cell_type": "code",
   "execution_count": 40,
   "metadata": {
    "collapsed": false
   },
   "outputs": [
    {
     "data": {
      "text/plain": [
       "(34825, 7)"
      ]
     },
     "execution_count": 40,
     "metadata": {},
     "output_type": "execute_result"
    }
   ],
   "source": [
    "dog_all_clean.shape"
   ]
  },
  {
   "cell_type": "code",
   "execution_count": 33,
   "metadata": {
    "collapsed": false
   },
   "outputs": [
    {
     "data": {
      "text/html": [
       "<div>\n",
       "<table border=\"1\" class=\"dataframe\">\n",
       "  <thead>\n",
       "    <tr style=\"text-align: right;\">\n",
       "      <th></th>\n",
       "      <th>id</th>\n",
       "      <th>longitude</th>\n",
       "      <th>latitude</th>\n",
       "      <th>title</th>\n",
       "      <th>tags</th>\n",
       "      <th>dateupload</th>\n",
       "      <th>datetaken</th>\n",
       "    </tr>\n",
       "  </thead>\n",
       "  <tbody>\n",
       "    <tr>\n",
       "      <th>0</th>\n",
       "      <td>258095</td>\n",
       "      <td>-122.276</td>\n",
       "      <td>37.8066</td>\n",
       "      <td>Bear or dog?</td>\n",
       "      <td>sign oakland text 14thstreet fav mlkway</td>\n",
       "      <td>1093472409</td>\n",
       "      <td>2004-08-25 15:20:09</td>\n",
       "    </tr>\n",
       "    <tr>\n",
       "      <th>1</th>\n",
       "      <td>81482</td>\n",
       "      <td>-122.291</td>\n",
       "      <td>37.8443</td>\n",
       "      <td>Dog sign</td>\n",
       "      <td>dog cameraphone</td>\n",
       "      <td>1089958863</td>\n",
       "      <td>2004-07-15 23:21:03</td>\n",
       "    </tr>\n",
       "    <tr>\n",
       "      <th>2</th>\n",
       "      <td>2501390</td>\n",
       "      <td>-122.222</td>\n",
       "      <td>37.8092</td>\n",
       "      <td>2 Brothers</td>\n",
       "      <td>dog goose springerspaniel isidore englishsprin...</td>\n",
       "      <td>1103914328</td>\n",
       "      <td>2004-12-24 09:07:38</td>\n",
       "    </tr>\n",
       "    <tr>\n",
       "      <th>3</th>\n",
       "      <td>2426142</td>\n",
       "      <td>-122.222</td>\n",
       "      <td>37.8092</td>\n",
       "      <td>Goose on porch</td>\n",
       "      <td>dog goose springerspaniel englishspringerspaniel</td>\n",
       "      <td>1103693350</td>\n",
       "      <td>2004-12-21 10:23:48</td>\n",
       "    </tr>\n",
       "    <tr>\n",
       "      <th>4</th>\n",
       "      <td>2242675</td>\n",
       "      <td>-122.285</td>\n",
       "      <td>37.8802</td>\n",
       "      <td>guard dog</td>\n",
       "      <td>lotusgreen</td>\n",
       "      <td>1103165729</td>\n",
       "      <td>2004-12-15 18:55:29</td>\n",
       "    </tr>\n",
       "  </tbody>\n",
       "</table>\n",
       "</div>"
      ],
      "text/plain": [
       "        id  longitude  latitude           title  \\\n",
       "0   258095   -122.276   37.8066    Bear or dog?   \n",
       "1    81482   -122.291   37.8443        Dog sign   \n",
       "2  2501390   -122.222   37.8092      2 Brothers   \n",
       "3  2426142   -122.222   37.8092  Goose on porch   \n",
       "4  2242675   -122.285   37.8802       guard dog   \n",
       "\n",
       "                                                tags  dateupload  \\\n",
       "0            sign oakland text 14thstreet fav mlkway  1093472409   \n",
       "1                                    dog cameraphone  1089958863   \n",
       "2  dog goose springerspaniel isidore englishsprin...  1103914328   \n",
       "3   dog goose springerspaniel englishspringerspaniel  1103693350   \n",
       "4                                         lotusgreen  1103165729   \n",
       "\n",
       "            datetaken  \n",
       "0 2004-08-25 15:20:09  \n",
       "1 2004-07-15 23:21:03  \n",
       "2 2004-12-24 09:07:38  \n",
       "3 2004-12-21 10:23:48  \n",
       "4 2004-12-15 18:55:29  "
      ]
     },
     "execution_count": 33,
     "metadata": {},
     "output_type": "execute_result"
    }
   ],
   "source": [
    "dog_all_clean.head()"
   ]
  },
  {
   "cell_type": "code",
   "execution_count": 30,
   "metadata": {
    "collapsed": true
   },
   "outputs": [],
   "source": [
    "# rollback transaction that created errors\n",
    "conn.rollback()"
   ]
  },
  {
   "cell_type": "code",
   "execution_count": null,
   "metadata": {
    "collapsed": true
   },
   "outputs": [],
   "source": [
    "# And commit the deletion\n",
    "conn.commit()"
   ]
  },
  {
   "cell_type": "code",
   "execution_count": null,
   "metadata": {
    "collapsed": true
   },
   "outputs": [],
   "source": []
  },
  {
   "cell_type": "code",
   "execution_count": null,
   "metadata": {
    "collapsed": true
   },
   "outputs": [],
   "source": []
  },
  {
   "cell_type": "markdown",
   "metadata": {},
   "source": [
    "## Testing if an image falls into the area of a shape"
   ]
  },
  {
   "cell_type": "code",
   "execution_count": 50,
   "metadata": {
    "collapsed": false
   },
   "outputs": [],
   "source": [
    "# Adapted from Tim Ivancic\n",
    "# Adapted to accept a list of long/lat coordinates for the shape\n",
    "# instead of the shape itself (which would require extracing coords)\n",
    "# on each execution\n",
    "def inshape(ptlon,ptlat,lon,minmax_lon,lat,minmax_lat):\n",
    "    lon_max=minmax_lon[1]\n",
    "    lon_min=minmax_lon[0]\n",
    "    lat_max=minmax_lat[1]\n",
    "    lat_min=minmax_lat[0]\n",
    "    if (ptlat > lat_max or ptlat < lat_min or\n",
    "        ptlon > lon_max or ptlon < lon_min):\n",
    "        return False\n",
    "    else:\n",
    "        count = 0\n",
    "        for i in range(len(lon)-1):\n",
    "            line=[lon[i],lat[i],\n",
    "                  lon[i+1],lat[i+1]]\n",
    "            if ((line[1] < ptlat and line[3] > ptlat) or \n",
    "                (line[1] > ptlat and line[3] < ptlat)):\n",
    "                frac = (line[1]-ptlat)/(line[1]-line[3])\n",
    "                if line[0]+frac*(line[2]-line[0]) > ptlon:\n",
    "                    count+=1\n",
    "        line=[lon[-1],lat[0],\n",
    "              lon[-1],lat[0]]                  \n",
    "        if line[1] < ptlat and line[3] > ptlat:\n",
    "            frac = (line[1]-ptlat)/(line[1]-line[3])\n",
    "            if line[0]+frac*(line[2]-line[0]) > ptlon:\n",
    "                count+=1\n",
    "        if count%2 == 0:\n",
    "            return True\n",
    "        else:\n",
    "            return False\n",
    "\n",
    "#     return count%2               \n"
   ]
  },
  {
   "cell_type": "code",
   "execution_count": 9,
   "metadata": {
    "collapsed": true
   },
   "outputs": [],
   "source": [
    "# select every 100th point\n",
    "flickr_lng = flickr_fom_sql_unique['longitude'].tolist()\n",
    "flickr_lat = flickr_fom_sql_unique['latitude'].tolist()\n",
    "# flickr_lng_sub = flickr_lng[0::1000]\n",
    "# flickr_lat_sub = flickr_lat[0::1000]\n",
    "flickr_lng_sub = flickr_lng[0:10000]\n",
    "flickr_lat_sub = flickr_lat[0:10000]"
   ]
  },
  {
   "cell_type": "code",
   "execution_count": 55,
   "metadata": {
    "collapsed": false
   },
   "outputs": [
    {
     "name": "stdout",
     "output_type": "stream",
     "text": [
      "2\n",
      "2\n",
      "1017\n",
      "('\\t', 1017, 1017)\n",
      "('\\t', 2759, 2759)\n",
      "9\n",
      "('\\t', 9, 9)\n",
      "('\\t', 26, 26)\n",
      "('\\t', 10406, 10406)\n",
      "8\n",
      "('\\t', 8, 8)\n",
      "('\\t', 19, 19)\n",
      "('\\t', 95, 95)\n",
      "('\\t', 7976, 7976)\n",
      "2\n",
      "2\n",
      "26\n",
      "('\\t', 26, 26)\n",
      "('\\t', 25, 25)\n",
      "('\\t', 44, 44)\n",
      "('\\t', 90, 90)\n",
      "('\\t', 35, 35)\n",
      "('\\t', 70, 70)\n",
      "('\\t', 341, 341)\n",
      "('\\t', 12903, 12903)\n",
      "17\n",
      "('\\t', 17, 17)\n",
      "('\\t', 11, 11)\n",
      "('\\t', 4, 4)\n",
      "('\\t', 35, 35)\n",
      "('\\t', 37, 37)\n",
      "('\\t', 30, 30)\n",
      "('\\t', 42, 42)\n",
      "('\\t', 109, 109)\n",
      "('\\t', 67, 67)\n",
      "('\\t', 218, 218)\n",
      "('\\t', 220, 220)\n",
      "('\\t', 301, 301)\n",
      "('\\t', 86, 86)\n",
      "('\\t', 759, 759)\n",
      "('\\t', 21688, 21688)\n",
      "('\\t', 14106, 14106)\n",
      "24\n",
      "('\\t', 24, 24)\n",
      "('\\t', 2717, 2717)\n",
      "('Inside', ',', 'Outside')\n",
      "(50509, ',', 339491)\n",
      "--- 170.633867979 seconds ---\n"
     ]
    }
   ],
   "source": [
    "import time\n",
    "start_time = time.time()\n",
    "\n",
    "inside_counter = 0\n",
    "outside_counter = 0\n",
    "# loop over shapes\n",
    "\n",
    "# flickr_lat_sub = [37.416015]\n",
    "# flickr_lng_sub=[-122.141183]\n",
    "\n",
    "for urban_area in urban_area_list_coords.keys():\n",
    "    tmp_list = urban_area_list_coords[urban_area]\n",
    "    #print(len(tmp_list[0]))\n",
    "    if len(tmp_list[0]) > 2:\n",
    "        for coord_list in tmp_list:\n",
    "            x_coords = [x[0] for x in coord_list]\n",
    "            y_coords = [x[1] for x in coord_list]\n",
    "            if len(x_coords) > 0 and len(y_coords) > 0:\n",
    "                x_minmax = [min(x_coords),max(x_coords)]\n",
    "                y_minmax = [min(y_coords),max(y_coords)]\n",
    "                #print('\\t',len(x_coords),len(y_coords))\n",
    "                for index, row in enumerate(flickr_lng_sub):\n",
    "                    tmp_lng = row\n",
    "                    tmp_lat = flickr_lat_sub[index]\n",
    "                    test = inshape(tmp_lng,tmp_lat,\n",
    "                                   x_coords,x_minmax,\n",
    "                                   y_coords,y_minmax)\n",
    "                    if test == 0:\n",
    "                        outside_counter += 1\n",
    "                    else:\n",
    "                        inside_counter += 1\n",
    "            else:\n",
    "                pass\n",
    "\n",
    "\n",
    "    else:\n",
    "        x_coords = [x[0] for x in tmp_list]\n",
    "        y_coords = [x[1] for x in tmp_list]\n",
    "        x_minmax = [min(x_coords),max(x_coords)]\n",
    "        y_minmax = [min(y_coords),max(y_coords)]\n",
    "        for index, row in enumerate(flickr_lng_sub):\n",
    "            tmp_lng = row\n",
    "            tmp_lat = flickr_lat_sub[index]\n",
    "\n",
    "            test = inshape(tmp_lng,tmp_lat,\n",
    "                           x_coords,x_minmax,\n",
    "                           y_coords,y_minmax)\n",
    "            if test:\n",
    "                inside_counter += 1\n",
    "            else:\n",
    "                inside_counter += 1\n",
    "print('Inside',',','Outside')\n",
    "print(inside_counter,',',outside_counter)\n",
    "    \n",
    "print(\"--- %s seconds ---\" % (time.time() - start_time))"
   ]
  },
  {
   "cell_type": "markdown",
   "metadata": {},
   "source": [
    "### For 10,000 image records the above code took 234 seconds. \n",
    "\n",
    "### Calculating min/max lon/lat of shape outside function (i.e., only once for each shape) reduces time to: 171 seconds\n",
    "\n",
    "### Using matplotlib contains_point below, it takes 84 seconds.\n",
    "\n",
    "### Selection on extreme outliers from min/max criteria is very fast. Use this first to reduce number of points to check"
   ]
  },
  {
   "cell_type": "code",
   "execution_count": null,
   "metadata": {
    "collapsed": true
   },
   "outputs": [],
   "source": []
  },
  {
   "cell_type": "code",
   "execution_count": null,
   "metadata": {
    "collapsed": true
   },
   "outputs": [],
   "source": []
  },
  {
   "cell_type": "code",
   "execution_count": null,
   "metadata": {
    "collapsed": true
   },
   "outputs": [],
   "source": []
  },
  {
   "cell_type": "code",
   "execution_count": 71,
   "metadata": {
    "collapsed": false
   },
   "outputs": [],
   "source": [
    "# Select only images within SF&Oakland county (extreme) limits for testing\n",
    "flickr_fom_sql_sf = flickr_fom_sql_unique[(flickr_fom_sql_unique['longitude'] > -123.17382) & \n",
    "                                       (flickr_fom_sql_unique['longitude'] < -122.28178) & \n",
    "                                       (flickr_fom_sql_unique['latitude'] > 37.63983) & \n",
    "                                       (flickr_fom_sql_unique['latitude'] < 37.92982)]\n",
    "\n",
    "\n"
   ]
  },
  {
   "cell_type": "code",
   "execution_count": 72,
   "metadata": {
    "collapsed": false,
    "scrolled": true
   },
   "outputs": [
    {
     "data": {
      "text/html": [
       "<div>\n",
       "<table border=\"1\" class=\"dataframe\">\n",
       "  <thead>\n",
       "    <tr style=\"text-align: right;\">\n",
       "      <th></th>\n",
       "      <th>id</th>\n",
       "      <th>longitude</th>\n",
       "      <th>latitude</th>\n",
       "      <th>title</th>\n",
       "      <th>tags</th>\n",
       "      <th>dateupload</th>\n",
       "      <th>datetaken</th>\n",
       "    </tr>\n",
       "  </thead>\n",
       "  <tbody>\n",
       "    <tr>\n",
       "      <th>0</th>\n",
       "      <td>653243567</td>\n",
       "      <td>-122.302</td>\n",
       "      <td>37.7725</td>\n",
       "      <td>CV18Ashtray</td>\n",
       "      <td>california museum ship ashtray aircraftcarrier...</td>\n",
       "      <td>1010011648</td>\n",
       "      <td>2007-06-28 16:33:50</td>\n",
       "    </tr>\n",
       "    <tr>\n",
       "      <th>1</th>\n",
       "      <td>654102470</td>\n",
       "      <td>-122.302</td>\n",
       "      <td>37.7725</td>\n",
       "      <td>waspcomp</td>\n",
       "      <td>california museum ship rack aircraftcarrier al...</td>\n",
       "      <td>1010011643</td>\n",
       "      <td>2007-06-28 16:33:48</td>\n",
       "    </tr>\n",
       "    <tr>\n",
       "      <th>27</th>\n",
       "      <td>568984765</td>\n",
       "      <td>-122.373</td>\n",
       "      <td>37.8026</td>\n",
       "      <td>San Francisco downtown</td>\n",
       "      <td>sanfrancisco bridge beach golden bay gate san ...</td>\n",
       "      <td>1023659104</td>\n",
       "      <td>2002-06-09 14:45:04</td>\n",
       "    </tr>\n",
       "    <tr>\n",
       "      <th>44</th>\n",
       "      <td>1719122579</td>\n",
       "      <td>-122.304</td>\n",
       "      <td>37.8886</td>\n",
       "      <td>pinkness</td>\n",
       "      <td></td>\n",
       "      <td>1030177245</td>\n",
       "      <td>2007-10-23 19:14:55</td>\n",
       "    </tr>\n",
       "    <tr>\n",
       "      <th>69</th>\n",
       "      <td>1985467107</td>\n",
       "      <td>-122.285</td>\n",
       "      <td>37.8802</td>\n",
       "      <td>marin in the fog</td>\n",
       "      <td></td>\n",
       "      <td>1057554483</td>\n",
       "      <td>2007-11-12 08:34:38</td>\n",
       "    </tr>\n",
       "  </tbody>\n",
       "</table>\n",
       "</div>"
      ],
      "text/plain": [
       "            id  longitude  latitude                   title  \\\n",
       "0    653243567   -122.302   37.7725             CV18Ashtray   \n",
       "1    654102470   -122.302   37.7725                waspcomp   \n",
       "27   568984765   -122.373   37.8026  San Francisco downtown   \n",
       "44  1719122579   -122.304   37.8886                pinkness   \n",
       "69  1985467107   -122.285   37.8802        marin in the fog   \n",
       "\n",
       "                                                 tags  dateupload  \\\n",
       "0   california museum ship ashtray aircraftcarrier...  1010011648   \n",
       "1   california museum ship rack aircraftcarrier al...  1010011643   \n",
       "27  sanfrancisco bridge beach golden bay gate san ...  1023659104   \n",
       "44                                                     1030177245   \n",
       "69                                                     1057554483   \n",
       "\n",
       "              datetaken  \n",
       "0   2007-06-28 16:33:50  \n",
       "1   2007-06-28 16:33:48  \n",
       "27  2002-06-09 14:45:04  \n",
       "44  2007-10-23 19:14:55  \n",
       "69  2007-11-12 08:34:38  "
      ]
     },
     "execution_count": 72,
     "metadata": {},
     "output_type": "execute_result"
    }
   ],
   "source": [
    "flickr_fom_sql_sf.head()"
   ]
  },
  {
   "cell_type": "code",
   "execution_count": null,
   "metadata": {
    "collapsed": true
   },
   "outputs": [],
   "source": []
  },
  {
   "cell_type": "markdown",
   "metadata": {},
   "source": [
    "## Check extreme outliers by min/max first"
   ]
  },
  {
   "cell_type": "code",
   "execution_count": 154,
   "metadata": {
    "collapsed": false
   },
   "outputs": [],
   "source": [
    "# Calculate min/max number \n",
    "urban_area_list_coords_flat_minmax = {}\n",
    "for urban_area in urban_area_list_coords.keys():\n",
    "    tmp_list = urban_area_list_coords[urban_area]\n",
    "    if len(tmp_list[0]) > 2:\n",
    "        for idx,coord_list in enumerate(tmp_list):\n",
    "            x_coords = [x[0] for x in coord_list]\n",
    "            y_coords = [x[1] for x in coord_list]\n",
    "            if len(x_coords) > 0 and len(y_coords) > 0:\n",
    "                x_min = min(x_coords)\n",
    "                x_max = max(x_coords)\n",
    "                y_min = min(y_coords)\n",
    "                y_max = max(y_coords)\n",
    "                if urban_area in urban_area_list_coords_flat_minmax.keys():\n",
    "                    urban_area_list_coords_flat_minmax[urban_area+'_'+str(idx)] = [x_min,x_max,y_min,y_max]\n",
    "                else:\n",
    "                    urban_area_list_coords_flat_minmax[urban_area] = [x_min,x_max,y_min,y_max]\n",
    "            \n",
    "    else:\n",
    "        x_coords = [x[0] for x in tmp_list]\n",
    "        y_coords = [x[1] for x in tmp_list]\n",
    "        x_min = min(x_coords)\n",
    "        x_max = max(x_coords)\n",
    "        y_min = min(y_coords)\n",
    "        y_max = max(y_coords)\n",
    "        urban_area_list_coords_flat_minmax[urban_area] = [x_min,x_max,y_min,y_max]\n",
    "        "
   ]
  },
  {
   "cell_type": "code",
   "execution_count": 155,
   "metadata": {
    "collapsed": false
   },
   "outputs": [
    {
     "name": "stdout",
     "output_type": "stream",
     "text": [
      "['son_1', 'son', 'sf_2', 'sf_3', 'conc', 'sf_6', 'sf_7', 'sf_4', 'sf_5', 'sf_8', 'sf_9', 'val', 'pet', 'hmb_1', 'sf_10', 'sf_11', 'sf_12', 'sf_13', 'sf_14', 'sf_15', 'napa', 'conc_1', 'conc_2', 'conc_3', 'yount', 'sc_3', 'hmb', 'sc_7', 'sc_6', 'sc_5', 'sc_4', 'sj_2', 'sc_2', 'sc_1', 'sj_1', 'sj', 'sf_1', 'sc', 'sf']\n"
     ]
    }
   ],
   "source": [
    "print(urban_area_list_coords_flat_minmax.keys())"
   ]
  },
  {
   "cell_type": "code",
   "execution_count": 161,
   "metadata": {
    "collapsed": false
   },
   "outputs": [
    {
     "name": "stdout",
     "output_type": "stream",
     "text": [
      "Unclear , Outside\n",
      "4522661 , 390615\n",
      "--- 152.158327818 seconds ---\n"
     ]
    }
   ],
   "source": [
    "# Run min/max check\n",
    "flickr_lng = flickr_fom_sql_unique['longitude'].tolist()\n",
    "flickr_lat = flickr_fom_sql_unique['latitude'].tolist()\n",
    "flickr_lng_sub = flickr_lng[:]\n",
    "flickr_lat_sub = flickr_lat[:]\n",
    "\n",
    "start_time = time.time()\n",
    "\n",
    "contains_list = [True] * len(flickr_lng_sub)\n",
    "\n",
    "for index, row in enumerate(flickr_lng_sub):\n",
    "    tmp_match_list = []\n",
    "    tmp_lng = row\n",
    "    tmp_lat = flickr_lat_sub[index]\n",
    "    # loop through minmax of urban areas\n",
    "    for urban_area in urban_area_list_coords_flat_minmax.keys():\n",
    "        x_min = urban_area_list_coords_flat_minmax[urban_area][0]\n",
    "        x_max = urban_area_list_coords_flat_minmax[urban_area][1]\n",
    "        y_min = urban_area_list_coords_flat_minmax[urban_area][2]\n",
    "        y_max = urban_area_list_coords_flat_minmax[urban_area][3]\n",
    "        if (tmp_lat > y_max or tmp_lat < y_min or\n",
    "            tmp_lng > x_max or tmp_lng < x_min):\n",
    "            tmp_match_list.append(False)\n",
    "        else:\n",
    "            tmp_match_list.append(True)\n",
    "    \n",
    "    if sum(tmp_match_list) == 0:\n",
    "        contains_list[index] = False\n",
    "                \n",
    "print('Unclear',',','Outside')\n",
    "print(sum(contains_list),',',len(contains_list)-sum(contains_list))\n",
    "\n",
    "\n",
    "print(\"--- %s seconds ---\" % (time.time() - start_time))\n"
   ]
  },
  {
   "cell_type": "code",
   "execution_count": 162,
   "metadata": {
    "collapsed": false
   },
   "outputs": [
    {
     "name": "stdout",
     "output_type": "stream",
     "text": [
      "4913276\n"
     ]
    }
   ],
   "source": [
    "print(len(contains_list))"
   ]
  },
  {
   "cell_type": "code",
   "execution_count": 165,
   "metadata": {
    "collapsed": false
   },
   "outputs": [],
   "source": [
    "# Make a copy of the minmax results\n",
    "contains_list_minmax = copy.copy(contains_list)"
   ]
  },
  {
   "cell_type": "code",
   "execution_count": null,
   "metadata": {
    "collapsed": true
   },
   "outputs": [],
   "source": []
  },
  {
   "cell_type": "markdown",
   "metadata": {},
   "source": [
    "## For all points that cannot be excluded based on min/max considerations, use matplotlib patches to decide whether a point falls within a polygon"
   ]
  },
  {
   "cell_type": "code",
   "execution_count": 166,
   "metadata": {
    "collapsed": false
   },
   "outputs": [
    {
     "data": {
      "text/plain": [
       "(4913276, 7)"
      ]
     },
     "execution_count": 166,
     "metadata": {},
     "output_type": "execute_result"
    }
   ],
   "source": [
    "# Based on min/max check, \n",
    "flickr_fom_sql_unique.shape"
   ]
  },
  {
   "cell_type": "code",
   "execution_count": 183,
   "metadata": {
    "collapsed": false
   },
   "outputs": [
    {
     "data": {
      "text/html": [
       "<div>\n",
       "<table border=\"1\" class=\"dataframe\">\n",
       "  <thead>\n",
       "    <tr style=\"text-align: right;\">\n",
       "      <th></th>\n",
       "      <th>id</th>\n",
       "      <th>longitude</th>\n",
       "      <th>latitude</th>\n",
       "      <th>title</th>\n",
       "      <th>tags</th>\n",
       "      <th>dateupload</th>\n",
       "      <th>datetaken</th>\n",
       "    </tr>\n",
       "  </thead>\n",
       "  <tbody>\n",
       "    <tr>\n",
       "      <th>0</th>\n",
       "      <td>653243567</td>\n",
       "      <td>-122.302</td>\n",
       "      <td>37.7725</td>\n",
       "      <td>CV18Ashtray</td>\n",
       "      <td>california museum ship ashtray aircraftcarrier...</td>\n",
       "      <td>1010011648</td>\n",
       "      <td>2007-06-28 16:33:50</td>\n",
       "    </tr>\n",
       "    <tr>\n",
       "      <th>1</th>\n",
       "      <td>654102470</td>\n",
       "      <td>-122.302</td>\n",
       "      <td>37.7725</td>\n",
       "      <td>waspcomp</td>\n",
       "      <td>california museum ship rack aircraftcarrier al...</td>\n",
       "      <td>1010011643</td>\n",
       "      <td>2007-06-28 16:33:48</td>\n",
       "    </tr>\n",
       "    <tr>\n",
       "      <th>2</th>\n",
       "      <td>965675667</td>\n",
       "      <td>-122.064</td>\n",
       "      <td>37.8933</td>\n",
       "      <td>IM000519</td>\n",
       "      <td></td>\n",
       "      <td>1003836744</td>\n",
       "      <td>2001-10-18 14:56:11</td>\n",
       "    </tr>\n",
       "    <tr>\n",
       "      <th>3</th>\n",
       "      <td>965675059</td>\n",
       "      <td>-122.064</td>\n",
       "      <td>37.8933</td>\n",
       "      <td>IM000518</td>\n",
       "      <td></td>\n",
       "      <td>1003836684</td>\n",
       "      <td>2001-10-18 14:55:54</td>\n",
       "    </tr>\n",
       "    <tr>\n",
       "      <th>4</th>\n",
       "      <td>965674609</td>\n",
       "      <td>-122.204</td>\n",
       "      <td>37.8013</td>\n",
       "      <td>IM000515</td>\n",
       "      <td></td>\n",
       "      <td>1003836623</td>\n",
       "      <td>2001-10-17 17:37:57</td>\n",
       "    </tr>\n",
       "  </tbody>\n",
       "</table>\n",
       "</div>"
      ],
      "text/plain": [
       "          id  longitude  latitude        title  \\\n",
       "0  653243567   -122.302   37.7725  CV18Ashtray   \n",
       "1  654102470   -122.302   37.7725     waspcomp   \n",
       "2  965675667   -122.064   37.8933     IM000519   \n",
       "3  965675059   -122.064   37.8933     IM000518   \n",
       "4  965674609   -122.204   37.8013     IM000515   \n",
       "\n",
       "                                                tags  dateupload  \\\n",
       "0  california museum ship ashtray aircraftcarrier...  1010011648   \n",
       "1  california museum ship rack aircraftcarrier al...  1010011643   \n",
       "2                                                     1003836744   \n",
       "3                                                     1003836684   \n",
       "4                                                     1003836623   \n",
       "\n",
       "             datetaken  \n",
       "0  2007-06-28 16:33:50  \n",
       "1  2007-06-28 16:33:48  \n",
       "2  2001-10-18 14:56:11  \n",
       "3  2001-10-18 14:55:54  \n",
       "4  2001-10-17 17:37:57  "
      ]
     },
     "execution_count": 183,
     "metadata": {},
     "output_type": "execute_result"
    }
   ],
   "source": [
    "flickr_fom_sql_unique.head()"
   ]
  },
  {
   "cell_type": "code",
   "execution_count": 167,
   "metadata": {
    "collapsed": false
   },
   "outputs": [
    {
     "name": "stdout",
     "output_type": "stream",
     "text": [
      "4913276\n"
     ]
    }
   ],
   "source": [
    "print(len(contains_list_minmax))"
   ]
  },
  {
   "cell_type": "code",
   "execution_count": 187,
   "metadata": {
    "collapsed": false
   },
   "outputs": [
    {
     "data": {
      "text/html": [
       "<div>\n",
       "<table border=\"1\" class=\"dataframe\">\n",
       "  <thead>\n",
       "    <tr style=\"text-align: right;\">\n",
       "      <th></th>\n",
       "      <th>minmax_inpoly</th>\n",
       "    </tr>\n",
       "  </thead>\n",
       "  <tbody>\n",
       "    <tr>\n",
       "      <th>0</th>\n",
       "      <td>True</td>\n",
       "    </tr>\n",
       "    <tr>\n",
       "      <th>1</th>\n",
       "      <td>True</td>\n",
       "    </tr>\n",
       "    <tr>\n",
       "      <th>2</th>\n",
       "      <td>True</td>\n",
       "    </tr>\n",
       "    <tr>\n",
       "      <th>3</th>\n",
       "      <td>True</td>\n",
       "    </tr>\n",
       "    <tr>\n",
       "      <th>4</th>\n",
       "      <td>True</td>\n",
       "    </tr>\n",
       "  </tbody>\n",
       "</table>\n",
       "</div>"
      ],
      "text/plain": [
       "  minmax_inpoly\n",
       "0          True\n",
       "1          True\n",
       "2          True\n",
       "3          True\n",
       "4          True"
      ]
     },
     "execution_count": 187,
     "metadata": {},
     "output_type": "execute_result"
    }
   ],
   "source": [
    "# Convert minmax_list to dataframe\n",
    "minmax_frame = pd.DataFrame((np.transpose(np.array(contains_list_minmax))),columns=['minmax_inpoly'])\n",
    "minmax_frame.head()\n"
   ]
  },
  {
   "cell_type": "code",
   "execution_count": 188,
   "metadata": {
    "collapsed": false
   },
   "outputs": [
    {
     "data": {
      "text/html": [
       "<div>\n",
       "<table border=\"1\" class=\"dataframe\">\n",
       "  <thead>\n",
       "    <tr style=\"text-align: right;\">\n",
       "      <th></th>\n",
       "      <th>id</th>\n",
       "      <th>longitude</th>\n",
       "      <th>latitude</th>\n",
       "      <th>title</th>\n",
       "      <th>tags</th>\n",
       "      <th>dateupload</th>\n",
       "      <th>datetaken</th>\n",
       "      <th>minmax_inpoly</th>\n",
       "    </tr>\n",
       "  </thead>\n",
       "  <tbody>\n",
       "    <tr>\n",
       "      <th>0</th>\n",
       "      <td>653243567.0</td>\n",
       "      <td>-122.302</td>\n",
       "      <td>37.7725</td>\n",
       "      <td>CV18Ashtray</td>\n",
       "      <td>california museum ship ashtray aircraftcarrier...</td>\n",
       "      <td>1.010012e+09</td>\n",
       "      <td>2007-06-28 16:33:50</td>\n",
       "      <td>True</td>\n",
       "    </tr>\n",
       "    <tr>\n",
       "      <th>1</th>\n",
       "      <td>654102470.0</td>\n",
       "      <td>-122.302</td>\n",
       "      <td>37.7725</td>\n",
       "      <td>waspcomp</td>\n",
       "      <td>california museum ship rack aircraftcarrier al...</td>\n",
       "      <td>1.010012e+09</td>\n",
       "      <td>2007-06-28 16:33:48</td>\n",
       "      <td>True</td>\n",
       "    </tr>\n",
       "    <tr>\n",
       "      <th>2</th>\n",
       "      <td>965675667.0</td>\n",
       "      <td>-122.064</td>\n",
       "      <td>37.8933</td>\n",
       "      <td>IM000519</td>\n",
       "      <td></td>\n",
       "      <td>1.003837e+09</td>\n",
       "      <td>2001-10-18 14:56:11</td>\n",
       "      <td>True</td>\n",
       "    </tr>\n",
       "    <tr>\n",
       "      <th>3</th>\n",
       "      <td>965675059.0</td>\n",
       "      <td>-122.064</td>\n",
       "      <td>37.8933</td>\n",
       "      <td>IM000518</td>\n",
       "      <td></td>\n",
       "      <td>1.003837e+09</td>\n",
       "      <td>2001-10-18 14:55:54</td>\n",
       "      <td>True</td>\n",
       "    </tr>\n",
       "    <tr>\n",
       "      <th>4</th>\n",
       "      <td>965674609.0</td>\n",
       "      <td>-122.204</td>\n",
       "      <td>37.8013</td>\n",
       "      <td>IM000515</td>\n",
       "      <td></td>\n",
       "      <td>1.003837e+09</td>\n",
       "      <td>2001-10-17 17:37:57</td>\n",
       "      <td>True</td>\n",
       "    </tr>\n",
       "  </tbody>\n",
       "</table>\n",
       "</div>"
      ],
      "text/plain": [
       "            id  longitude  latitude        title  \\\n",
       "0  653243567.0   -122.302   37.7725  CV18Ashtray   \n",
       "1  654102470.0   -122.302   37.7725     waspcomp   \n",
       "2  965675667.0   -122.064   37.8933     IM000519   \n",
       "3  965675059.0   -122.064   37.8933     IM000518   \n",
       "4  965674609.0   -122.204   37.8013     IM000515   \n",
       "\n",
       "                                                tags    dateupload  \\\n",
       "0  california museum ship ashtray aircraftcarrier...  1.010012e+09   \n",
       "1  california museum ship rack aircraftcarrier al...  1.010012e+09   \n",
       "2                                                     1.003837e+09   \n",
       "3                                                     1.003837e+09   \n",
       "4                                                     1.003837e+09   \n",
       "\n",
       "             datetaken minmax_inpoly  \n",
       "0  2007-06-28 16:33:50          True  \n",
       "1  2007-06-28 16:33:48          True  \n",
       "2  2001-10-18 14:56:11          True  \n",
       "3  2001-10-18 14:55:54          True  \n",
       "4  2001-10-17 17:37:57          True  "
      ]
     },
     "execution_count": 188,
     "metadata": {},
     "output_type": "execute_result"
    }
   ],
   "source": [
    "# Add both df's\n",
    "flickr_fom_sql_unique_minmax = pd.concat([flickr_fom_sql_unique,minmax_frame], axis=1)\n",
    "flickr_fom_sql_unique_minmax.head()"
   ]
  },
  {
   "cell_type": "code",
   "execution_count": null,
   "metadata": {
    "collapsed": true
   },
   "outputs": [],
   "source": []
  },
  {
   "cell_type": "code",
   "execution_count": null,
   "metadata": {
    "collapsed": true
   },
   "outputs": [],
   "source": []
  },
  {
   "cell_type": "code",
   "execution_count": null,
   "metadata": {
    "collapsed": true
   },
   "outputs": [],
   "source": []
  },
  {
   "cell_type": "code",
   "execution_count": null,
   "metadata": {
    "collapsed": true
   },
   "outputs": [],
   "source": []
  },
  {
   "cell_type": "code",
   "execution_count": null,
   "metadata": {
    "collapsed": true
   },
   "outputs": [],
   "source": []
  },
  {
   "cell_type": "code",
   "execution_count": null,
   "metadata": {
    "collapsed": true
   },
   "outputs": [],
   "source": []
  },
  {
   "cell_type": "code",
   "execution_count": 192,
   "metadata": {
    "collapsed": false
   },
   "outputs": [],
   "source": [
    "# select every 100th point\n",
    "flickr_lng = flickr_fom_sql_unique_minmax['longitude'][flickr_fom_sql_unique_minmax['minmax_inpoly'] == True].tolist()\n",
    "flickr_lat = flickr_fom_sql_unique_minmax['latitude'][flickr_fom_sql_unique_minmax['minmax_inpoly'] == True].tolist()\n",
    "flickr_lng_sub = flickr_lng[:]\n",
    "flickr_lat_sub = flickr_lat[:]"
   ]
  },
  {
   "cell_type": "code",
   "execution_count": 198,
   "metadata": {
    "collapsed": false
   },
   "outputs": [
    {
     "data": {
      "text/html": [
       "<div>\n",
       "<table border=\"1\" class=\"dataframe\">\n",
       "  <thead>\n",
       "    <tr style=\"text-align: right;\">\n",
       "      <th></th>\n",
       "      <th>id</th>\n",
       "      <th>longitude</th>\n",
       "      <th>latitude</th>\n",
       "      <th>title</th>\n",
       "      <th>tags</th>\n",
       "      <th>dateupload</th>\n",
       "      <th>datetaken</th>\n",
       "      <th>minmax_inpoly</th>\n",
       "    </tr>\n",
       "  </thead>\n",
       "  <tbody>\n",
       "    <tr>\n",
       "      <th>0</th>\n",
       "      <td>653243567.0</td>\n",
       "      <td>-122.302</td>\n",
       "      <td>37.7725</td>\n",
       "      <td>CV18Ashtray</td>\n",
       "      <td>california museum ship ashtray aircraftcarrier...</td>\n",
       "      <td>1.010012e+09</td>\n",
       "      <td>2007-06-28 16:33:50</td>\n",
       "      <td>True</td>\n",
       "    </tr>\n",
       "    <tr>\n",
       "      <th>1</th>\n",
       "      <td>654102470.0</td>\n",
       "      <td>-122.302</td>\n",
       "      <td>37.7725</td>\n",
       "      <td>waspcomp</td>\n",
       "      <td>california museum ship rack aircraftcarrier al...</td>\n",
       "      <td>1.010012e+09</td>\n",
       "      <td>2007-06-28 16:33:48</td>\n",
       "      <td>True</td>\n",
       "    </tr>\n",
       "    <tr>\n",
       "      <th>2</th>\n",
       "      <td>965675667.0</td>\n",
       "      <td>-122.064</td>\n",
       "      <td>37.8933</td>\n",
       "      <td>IM000519</td>\n",
       "      <td></td>\n",
       "      <td>1.003837e+09</td>\n",
       "      <td>2001-10-18 14:56:11</td>\n",
       "      <td>True</td>\n",
       "    </tr>\n",
       "    <tr>\n",
       "      <th>3</th>\n",
       "      <td>965675059.0</td>\n",
       "      <td>-122.064</td>\n",
       "      <td>37.8933</td>\n",
       "      <td>IM000518</td>\n",
       "      <td></td>\n",
       "      <td>1.003837e+09</td>\n",
       "      <td>2001-10-18 14:55:54</td>\n",
       "      <td>True</td>\n",
       "    </tr>\n",
       "    <tr>\n",
       "      <th>4</th>\n",
       "      <td>965674609.0</td>\n",
       "      <td>-122.204</td>\n",
       "      <td>37.8013</td>\n",
       "      <td>IM000515</td>\n",
       "      <td></td>\n",
       "      <td>1.003837e+09</td>\n",
       "      <td>2001-10-17 17:37:57</td>\n",
       "      <td>True</td>\n",
       "    </tr>\n",
       "  </tbody>\n",
       "</table>\n",
       "</div>"
      ],
      "text/plain": [
       "            id  longitude  latitude        title  \\\n",
       "0  653243567.0   -122.302   37.7725  CV18Ashtray   \n",
       "1  654102470.0   -122.302   37.7725     waspcomp   \n",
       "2  965675667.0   -122.064   37.8933     IM000519   \n",
       "3  965675059.0   -122.064   37.8933     IM000518   \n",
       "4  965674609.0   -122.204   37.8013     IM000515   \n",
       "\n",
       "                                                tags    dateupload  \\\n",
       "0  california museum ship ashtray aircraftcarrier...  1.010012e+09   \n",
       "1  california museum ship rack aircraftcarrier al...  1.010012e+09   \n",
       "2                                                     1.003837e+09   \n",
       "3                                                     1.003837e+09   \n",
       "4                                                     1.003837e+09   \n",
       "\n",
       "             datetaken minmax_inpoly  \n",
       "0  2007-06-28 16:33:50          True  \n",
       "1  2007-06-28 16:33:48          True  \n",
       "2  2001-10-18 14:56:11          True  \n",
       "3  2001-10-18 14:55:54          True  \n",
       "4  2001-10-17 17:37:57          True  "
      ]
     },
     "execution_count": 198,
     "metadata": {},
     "output_type": "execute_result"
    }
   ],
   "source": [
    "flickr_fom_sql_unique_minmax.head()"
   ]
  },
  {
   "cell_type": "code",
   "execution_count": null,
   "metadata": {
    "collapsed": true
   },
   "outputs": [],
   "source": []
  },
  {
   "cell_type": "code",
   "execution_count": null,
   "metadata": {
    "collapsed": true
   },
   "outputs": [],
   "source": []
  },
  {
   "cell_type": "code",
   "execution_count": null,
   "metadata": {
    "collapsed": true
   },
   "outputs": [],
   "source": []
  },
  {
   "cell_type": "code",
   "execution_count": null,
   "metadata": {
    "collapsed": true
   },
   "outputs": [],
   "source": []
  },
  {
   "cell_type": "markdown",
   "metadata": {},
   "source": [
    "# How about some dogs"
   ]
  },
  {
   "cell_type": "code",
   "execution_count": 201,
   "metadata": {
    "collapsed": true
   },
   "outputs": [],
   "source": [
    "# convert title and tag column to all lower case\n",
    "flickr_fom_sql_unique['title'] = flickr_fom_sql_unique['title'].str.lower()\n",
    "flickr_fom_sql_unique['tags'] = flickr_fom_sql_unique['tags'].str.lower()"
   ]
  },
  {
   "cell_type": "code",
   "execution_count": 202,
   "metadata": {
    "collapsed": false
   },
   "outputs": [
    {
     "data": {
      "text/html": [
       "<div>\n",
       "<table border=\"1\" class=\"dataframe\">\n",
       "  <thead>\n",
       "    <tr style=\"text-align: right;\">\n",
       "      <th></th>\n",
       "      <th>id</th>\n",
       "      <th>longitude</th>\n",
       "      <th>latitude</th>\n",
       "      <th>title</th>\n",
       "      <th>tags</th>\n",
       "      <th>dateupload</th>\n",
       "      <th>datetaken</th>\n",
       "      <th>minmax_inpoly</th>\n",
       "    </tr>\n",
       "  </thead>\n",
       "  <tbody>\n",
       "    <tr>\n",
       "      <th>0</th>\n",
       "      <td>653243567.0</td>\n",
       "      <td>-122.302</td>\n",
       "      <td>37.7725</td>\n",
       "      <td>cv18ashtray</td>\n",
       "      <td>california museum ship ashtray aircraftcarrier...</td>\n",
       "      <td>1.010012e+09</td>\n",
       "      <td>2007-06-28 16:33:50</td>\n",
       "      <td>True</td>\n",
       "    </tr>\n",
       "    <tr>\n",
       "      <th>1</th>\n",
       "      <td>654102470.0</td>\n",
       "      <td>-122.302</td>\n",
       "      <td>37.7725</td>\n",
       "      <td>waspcomp</td>\n",
       "      <td>california museum ship rack aircraftcarrier al...</td>\n",
       "      <td>1.010012e+09</td>\n",
       "      <td>2007-06-28 16:33:48</td>\n",
       "      <td>True</td>\n",
       "    </tr>\n",
       "    <tr>\n",
       "      <th>2</th>\n",
       "      <td>965675667.0</td>\n",
       "      <td>-122.064</td>\n",
       "      <td>37.8933</td>\n",
       "      <td>im000519</td>\n",
       "      <td></td>\n",
       "      <td>1.003837e+09</td>\n",
       "      <td>2001-10-18 14:56:11</td>\n",
       "      <td>True</td>\n",
       "    </tr>\n",
       "    <tr>\n",
       "      <th>3</th>\n",
       "      <td>965675059.0</td>\n",
       "      <td>-122.064</td>\n",
       "      <td>37.8933</td>\n",
       "      <td>im000518</td>\n",
       "      <td></td>\n",
       "      <td>1.003837e+09</td>\n",
       "      <td>2001-10-18 14:55:54</td>\n",
       "      <td>True</td>\n",
       "    </tr>\n",
       "    <tr>\n",
       "      <th>4</th>\n",
       "      <td>965674609.0</td>\n",
       "      <td>-122.204</td>\n",
       "      <td>37.8013</td>\n",
       "      <td>im000515</td>\n",
       "      <td></td>\n",
       "      <td>1.003837e+09</td>\n",
       "      <td>2001-10-17 17:37:57</td>\n",
       "      <td>True</td>\n",
       "    </tr>\n",
       "  </tbody>\n",
       "</table>\n",
       "</div>"
      ],
      "text/plain": [
       "            id  longitude  latitude        title  \\\n",
       "0  653243567.0   -122.302   37.7725  cv18ashtray   \n",
       "1  654102470.0   -122.302   37.7725     waspcomp   \n",
       "2  965675667.0   -122.064   37.8933     im000519   \n",
       "3  965675059.0   -122.064   37.8933     im000518   \n",
       "4  965674609.0   -122.204   37.8013     im000515   \n",
       "\n",
       "                                                tags    dateupload  \\\n",
       "0  california museum ship ashtray aircraftcarrier...  1.010012e+09   \n",
       "1  california museum ship rack aircraftcarrier al...  1.010012e+09   \n",
       "2                                                     1.003837e+09   \n",
       "3                                                     1.003837e+09   \n",
       "4                                                     1.003837e+09   \n",
       "\n",
       "             datetaken minmax_inpoly  \n",
       "0  2007-06-28 16:33:50          True  \n",
       "1  2007-06-28 16:33:48          True  \n",
       "2  2001-10-18 14:56:11          True  \n",
       "3  2001-10-18 14:55:54          True  \n",
       "4  2001-10-17 17:37:57          True  "
      ]
     },
     "execution_count": 202,
     "metadata": {},
     "output_type": "execute_result"
    }
   ],
   "source": [
    "flickr_fom_sql_unique_minmax.head()"
   ]
  },
  {
   "cell_type": "code",
   "execution_count": 66,
   "metadata": {
    "collapsed": false
   },
   "outputs": [],
   "source": [
    "# Pre-select on mentions of 'dog'\n",
    "dog_title = flickr_fom_sql_unique[(flickr_fom_sql_unique['title'].str.contains(\"dog\",na=False)) & \n",
    "                                  (flickr_fom_sql_unique['title'].str.contains(\"dog\",na=False)  == False )]\n",
    "dog_tags = flickr_fom_sql_unique[flickr_fom_sql_unique['tags'].str.contains(\"dog\", na=False)]"
   ]
  },
  {
   "cell_type": "code",
   "execution_count": 65,
   "metadata": {
    "collapsed": false
   },
   "outputs": [],
   "source": [
    "dog_title = flickr_fom_sql_unique[(flickr_fom_sql_unique['id'] == 653243567.0) & \n",
    "                                  (flickr_fom_sql_unique['title'].str.contains(\"dog\",na=False)  == False)]\n"
   ]
  },
  {
   "cell_type": "code",
   "execution_count": null,
   "metadata": {
    "collapsed": true
   },
   "outputs": [],
   "source": []
  },
  {
   "cell_type": "code",
   "execution_count": null,
   "metadata": {
    "collapsed": true
   },
   "outputs": [],
   "source": []
  },
  {
   "cell_type": "code",
   "execution_count": 248,
   "metadata": {
    "collapsed": false
   },
   "outputs": [
    {
     "data": {
      "text/plain": [
       "(12039, 8)"
      ]
     },
     "execution_count": 248,
     "metadata": {},
     "output_type": "execute_result"
    }
   ],
   "source": [
    "dog_title.shape"
   ]
  },
  {
   "cell_type": "code",
   "execution_count": 249,
   "metadata": {
    "collapsed": false
   },
   "outputs": [
    {
     "data": {
      "text/html": [
       "<div>\n",
       "<table border=\"1\" class=\"dataframe\">\n",
       "  <thead>\n",
       "    <tr style=\"text-align: right;\">\n",
       "      <th></th>\n",
       "      <th>id</th>\n",
       "      <th>longitude</th>\n",
       "      <th>latitude</th>\n",
       "      <th>title</th>\n",
       "      <th>tags</th>\n",
       "      <th>dateupload</th>\n",
       "      <th>datetaken</th>\n",
       "      <th>minmax_inpoly</th>\n",
       "    </tr>\n",
       "  </thead>\n",
       "  <tbody>\n",
       "    <tr>\n",
       "      <th>271</th>\n",
       "      <td>258095.0</td>\n",
       "      <td>-122.276</td>\n",
       "      <td>37.8066</td>\n",
       "      <td>bear or dog?</td>\n",
       "      <td>sign oakland text 14thstreet fav mlkway</td>\n",
       "      <td>1.093472e+09</td>\n",
       "      <td>2004-08-25 15:20:09</td>\n",
       "      <td>True</td>\n",
       "    </tr>\n",
       "    <tr>\n",
       "      <th>291</th>\n",
       "      <td>81482.0</td>\n",
       "      <td>-122.291</td>\n",
       "      <td>37.8443</td>\n",
       "      <td>dog sign</td>\n",
       "      <td>dog cameraphone</td>\n",
       "      <td>1.089959e+09</td>\n",
       "      <td>2004-07-15 23:21:03</td>\n",
       "      <td>True</td>\n",
       "    </tr>\n",
       "    <tr>\n",
       "      <th>371</th>\n",
       "      <td>2861773.0</td>\n",
       "      <td>-122.322</td>\n",
       "      <td>37.5614</td>\n",
       "      <td>man and dog</td>\n",
       "      <td>bw pinhole zoneplate blur zeroimage people</td>\n",
       "      <td>1.104732e+09</td>\n",
       "      <td>2005-01-02 21:57:58</td>\n",
       "      <td>True</td>\n",
       "    </tr>\n",
       "    <tr>\n",
       "      <th>555</th>\n",
       "      <td>2242675.0</td>\n",
       "      <td>-122.285</td>\n",
       "      <td>37.8802</td>\n",
       "      <td>guard dog</td>\n",
       "      <td>lotusgreen</td>\n",
       "      <td>1.103166e+09</td>\n",
       "      <td>2004-12-15 18:55:29</td>\n",
       "      <td>True</td>\n",
       "    </tr>\n",
       "    <tr>\n",
       "      <th>640</th>\n",
       "      <td>1645391.0</td>\n",
       "      <td>-122.261</td>\n",
       "      <td>37.8718</td>\n",
       "      <td>doggie</td>\n",
       "      <td>bw dog 35mm canon rangefinder scan peoplespark...</td>\n",
       "      <td>1.101172e+09</td>\n",
       "      <td>2004-11-22 17:03:58</td>\n",
       "      <td>True</td>\n",
       "    </tr>\n",
       "  </tbody>\n",
       "</table>\n",
       "</div>"
      ],
      "text/plain": [
       "            id  longitude  latitude         title  \\\n",
       "271   258095.0   -122.276   37.8066  bear or dog?   \n",
       "291    81482.0   -122.291   37.8443      dog sign   \n",
       "371  2861773.0   -122.322   37.5614   man and dog   \n",
       "555  2242675.0   -122.285   37.8802     guard dog   \n",
       "640  1645391.0   -122.261   37.8718        doggie   \n",
       "\n",
       "                                                  tags    dateupload  \\\n",
       "271            sign oakland text 14thstreet fav mlkway  1.093472e+09   \n",
       "291                                    dog cameraphone  1.089959e+09   \n",
       "371         bw pinhole zoneplate blur zeroimage people  1.104732e+09   \n",
       "555                                         lotusgreen  1.103166e+09   \n",
       "640  bw dog 35mm canon rangefinder scan peoplespark...  1.101172e+09   \n",
       "\n",
       "               datetaken minmax_inpoly  \n",
       "271  2004-08-25 15:20:09          True  \n",
       "291  2004-07-15 23:21:03          True  \n",
       "371  2005-01-02 21:57:58          True  \n",
       "555  2004-12-15 18:55:29          True  \n",
       "640  2004-11-22 17:03:58          True  "
      ]
     },
     "execution_count": 249,
     "metadata": {},
     "output_type": "execute_result"
    }
   ],
   "source": [
    "dog_title.head()"
   ]
  },
  {
   "cell_type": "code",
   "execution_count": 208,
   "metadata": {
    "collapsed": false
   },
   "outputs": [
    {
     "data": {
      "text/plain": [
       "(29803, 8)"
      ]
     },
     "execution_count": 208,
     "metadata": {},
     "output_type": "execute_result"
    }
   ],
   "source": [
    "dog_tags.shape"
   ]
  },
  {
   "cell_type": "code",
   "execution_count": 250,
   "metadata": {
    "collapsed": false
   },
   "outputs": [
    {
     "data": {
      "text/html": [
       "<div>\n",
       "<table border=\"1\" class=\"dataframe\">\n",
       "  <thead>\n",
       "    <tr style=\"text-align: right;\">\n",
       "      <th></th>\n",
       "      <th>id</th>\n",
       "      <th>longitude</th>\n",
       "      <th>latitude</th>\n",
       "      <th>title</th>\n",
       "      <th>tags</th>\n",
       "      <th>dateupload</th>\n",
       "      <th>datetaken</th>\n",
       "      <th>minmax_inpoly</th>\n",
       "    </tr>\n",
       "  </thead>\n",
       "  <tbody>\n",
       "    <tr>\n",
       "      <th>291</th>\n",
       "      <td>81482.0</td>\n",
       "      <td>-122.291</td>\n",
       "      <td>37.8443</td>\n",
       "      <td>dog sign</td>\n",
       "      <td>dog cameraphone</td>\n",
       "      <td>1.089959e+09</td>\n",
       "      <td>2004-07-15 23:21:03</td>\n",
       "      <td>True</td>\n",
       "    </tr>\n",
       "    <tr>\n",
       "      <th>470</th>\n",
       "      <td>2501390.0</td>\n",
       "      <td>-122.222</td>\n",
       "      <td>37.8092</td>\n",
       "      <td>2 brothers</td>\n",
       "      <td>dog goose springerspaniel isidore englishsprin...</td>\n",
       "      <td>1.103914e+09</td>\n",
       "      <td>2004-12-24 09:07:38</td>\n",
       "      <td>True</td>\n",
       "    </tr>\n",
       "    <tr>\n",
       "      <th>484</th>\n",
       "      <td>2426142.0</td>\n",
       "      <td>-122.222</td>\n",
       "      <td>37.8092</td>\n",
       "      <td>goose on porch</td>\n",
       "      <td>dog goose springerspaniel englishspringerspaniel</td>\n",
       "      <td>1.103693e+09</td>\n",
       "      <td>2004-12-21 10:23:48</td>\n",
       "      <td>True</td>\n",
       "    </tr>\n",
       "    <tr>\n",
       "      <th>631</th>\n",
       "      <td>1702005.0</td>\n",
       "      <td>-122.274</td>\n",
       "      <td>37.8556</td>\n",
       "      <td>peter and buster</td>\n",
       "      <td>me fosterdog</td>\n",
       "      <td>1.101420e+09</td>\n",
       "      <td>2004-11-25 14:02:44</td>\n",
       "      <td>True</td>\n",
       "    </tr>\n",
       "    <tr>\n",
       "      <th>640</th>\n",
       "      <td>1645391.0</td>\n",
       "      <td>-122.261</td>\n",
       "      <td>37.8718</td>\n",
       "      <td>doggie</td>\n",
       "      <td>bw dog 35mm canon rangefinder scan peoplespark...</td>\n",
       "      <td>1.101172e+09</td>\n",
       "      <td>2004-11-22 17:03:58</td>\n",
       "      <td>True</td>\n",
       "    </tr>\n",
       "  </tbody>\n",
       "</table>\n",
       "</div>"
      ],
      "text/plain": [
       "            id  longitude  latitude             title  \\\n",
       "291    81482.0   -122.291   37.8443          dog sign   \n",
       "470  2501390.0   -122.222   37.8092        2 brothers   \n",
       "484  2426142.0   -122.222   37.8092    goose on porch   \n",
       "631  1702005.0   -122.274   37.8556  peter and buster   \n",
       "640  1645391.0   -122.261   37.8718            doggie   \n",
       "\n",
       "                                                  tags    dateupload  \\\n",
       "291                                    dog cameraphone  1.089959e+09   \n",
       "470  dog goose springerspaniel isidore englishsprin...  1.103914e+09   \n",
       "484   dog goose springerspaniel englishspringerspaniel  1.103693e+09   \n",
       "631                                       me fosterdog  1.101420e+09   \n",
       "640  bw dog 35mm canon rangefinder scan peoplespark...  1.101172e+09   \n",
       "\n",
       "               datetaken minmax_inpoly  \n",
       "291  2004-07-15 23:21:03          True  \n",
       "470  2004-12-24 09:07:38          True  \n",
       "484  2004-12-21 10:23:48          True  \n",
       "631  2004-11-25 14:02:44          True  \n",
       "640  2004-11-22 17:03:58          True  "
      ]
     },
     "execution_count": 250,
     "metadata": {},
     "output_type": "execute_result"
    }
   ],
   "source": [
    "dog_tags.head()"
   ]
  },
  {
   "cell_type": "code",
   "execution_count": 252,
   "metadata": {
    "collapsed": false
   },
   "outputs": [
    {
     "data": {
      "text/plain": [
       "(41842, 8)"
      ]
     },
     "execution_count": 252,
     "metadata": {},
     "output_type": "execute_result"
    }
   ],
   "source": [
    "# Put them both together\n",
    "dog_all = dog_tags.append(dog_title)\n",
    "dog_all.shape"
   ]
  },
  {
   "cell_type": "code",
   "execution_count": 254,
   "metadata": {
    "collapsed": false
   },
   "outputs": [
    {
     "data": {
      "text/plain": [
       "(37440, 8)"
      ]
     },
     "execution_count": 254,
     "metadata": {},
     "output_type": "execute_result"
    }
   ],
   "source": [
    "dog_all_clean = dog_all.drop_duplicates(subset='id', keep='first')\n",
    "dog_all_clean.shape"
   ]
  },
  {
   "cell_type": "code",
   "execution_count": 255,
   "metadata": {
    "collapsed": false
   },
   "outputs": [
    {
     "name": "stdout",
     "output_type": "stream",
     "text": [
      "--- 92.0753600597 seconds ---\n"
     ]
    }
   ],
   "source": [
    "# Plot doggy pictures on map\n",
    "from matplotlib.patches import Polygon\n",
    "from matplotlib.collections import PatchCollection\n",
    "import time\n",
    "\n",
    "start_time = time.time()\n",
    "\n",
    "flickr_lng = dog_all_clean['longitude'].tolist()\n",
    "flickr_lat = dog_all_clean['latitude'].tolist()\n",
    "\n",
    "\n",
    "fig = plt.figure(figsize=(10,10))\n",
    "ax = fig.add_subplot(111)\n",
    "# Create patches list\n",
    "patches = []\n",
    "colors = []\n",
    "# Create polygon for CA outline and attach to pacthes list\n",
    "polygon = Polygon(np.transpose(np.array((x_coords_cal,y_coords_cal))), True)\n",
    "patches.append(polygon)\n",
    "colors.append('0.85')\n",
    "# Create polygon for urbanized areas and attach to pactheslist\n",
    "for urban_area in urban_area_list_coords.keys():\n",
    "    tmp_list = urban_area_list_coords[urban_area]\n",
    "    try:\n",
    "        for coord_list in tmp_list:\n",
    "            x_coords = [x[0] for x in coord_list]\n",
    "            y_coords = [x[1] for x in coord_list]\n",
    "            polygon = Polygon(np.transpose(np.array((x_coords,y_coords))), True)\n",
    "            patches.append(polygon)\n",
    "            colors.append('0.75')\n",
    "    except:\n",
    "        pass\n",
    "\n",
    "\n",
    "plt.xlim(-123,-121.5)\n",
    "plt.ylim(36.5,38.5)  \n",
    "# Draw shpes\n",
    "collection = PatchCollection(patches)\n",
    "ax.add_collection(collection)\n",
    "collection.set_color(colors)\n",
    "# Add datapoints\n",
    "for index, row in enumerate(flickr_lng):\n",
    "    tmp_lng = row\n",
    "    tmp_lat = flickr_lat[index]\n",
    "    plt.plot(tmp_lng,tmp_lat,'+r',markersize=2)\n",
    "plt.savefig('test_dog_all.png',bbox_inches='tight')\n",
    "#plt.show()\n",
    "plt.close()\n",
    "print(\"--- %s seconds ---\" % (time.time() - start_time))"
   ]
  },
  {
   "cell_type": "markdown",
   "metadata": {},
   "source": [
    "### That does not look too promising. Very little dog pictures in non-urban areas close to the bay."
   ]
  },
  {
   "cell_type": "markdown",
   "metadata": {},
   "source": [
    "## Try traffic incidents instead"
   ]
  },
  {
   "cell_type": "code",
   "execution_count": 256,
   "metadata": {
    "collapsed": true
   },
   "outputs": [],
   "source": [
    "# Pre-select on mentions of traffic incident realted language\n",
    "searchfor = ['accident', 'crash']\n",
    "traffic_title = flickr_fom_sql_unique_minmax[flickr_fom_sql_unique_minmax['title']\n",
    "                                             .str.contains(\"|\".join(searchfor),na=False)]\n",
    "traffic_tags = flickr_fom_sql_unique_minmax[flickr_fom_sql_unique_minmax['tags']\n",
    "                                             .str.contains(\"|\".join(searchfor),na=False)]\n"
   ]
  },
  {
   "cell_type": "code",
   "execution_count": 259,
   "metadata": {
    "collapsed": false
   },
   "outputs": [
    {
     "data": {
      "text/plain": [
       "(1743, 8)"
      ]
     },
     "execution_count": 259,
     "metadata": {},
     "output_type": "execute_result"
    }
   ],
   "source": [
    "traffic_title.shape"
   ]
  },
  {
   "cell_type": "code",
   "execution_count": 260,
   "metadata": {
    "collapsed": false
   },
   "outputs": [
    {
     "data": {
      "text/plain": [
       "(3075, 8)"
      ]
     },
     "execution_count": 260,
     "metadata": {},
     "output_type": "execute_result"
    }
   ],
   "source": [
    "traffic_tags.shape"
   ]
  },
  {
   "cell_type": "code",
   "execution_count": 261,
   "metadata": {
    "collapsed": false
   },
   "outputs": [
    {
     "data": {
      "text/plain": [
       "(4818, 8)"
      ]
     },
     "execution_count": 261,
     "metadata": {},
     "output_type": "execute_result"
    }
   ],
   "source": [
    "# Put them both together\n",
    "traffic_all = traffic_tags.append(traffic_title)\n",
    "traffic_all.shape"
   ]
  },
  {
   "cell_type": "code",
   "execution_count": 262,
   "metadata": {
    "collapsed": false
   },
   "outputs": [
    {
     "data": {
      "text/plain": [
       "(4280, 8)"
      ]
     },
     "execution_count": 262,
     "metadata": {},
     "output_type": "execute_result"
    }
   ],
   "source": [
    "traffic_all_clean = traffic_all.drop_duplicates(subset='id', keep='first')\n",
    "traffic_all_clean.shape"
   ]
  },
  {
   "cell_type": "code",
   "execution_count": 264,
   "metadata": {
    "collapsed": false
   },
   "outputs": [
    {
     "name": "stdout",
     "output_type": "stream",
     "text": [
      "--- 8.15709805489 seconds ---\n"
     ]
    }
   ],
   "source": [
    "# Plot traffic pictures on map\n",
    "from matplotlib.patches import Polygon\n",
    "from matplotlib.collections import PatchCollection\n",
    "import time\n",
    "\n",
    "start_time = time.time()\n",
    "\n",
    "flickr_lng = traffic_all_clean['longitude'].tolist()\n",
    "flickr_lat = traffic_all_clean['latitude'].tolist()\n",
    "\n",
    "\n",
    "fig = plt.figure(figsize=(10,10))\n",
    "ax = fig.add_subplot(111)\n",
    "# Create patches list\n",
    "patches = []\n",
    "colors = []\n",
    "# Create polygon for CA outline and attach to pacthes list\n",
    "polygon = Polygon(np.transpose(np.array((x_coords_cal,y_coords_cal))), True)\n",
    "patches.append(polygon)\n",
    "colors.append('0.85')\n",
    "# Create polygon for urbanized areas and attach to pactheslist\n",
    "for urban_area in urban_area_list_coords.keys():\n",
    "    tmp_list = urban_area_list_coords[urban_area]\n",
    "    try:\n",
    "        for coord_list in tmp_list:\n",
    "            x_coords = [x[0] for x in coord_list]\n",
    "            y_coords = [x[1] for x in coord_list]\n",
    "            polygon = Polygon(np.transpose(np.array((x_coords,y_coords))), True)\n",
    "            patches.append(polygon)\n",
    "            colors.append('0.75')\n",
    "    except:\n",
    "        pass\n",
    "\n",
    "\n",
    "plt.xlim(-123,-121.5)\n",
    "plt.ylim(36.5,38.5)  \n",
    "# Draw shpes\n",
    "collection = PatchCollection(patches)\n",
    "ax.add_collection(collection)\n",
    "collection.set_color(colors)\n",
    "# Add datapoints\n",
    "for index, row in enumerate(flickr_lng):\n",
    "    tmp_lng = row\n",
    "    tmp_lat = flickr_lat[index]\n",
    "    plt.plot(tmp_lng,tmp_lat,'+r',markersize=2)\n",
    "plt.savefig('test_traffic_all.png',bbox_inches='tight')\n",
    "#plt.show()\n",
    "plt.close()\n",
    "print(\"--- %s seconds ---\" % (time.time() - start_time))"
   ]
  },
  {
   "cell_type": "markdown",
   "metadata": {},
   "source": [
    "## Try traffic itself"
   ]
  },
  {
   "cell_type": "code",
   "execution_count": 37,
   "metadata": {
    "collapsed": false
   },
   "outputs": [],
   "source": [
    "# Pre-select on mentions of traffic incident realted language\n",
    "traffic_title = flickr_fom_sql_unique[flickr_fom_sql_unique['title']\n",
    "                                      .str.contains(\"traffic\",na=False)]\n",
    "traffic_tags = flickr_fom_sql_unique[flickr_fom_sql_unique['tags']\n",
    "                                     .str.contains(\"traffic\",na=False)]\n"
   ]
  },
  {
   "cell_type": "code",
   "execution_count": 38,
   "metadata": {
    "collapsed": false
   },
   "outputs": [
    {
     "data": {
      "text/plain": [
       "(857, 7)"
      ]
     },
     "execution_count": 38,
     "metadata": {},
     "output_type": "execute_result"
    }
   ],
   "source": [
    "traffic_title.shape"
   ]
  },
  {
   "cell_type": "code",
   "execution_count": 39,
   "metadata": {
    "collapsed": false
   },
   "outputs": [
    {
     "data": {
      "text/plain": [
       "(6733, 7)"
      ]
     },
     "execution_count": 39,
     "metadata": {},
     "output_type": "execute_result"
    }
   ],
   "source": [
    "traffic_tags.shape"
   ]
  },
  {
   "cell_type": "code",
   "execution_count": 40,
   "metadata": {
    "collapsed": false
   },
   "outputs": [
    {
     "data": {
      "text/plain": [
       "(7590, 7)"
      ]
     },
     "execution_count": 40,
     "metadata": {},
     "output_type": "execute_result"
    }
   ],
   "source": [
    "# Put them both together\n",
    "traffic_all = traffic_tags.append(traffic_title)\n",
    "traffic_all.shape"
   ]
  },
  {
   "cell_type": "code",
   "execution_count": 41,
   "metadata": {
    "collapsed": false
   },
   "outputs": [
    {
     "data": {
      "text/plain": [
       "(7445, 7)"
      ]
     },
     "execution_count": 41,
     "metadata": {},
     "output_type": "execute_result"
    }
   ],
   "source": [
    "traffic_all_clean = traffic_all.drop_duplicates(subset='id', keep='first')\n",
    "traffic_all_clean.shape"
   ]
  },
  {
   "cell_type": "code",
   "execution_count": 42,
   "metadata": {
    "collapsed": false
   },
   "outputs": [
    {
     "name": "stdout",
     "output_type": "stream",
     "text": [
      "--- 12.8376581669 seconds ---\n"
     ]
    }
   ],
   "source": [
    "# Plot traffic pictures on map\n",
    "from matplotlib.patches import Polygon\n",
    "from matplotlib.collections import PatchCollection\n",
    "import time\n",
    "\n",
    "start_time = time.time()\n",
    "\n",
    "flickr_lng = traffic_all_clean['longitude'].tolist()\n",
    "flickr_lat = traffic_all_clean['latitude'].tolist()\n",
    "\n",
    "\n",
    "fig = plt.figure(figsize=(10,10))\n",
    "ax = fig.add_subplot(111)\n",
    "# Create patches list\n",
    "patches = []\n",
    "colors = []\n",
    "# Create polygon for CA outline and attach to pacthes list\n",
    "polygon = Polygon(np.transpose(np.array((x_coords_cal,y_coords_cal))), True)\n",
    "patches.append(polygon)\n",
    "colors.append('0.85')\n",
    "# Create polygon for urbanized areas and attach to pactheslist\n",
    "for urban_area in urban_area_list_coords.keys():\n",
    "    tmp_list = urban_area_list_coords[urban_area]\n",
    "    try:\n",
    "        for coord_list in tmp_list:\n",
    "            x_coords = [x[0] for x in coord_list]\n",
    "            y_coords = [x[1] for x in coord_list]\n",
    "            polygon = Polygon(np.transpose(np.array((x_coords,y_coords))), True)\n",
    "            patches.append(polygon)\n",
    "            colors.append('0.75')\n",
    "    except:\n",
    "        pass\n",
    "\n",
    "\n",
    "plt.xlim(-123,-121.5)\n",
    "plt.ylim(36.5,38.5)  \n",
    "# Draw shpes\n",
    "collection = PatchCollection(patches)\n",
    "ax.add_collection(collection)\n",
    "collection.set_color(colors)\n",
    "# Add datapoints\n",
    "for index, row in enumerate(flickr_lng):\n",
    "    tmp_lng = row\n",
    "    tmp_lat = flickr_lat[index]\n",
    "    plt.plot(tmp_lng,tmp_lat,'+r',markersize=2)\n",
    "plt.savefig('test_traffic_generic.png',bbox_inches='tight')\n",
    "#plt.show()\n",
    "plt.close()\n",
    "print(\"--- %s seconds ---\" % (time.time() - start_time))"
   ]
  },
  {
   "cell_type": "code",
   "execution_count": null,
   "metadata": {
    "collapsed": true
   },
   "outputs": [],
   "source": []
  },
  {
   "cell_type": "code",
   "execution_count": null,
   "metadata": {
    "collapsed": true
   },
   "outputs": [],
   "source": []
  },
  {
   "cell_type": "markdown",
   "metadata": {},
   "source": [
    "# Try motorcycles"
   ]
  },
  {
   "cell_type": "code",
   "execution_count": 68,
   "metadata": {
    "collapsed": true
   },
   "outputs": [],
   "source": [
    "# Pre-select on mentions of traffic incident realted language\n",
    "query = flickr_fom_sql_unique['title'].str.contains(\"motorcycle\",na=False)\n",
    "\n",
    "motorcycle_title = flickr_fom_sql_unique[query]\n",
    "\n",
    "\n",
    "\n",
    "# motorcycle_title = flickr_fom_sql_unique[flickr_fom_sql_unique['title']\n",
    "#                                       .str.contains(\"motorcycle\",na=False)]\n",
    "# motorcycle_tags = flickr_fom_sql_unique[flickr_fom_sql_unique['tags']\n",
    "#                                      .str.contains(\"motorcycle\",na=False)]\n"
   ]
  },
  {
   "cell_type": "code",
   "execution_count": 69,
   "metadata": {
    "collapsed": false
   },
   "outputs": [
    {
     "data": {
      "text/plain": [
       "(275, 7)"
      ]
     },
     "execution_count": 69,
     "metadata": {},
     "output_type": "execute_result"
    }
   ],
   "source": [
    "motorcycle_title.shape"
   ]
  },
  {
   "cell_type": "code",
   "execution_count": 47,
   "metadata": {
    "collapsed": false
   },
   "outputs": [
    {
     "data": {
      "text/plain": [
       "(6355, 7)"
      ]
     },
     "execution_count": 47,
     "metadata": {},
     "output_type": "execute_result"
    }
   ],
   "source": [
    "motorcycle_tags.shape"
   ]
  },
  {
   "cell_type": "code",
   "execution_count": 48,
   "metadata": {
    "collapsed": false
   },
   "outputs": [
    {
     "data": {
      "text/plain": [
       "(6630, 7)"
      ]
     },
     "execution_count": 48,
     "metadata": {},
     "output_type": "execute_result"
    }
   ],
   "source": [
    "# Put them both together\n",
    "motorcycle_all = motorcycle_tags.append(motorcycle_title)\n",
    "motorcycle_all.shape"
   ]
  },
  {
   "cell_type": "code",
   "execution_count": 49,
   "metadata": {
    "collapsed": false
   },
   "outputs": [
    {
     "data": {
      "text/plain": [
       "(6586, 7)"
      ]
     },
     "execution_count": 49,
     "metadata": {},
     "output_type": "execute_result"
    }
   ],
   "source": [
    "motorcycle_all_clean = motorcycle_all.drop_duplicates(subset='id', keep='first')\n",
    "motorcycle_all_clean.shape"
   ]
  },
  {
   "cell_type": "code",
   "execution_count": 50,
   "metadata": {
    "collapsed": false
   },
   "outputs": [
    {
     "name": "stdout",
     "output_type": "stream",
     "text": [
      "--- 16.7362110615 seconds ---\n"
     ]
    }
   ],
   "source": [
    "# Plot traffic pictures on map\n",
    "from matplotlib.patches import Polygon\n",
    "from matplotlib.collections import PatchCollection\n",
    "import time\n",
    "\n",
    "start_time = time.time()\n",
    "\n",
    "flickr_lng = motorcycle_all_clean['longitude'].tolist()\n",
    "flickr_lat = motorcycle_all_clean['latitude'].tolist()\n",
    "\n",
    "\n",
    "fig = plt.figure(figsize=(10,10))\n",
    "ax = fig.add_subplot(111)\n",
    "# Create patches list\n",
    "patches = []\n",
    "colors = []\n",
    "# Create polygon for CA outline and attach to pacthes list\n",
    "polygon = Polygon(np.transpose(np.array((x_coords_cal,y_coords_cal))), True)\n",
    "patches.append(polygon)\n",
    "colors.append('0.85')\n",
    "# Create polygon for urbanized areas and attach to pactheslist\n",
    "for urban_area in urban_area_list_coords.keys():\n",
    "    tmp_list = urban_area_list_coords[urban_area]\n",
    "    try:\n",
    "        for coord_list in tmp_list:\n",
    "            x_coords = [x[0] for x in coord_list]\n",
    "            y_coords = [x[1] for x in coord_list]\n",
    "            polygon = Polygon(np.transpose(np.array((x_coords,y_coords))), True)\n",
    "            patches.append(polygon)\n",
    "            colors.append('0.75')\n",
    "    except:\n",
    "        pass\n",
    "\n",
    "\n",
    "plt.xlim(-123,-121.5)\n",
    "plt.ylim(36.5,38.5)  \n",
    "# Draw shpes\n",
    "collection = PatchCollection(patches)\n",
    "ax.add_collection(collection)\n",
    "collection.set_color(colors)\n",
    "# Add datapoints\n",
    "for index, row in enumerate(flickr_lng):\n",
    "    tmp_lng = row\n",
    "    tmp_lat = flickr_lat[index]\n",
    "    plt.plot(tmp_lng,tmp_lat,'+r',markersize=2)\n",
    "plt.savefig('test_motorcycle.png',bbox_inches='tight')\n",
    "#plt.show()\n",
    "plt.close()\n",
    "print(\"--- %s seconds ---\" % (time.time() - start_time))"
   ]
  },
  {
   "cell_type": "code",
   "execution_count": null,
   "metadata": {
    "collapsed": true
   },
   "outputs": [],
   "source": []
  },
  {
   "cell_type": "code",
   "execution_count": 85,
   "metadata": {
    "collapsed": false
   },
   "outputs": [],
   "source": [
    "def create_tag_map(tag_list,exclusions='',plot=False):\n",
    "    \"\"\"\n",
    "    Create a map of the bay area showing the geographic distribution\n",
    "    of Flickr images matching a serach string.\n",
    "    If 'tag_list' is a list, they will be combined with OR.\n",
    "    \"\"\"\n",
    "    if len(exclusions) > 0:\n",
    "        exclusion_flag = True\n",
    "        if type(exclusions) == list:\n",
    "            exclusion_title = flickr_fom_sql_unique['title'].str.contains(\"|\".join(exclusions),na=False)  == False\n",
    "            exclusion_tag = flickr_fom_sql_unique['tags'].str.contains(\"|\".join(exclusions),na=False)  == False\n",
    "        else:\n",
    "            exclusion_title = flickr_fom_sql_unique['title'].str.contains(exclusions,na=False)  == False\n",
    "            exclusion_tag = flickr_fom_sql_unique['tags'].str.contains(exclusions,na=False)  == False\n",
    "    else:\n",
    "        exclusion_flag = False\n",
    "            \n",
    "    if type(tag_list) == list:\n",
    "        query_title = flickr_fom_sql_unique['title'].str.contains(\"|\".join(searchfor),na=False)\n",
    "        query_tag = flickr_fom_sql_unique['tags'].str.contains(\"|\".join(searchfor),na=False)\n",
    "    else:\n",
    "        query_title = flickr_fom_sql_unique['title'].str.contains(tag_list,na=False)\n",
    "        query_tag = flickr_fom_sql_unique['tags'].str.contains(tag_list,na=False)\n",
    "    if exclusion_flag:\n",
    "        title_matches = flickr_fom_sql_unique[(query_title) & (exclusion_title)]\n",
    "        tag_matches = flickr_fom_sql_unique[(query_tag) & (exclusion_tag)]\n",
    "    else:\n",
    "        title_matches = flickr_fom_sql_unique[(query_title)]\n",
    "        tag_matches = flickr_fom_sql_unique[(query_tag)]\n",
    "    # Put them both together\n",
    "    all_matches = tag_matches.append(title_matches)\n",
    "    # Remove duplicates\n",
    "    all_matches_clean = all_matches.drop_duplicates(subset='id', keep='first')\n",
    "    # Plot if requested\n",
    "    if plot:\n",
    "        # Plot traffic pictures on map\n",
    "        from matplotlib.patches import Polygon\n",
    "        from matplotlib.collections import PatchCollection\n",
    "        flickr_lng = all_matches_clean['longitude'].tolist()\n",
    "        flickr_lat = all_matches_clean['latitude'].tolist()\n",
    "        fig = plt.figure(figsize=(10,10))\n",
    "        ax = fig.add_subplot(111)\n",
    "        # Create patches list\n",
    "        patches = []\n",
    "        colors = []\n",
    "        # Create polygon for CA outline and attach to pacthes list\n",
    "        polygon = Polygon(np.transpose(np.array((x_coords_cal,y_coords_cal))), True)\n",
    "        patches.append(polygon)\n",
    "        colors.append('0.85')\n",
    "        # Create polygon for urbanized areas and attach to pactheslist\n",
    "        for urban_area in urban_area_list_coords.keys():\n",
    "            tmp_list = urban_area_list_coords[urban_area]\n",
    "            try:\n",
    "                for coord_list in tmp_list:\n",
    "                    x_coords = [x[0] for x in coord_list]\n",
    "                    y_coords = [x[1] for x in coord_list]\n",
    "                    polygon = Polygon(np.transpose(np.array((x_coords,y_coords))), True)\n",
    "                    patches.append(polygon)\n",
    "                    colors.append('0.75')\n",
    "            except:\n",
    "                pass\n",
    "        plt.xlim(-123,-121.5)\n",
    "        plt.ylim(36.5,38.5)  \n",
    "        # Draw shpes\n",
    "        collection = PatchCollection(patches)\n",
    "        ax.add_collection(collection)\n",
    "        collection.set_color(colors)\n",
    "        # Add datapoints\n",
    "        for index, row in enumerate(flickr_lng):\n",
    "            tmp_lng = row\n",
    "            tmp_lat = flickr_lat[index]\n",
    "            plt.plot(tmp_lng,tmp_lat,'+r',markersize=2)\n",
    "        if type(tag_list)  == list:\n",
    "            outfile = 'test_'+'_'.join(tag_list)+'.png'\n",
    "        else:\n",
    "            outfile = 'test_'+tag_list+'.png'\n",
    "        plt.savefig(outfile,bbox_inches='tight')\n",
    "        #plt.show()\n",
    "        plt.close()\n",
    "    return all_matches_clean\n",
    "    \n",
    "    "
   ]
  },
  {
   "cell_type": "code",
   "execution_count": 86,
   "metadata": {
    "collapsed": false
   },
   "outputs": [
    {
     "name": "stdout",
     "output_type": "stream",
     "text": [
      "--- 7.77597594261 seconds ---\n"
     ]
    }
   ],
   "source": [
    "start_time = time.time()\n",
    "\n",
    "out = create_tag_map('dog',plot=False)\n",
    "\n",
    "print(\"--- %s seconds ---\" % (time.time() - start_time))"
   ]
  },
  {
   "cell_type": "code",
   "execution_count": 88,
   "metadata": {
    "collapsed": false
   },
   "outputs": [],
   "source": [
    "out.to_pickle(os.path.join('..','data','dog.df'))"
   ]
  },
  {
   "cell_type": "code",
   "execution_count": null,
   "metadata": {
    "collapsed": true
   },
   "outputs": [],
   "source": []
  },
  {
   "cell_type": "code",
   "execution_count": null,
   "metadata": {
    "collapsed": true
   },
   "outputs": [],
   "source": []
  },
  {
   "cell_type": "code",
   "execution_count": null,
   "metadata": {
    "collapsed": true
   },
   "outputs": [],
   "source": []
  },
  {
   "cell_type": "code",
   "execution_count": null,
   "metadata": {
    "collapsed": true
   },
   "outputs": [],
   "source": []
  },
  {
   "cell_type": "code",
   "execution_count": null,
   "metadata": {
    "collapsed": true
   },
   "outputs": [],
   "source": []
  },
  {
   "cell_type": "code",
   "execution_count": null,
   "metadata": {
    "collapsed": true
   },
   "outputs": [],
   "source": [
    "# Get random 100k llines from data frame (4.9m)"
   ]
  },
  {
   "cell_type": "code",
   "execution_count": 193,
   "metadata": {
    "collapsed": true
   },
   "outputs": [],
   "source": [
    "# Calculate paths number \n",
    "urban_area_list_coords_flat_path = {}\n",
    "for urban_area in urban_area_list_coords.keys():\n",
    "    tmp_list = urban_area_list_coords[urban_area]\n",
    "    if len(tmp_list[0]) > 2:\n",
    "        for idx,coord_list in enumerate(tmp_list):\n",
    "            x_coords = [x[0] for x in coord_list]\n",
    "            y_coords = [x[1] for x in coord_list]\n",
    "            if len(x_coords) > 0 and len(y_coords) > 0:\n",
    "                bbPath = mplPath.Path(np.transpose(np.array((x_coords,y_coords))),closed=True)\n",
    "                if urban_area in urban_area_list_coords_flat_path.keys():\n",
    "                    urban_area_list_coords_flat_path[urban_area+'_'+str(idx)] = bbPath\n",
    "                else:\n",
    "                    urban_area_list_coords_flat_path[urban_area] = bbPath\n",
    "            \n",
    "    else:\n",
    "        x_coords = [x[0] for x in tmp_list]\n",
    "        y_coords = [x[1] for x in tmp_list]\n",
    "        x_min = min(x_coords)\n",
    "        x_max = max(x_coords)\n",
    "        y_min = min(y_coords)\n",
    "        y_max = max(y_coords)\n",
    "        urban_area_list_coords_flat_path[urban_area] = bbPath\n",
    "        "
   ]
  },
  {
   "cell_type": "code",
   "execution_count": 194,
   "metadata": {
    "collapsed": false
   },
   "outputs": [
    {
     "name": "stdout",
     "output_type": "stream",
     "text": [
      "{'son_1': Path(array([[-122.519348,   38.351343],\n",
      "       [-122.518553,   38.351527],\n",
      "       [-122.518356,   38.351546],\n",
      "       ..., \n",
      "       [-122.518996,   38.350922],\n",
      "       [-122.519263,   38.351238],\n",
      "       [-122.519348,   38.351343]]), array([ 1,  2,  2, ...,  2,  2, 79], dtype=uint8)), 'son': Path(array([[-122.519348,   38.351343],\n",
      "       [-122.519544,   38.351297],\n",
      "       [-122.519579,   38.35128 ],\n",
      "       ..., \n",
      "       [-122.519871,   38.35196 ],\n",
      "       [-122.519753,   38.351843],\n",
      "       [-122.519348,   38.351343]]), array([ 1,  2,  2, ...,  2,  2, 79], dtype=uint8)), 'sf_2': Path(array([[-122.37997 ,   37.760224],\n",
      "       [-122.38017 ,   37.762124],\n",
      "       [-122.37987 ,   37.762224],\n",
      "       [-122.37997 ,   37.760224]]), array([ 1,  2,  2, 79], dtype=uint8)), 'sf_3': Path(array([[-122.53431 ,   38.06468 ],\n",
      "       [-122.534062,   38.064887],\n",
      "       [-122.534038,   38.064917],\n",
      "       [-122.534022,   38.064938],\n",
      "       [-122.533991,   38.065005],\n",
      "       [-122.533977,   38.065077],\n",
      "       [-122.533983,   38.065149],\n",
      "       [-122.534008,   38.065218],\n",
      "       [-122.53405 ,   38.065282],\n",
      "       [-122.534108,   38.065337],\n",
      "       [-122.53413 ,   38.065354],\n",
      "       [-122.534625,   38.065657],\n",
      "       [-122.534661,   38.065679],\n",
      "       [-122.534437,   38.065908],\n",
      "       [-122.534358,   38.065989],\n",
      "       [-122.534121,   38.066232],\n",
      "       [-122.534042,   38.066313],\n",
      "       [-122.533922,   38.066216],\n",
      "       [-122.533823,   38.066135],\n",
      "       [-122.533742,   38.06605 ],\n",
      "       [-122.533692,   38.065981],\n",
      "       [-122.533639,   38.065884],\n",
      "       [-122.533633,   38.065865],\n",
      "       [-122.53361 ,   38.065793],\n",
      "       [-122.533605,   38.065716],\n",
      "       [-122.533612,   38.065681],\n",
      "       [-122.533616,   38.065668],\n",
      "       [-122.533669,   38.065593],\n",
      "       [-122.53369 ,   38.065565],\n",
      "       [-122.533715,   38.065462],\n",
      "       [-122.533792,   38.065154],\n",
      "       [-122.533818,   38.065052],\n",
      "       [-122.533916,   38.064977],\n",
      "       [-122.534211,   38.064754],\n",
      "       [-122.53431 ,   38.06468 ]]), array([ 1,  2,  2,  2,  2,  2,  2,  2,  2,  2,  2,  2,  2,  2,  2,  2,  2,\n",
      "        2,  2,  2,  2,  2,  2,  2,  2,  2,  2,  2,  2,  2,  2,  2,  2,  2,\n",
      "       79], dtype=uint8)), 'conc': Path(array([[-121.967905,   37.925781],\n",
      "       [-121.967658,   37.925778],\n",
      "       [-121.967751,   37.925678],\n",
      "       [-121.968156,   37.925273],\n",
      "       [-121.968393,   37.925142],\n",
      "       [-121.968463,   37.925117],\n",
      "       [-121.968371,   37.925225],\n",
      "       [-121.967905,   37.925781]]), array([ 1,  2,  2,  2,  2,  2,  2, 79], dtype=uint8)), 'sf_6': Path(array([[-122.267548,   37.417617],\n",
      "       [-122.267484,   37.417558],\n",
      "       [-122.267385,   37.417482],\n",
      "       [-122.267205,   37.417355],\n",
      "       [-122.267146,   37.417314],\n",
      "       [-122.266278,   37.416877],\n",
      "       [-122.26618 ,   37.416811],\n",
      "       [-122.266081,   37.416724],\n",
      "       [-122.266079,   37.416722],\n",
      "       [-122.265953,   37.416552],\n",
      "       [-122.265798,   37.416397],\n",
      "       [-122.265908,   37.416327],\n",
      "       [-122.265675,   37.415551],\n",
      "       [-122.265641,   37.415438],\n",
      "       [-122.26574 ,   37.415263],\n",
      "       [-122.266332,   37.415317],\n",
      "       [-122.266667,   37.415513],\n",
      "       [-122.267017,   37.415655],\n",
      "       [-122.267191,   37.415667],\n",
      "       [-122.267405,   37.415638],\n",
      "       [-122.268078,   37.415312],\n",
      "       [-122.26825 ,   37.41523 ],\n",
      "       [-122.268749,   37.415136],\n",
      "       [-122.268888,   37.414938],\n",
      "       [-122.26892 ,   37.414892],\n",
      "       [-122.268921,   37.414829],\n",
      "       [-122.268929,   37.414517],\n",
      "       [-122.268941,   37.414476],\n",
      "       [-122.268977,   37.414363],\n",
      "       [-122.269244,   37.414492],\n",
      "       [-122.270045,   37.414879],\n",
      "       [-122.270312,   37.415009],\n",
      "       [-122.269791,   37.415568],\n",
      "       [-122.26972 ,   37.415645],\n",
      "       [-122.269355,   37.415969],\n",
      "       [-122.268962,   37.416282],\n",
      "       [-122.268852,   37.416397],\n",
      "       [-122.2687  ,   37.416606],\n",
      "       [-122.268155,   37.417162],\n",
      "       [-122.267963,   37.417359],\n",
      "       [-122.267597,   37.417595],\n",
      "       [-122.267548,   37.417617]]), array([ 1,  2,  2,  2,  2,  2,  2,  2,  2,  2,  2,  2,  2,  2,  2,  2,  2,\n",
      "        2,  2,  2,  2,  2,  2,  2,  2,  2,  2,  2,  2,  2,  2,  2,  2,  2,\n",
      "        2,  2,  2,  2,  2,  2,  2, 79], dtype=uint8)), 'sf_7': Path(array([[-122.202591,   37.36272 ],\n",
      "       [-122.202653,   37.363046],\n",
      "       [-122.202598,   37.363217],\n",
      "       [-122.202267,   37.363821],\n",
      "       [-122.202233,   37.363947],\n",
      "       [-122.20224 ,   37.36409 ],\n",
      "       [-122.202288,   37.36425 ],\n",
      "       [-122.202294,   37.36442 ],\n",
      "       [-122.202295,   37.364431],\n",
      "       [-122.202212,   37.364645],\n",
      "       [-122.202102,   37.364788],\n",
      "       [-122.201889,   37.365002],\n",
      "       [-122.201634,   37.365387],\n",
      "       [-122.20149 ,   37.365783],\n",
      "       [-122.201476,   37.36592 ],\n",
      "       [-122.201442,   37.366041],\n",
      "       [-122.201421,   37.366502],\n",
      "       [-122.201332,   37.366761],\n",
      "       [-122.201318,   37.367013],\n",
      "       [-122.201469,   37.367393],\n",
      "       [-122.20149 ,   37.367486],\n",
      "       [-122.201545,   37.367585],\n",
      "       [-122.201586,   37.367783],\n",
      "       [-122.2016  ,   37.368008],\n",
      "       [-122.201566,   37.368151],\n",
      "       [-122.201476,   37.368233],\n",
      "       [-122.201366,   37.368508],\n",
      "       [-122.201208,   37.369393],\n",
      "       [-122.201236,   37.369458],\n",
      "       [-122.201236,   37.369969],\n",
      "       [-122.20127 ,   37.370404],\n",
      "       [-122.201201,   37.370805],\n",
      "       [-122.201112,   37.371057],\n",
      "       [-122.201057,   37.371156],\n",
      "       [-122.201007,   37.371215],\n",
      "       [-122.201   ,   37.37111 ],\n",
      "       [-122.20097 ,   37.37091 ],\n",
      "       [-122.20096 ,   37.37062 ],\n",
      "       [-122.20095 ,   37.3706  ],\n",
      "       [-122.200922,   37.370581],\n",
      "       [-122.200955,   37.37047 ],\n",
      "       [-122.200945,   37.370409],\n",
      "       [-122.20089 ,   37.37007 ],\n",
      "       [-122.20091 ,   37.36958 ],\n",
      "       [-122.20088 ,   37.3692  ],\n",
      "       [-122.20076 ,   37.36872 ],\n",
      "       [-122.20063 ,   37.36837 ],\n",
      "       [-122.200447,   37.368004],\n",
      "       [-122.20019 ,   37.36749 ],\n",
      "       [-122.20012 ,   37.36733 ],\n",
      "       [-122.20011 ,   37.36725 ],\n",
      "       [-122.20001 ,   37.36724 ],\n",
      "       [-122.19997 ,   37.36723 ],\n",
      "       [-122.19989 ,   37.3672  ],\n",
      "       [-122.19969 ,   37.36709 ],\n",
      "       [-122.19954 ,   37.36699 ],\n",
      "       [-122.199489,   37.366965],\n",
      "       [-122.19879 ,   37.36663 ],\n",
      "       [-122.19825 ,   37.36661 ],\n",
      "       [-122.19803 ,   37.36659 ],\n",
      "       [-122.19777 ,   37.36656 ],\n",
      "       [-122.197507,   37.366471],\n",
      "       [-122.197283,   37.366397],\n",
      "       [-122.19684 ,   37.36629 ],\n",
      "       [-122.19663 ,   37.36624 ],\n",
      "       [-122.196615,   37.366237],\n",
      "       [-122.19615 ,   37.36615 ],\n",
      "       [-122.19601 ,   37.36612 ],\n",
      "       [-122.19598 ,   37.36612 ],\n",
      "       [-122.195937,   37.366105],\n",
      "       [-122.19583 ,   37.36607 ],\n",
      "       [-122.19578 ,   37.36605 ],\n",
      "       [-122.19573 ,   37.36601 ],\n",
      "       [-122.19576 ,   37.366   ],\n",
      "       [-122.19581 ,   37.36597 ],\n",
      "       [-122.19585 ,   37.36593 ],\n",
      "       [-122.195891,   37.365767],\n",
      "       [-122.19591 ,   37.36569 ],\n",
      "       [-122.19598 ,   37.3657  ],\n",
      "       [-122.19608 ,   37.36568 ],\n",
      "       [-122.19625 ,   37.36567 ],\n",
      "       [-122.19652 ,   37.36568 ],\n",
      "       [-122.19678 ,   37.36575 ],\n",
      "       [-122.19731 ,   37.36579 ],\n",
      "       [-122.19782 ,   37.36571 ],\n",
      "       [-122.1983  ,   37.36568 ],\n",
      "       [-122.19881 ,   37.36571 ],\n",
      "       [-122.19975 ,   37.36581 ],\n",
      "       [-122.20027 ,   37.36595 ],\n",
      "       [-122.20038 ,   37.36601 ],\n",
      "       [-122.20045 ,   37.36609 ],\n",
      "       [-122.20046 ,   37.36611 ],\n",
      "       [-122.20081 ,   37.36563 ],\n",
      "       [-122.20121 ,   37.36525 ],\n",
      "       [-122.20163 ,   37.36487 ],\n",
      "       [-122.20179 ,   37.36467 ],\n",
      "       [-122.20187 ,   37.36453 ],\n",
      "       [-122.2019  ,   37.36442 ],\n",
      "       [-122.20195 ,   37.3642  ],\n",
      "       [-122.20205 ,   37.36393 ],\n",
      "       [-122.202107,   37.363661],\n",
      "       [-122.20212 ,   37.3636  ],\n",
      "       [-122.20213 ,   37.36343 ],\n",
      "       [-122.20215 ,   37.36332 ],\n",
      "       [-122.20223 ,   37.36315 ],\n",
      "       [-122.20236 ,   37.36296 ],\n",
      "       [-122.202426,   37.362894],\n",
      "       [-122.20257 ,   37.36275 ],\n",
      "       [-122.202591,   37.36272 ]]), array([ 1,  2,  2,  2,  2,  2,  2,  2,  2,  2,  2,  2,  2,  2,  2,  2,  2,\n",
      "        2,  2,  2,  2,  2,  2,  2,  2,  2,  2,  2,  2,  2,  2,  2,  2,  2,\n",
      "        2,  2,  2,  2,  2,  2,  2,  2,  2,  2,  2,  2,  2,  2,  2,  2,  2,\n",
      "        2,  2,  2,  2,  2,  2,  2,  2,  2,  2,  2,  2,  2,  2,  2,  2,  2,\n",
      "        2,  2,  2,  2,  2,  2,  2,  2,  2,  2,  2,  2,  2,  2,  2,  2,  2,\n",
      "        2,  2,  2,  2,  2,  2,  2,  2,  2,  2,  2,  2,  2,  2,  2,  2,  2,\n",
      "        2,  2,  2,  2,  2,  2, 79], dtype=uint8)), 'sf_4': Path(array([[-122.49968 ,   38.107762],\n",
      "       [-122.499644,   38.107824],\n",
      "       [-122.499599,   38.107904],\n",
      "       [-122.499588,   38.107962],\n",
      "       [-122.499597,   38.108021],\n",
      "       [-122.499599,   38.108026],\n",
      "       [-122.499626,   38.108075],\n",
      "       [-122.499638,   38.108087],\n",
      "       [-122.499666,   38.108115],\n",
      "       [-122.499717,   38.108147],\n",
      "       [-122.499871,   38.108221],\n",
      "       [-122.500257,   38.108407],\n",
      "       [-122.500476,   38.108568],\n",
      "       [-122.500533,   38.108667],\n",
      "       [-122.500568,   38.108726],\n",
      "       [-122.500575,   38.108767],\n",
      "       [-122.500564,   38.108808],\n",
      "       [-122.500539,   38.108844],\n",
      "       [-122.5005  ,   38.108872],\n",
      "       [-122.500475,   38.108883],\n",
      "       [-122.500236,   38.108873],\n",
      "       [-122.500046,   38.108838],\n",
      "       [-122.499923,   38.108816],\n",
      "       [-122.499564,   38.108723],\n",
      "       [-122.499069,   38.108461],\n",
      "       [-122.499017,   38.108418],\n",
      "       [-122.49898 ,   38.108366],\n",
      "       [-122.498957,   38.108301],\n",
      "       [-122.498957,   38.10826 ],\n",
      "       [-122.498958,   38.108233],\n",
      "       [-122.498983,   38.108168],\n",
      "       [-122.499021,   38.108117],\n",
      "       [-122.499043,   38.108098],\n",
      "       [-122.499257,   38.107985],\n",
      "       [-122.499341,   38.10794 ],\n",
      "       [-122.499595,   38.107806],\n",
      "       [-122.49968 ,   38.107762]]), array([ 1,  2,  2,  2,  2,  2,  2,  2,  2,  2,  2,  2,  2,  2,  2,  2,  2,\n",
      "        2,  2,  2,  2,  2,  2,  2,  2,  2,  2,  2,  2,  2,  2,  2,  2,  2,\n",
      "        2,  2, 79], dtype=uint8)), 'sf_5': Path(array([[-122.510828,   38.052944],\n",
      "       [-122.510867,   38.053119],\n",
      "       [-122.510881,   38.053177],\n",
      "       [-122.510945,   38.053376],\n",
      "       [-122.511035,   38.053599],\n",
      "       [-122.511035,   38.053628],\n",
      "       [-122.511036,   38.053649],\n",
      "       [-122.511016,   38.053697],\n",
      "       [-122.51098 ,   38.053738],\n",
      "       [-122.510935,   38.053765],\n",
      "       [-122.510328,   38.054029],\n",
      "       [-122.510238,   38.054069],\n",
      "       [-122.510193,   38.054083],\n",
      "       [-122.510137,   38.054088],\n",
      "       [-122.510075,   38.05408 ],\n",
      "       [-122.510025,   38.054059],\n",
      "       [-122.509274,   38.053449],\n",
      "       [-122.509244,   38.053405],\n",
      "       [-122.509233,   38.053356],\n",
      "       [-122.509244,   38.053301],\n",
      "       [-122.50927 ,   38.053261],\n",
      "       [-122.509337,   38.053205],\n",
      "       [-122.509423,   38.05315 ],\n",
      "       [-122.509505,   38.053116],\n",
      "       [-122.509593,   38.053094],\n",
      "       [-122.509713,   38.053079],\n",
      "       [-122.51037 ,   38.052999],\n",
      "       [-122.510461,   38.052988],\n",
      "       [-122.510736,   38.052954],\n",
      "       [-122.510828,   38.052944]]), array([ 1,  2,  2,  2,  2,  2,  2,  2,  2,  2,  2,  2,  2,  2,  2,  2,  2,\n",
      "        2,  2,  2,  2,  2,  2,  2,  2,  2,  2,  2,  2, 79], dtype=uint8)), 'sf_8': Path(array([[-122.286169,   37.76962 ],\n",
      "       [-122.285973,   37.769587],\n",
      "       [-122.285779,   37.76951 ],\n",
      "       [-122.285578,   37.769372],\n",
      "       [-122.285466,   37.769292],\n",
      "       [-122.284582,   37.768658],\n",
      "       [-122.284395,   37.768515],\n",
      "       [-122.284277,   37.76835 ],\n",
      "       [-122.284201,   37.768163],\n",
      "       [-122.284332,   37.767541],\n",
      "       [-122.284382,   37.767306],\n",
      "       [-122.284479,   37.767202],\n",
      "       [-122.284769,   37.767152],\n",
      "       [-122.284879,   37.767168],\n",
      "       [-122.284963,   37.76718 ],\n",
      "       [-122.285101,   37.767257],\n",
      "       [-122.285167,   37.767313],\n",
      "       [-122.285274,   37.767405],\n",
      "       [-122.285399,   37.767548],\n",
      "       [-122.285593,   37.767735],\n",
      "       [-122.285828,   37.767911],\n",
      "       [-122.28592 ,   37.767934],\n",
      "       [-122.286084,   37.767977],\n",
      "       [-122.286245,   37.767974],\n",
      "       [-122.286361,   37.767971],\n",
      "       [-122.28661 ,   37.767939],\n",
      "       [-122.286838,   37.767856],\n",
      "       [-122.287081,   37.76773 ],\n",
      "       [-122.287385,   37.767312],\n",
      "       [-122.287489,   37.766873],\n",
      "       [-122.287531,   37.766642],\n",
      "       [-122.287406,   37.76634 ],\n",
      "       [-122.287102,   37.765911],\n",
      "       [-122.286645,   37.765609],\n",
      "       [-122.286027,   37.765441],\n",
      "       [-122.285939,   37.765417],\n",
      "       [-122.285061,   37.765224],\n",
      "       [-122.283109,   37.764927],\n",
      "       [-122.282818,   37.764855],\n",
      "       [-122.282666,   37.764762],\n",
      "       [-122.282583,   37.764669],\n",
      "       [-122.282549,   37.76402 ],\n",
      "       [-122.28257 ,   37.76385 ],\n",
      "       [-122.282646,   37.763773],\n",
      "       [-122.282766,   37.76376 ],\n",
      "       [-122.282854,   37.763751],\n",
      "       [-122.286611,   37.764598],\n",
      "       [-122.28704 ,   37.764714],\n",
      "       [-122.287559,   37.764884],\n",
      "       [-122.288127,   37.765148],\n",
      "       [-122.288576,   37.765346],\n",
      "       [-122.288777,   37.765472],\n",
      "       [-122.288874,   37.765604],\n",
      "       [-122.288998,   37.765978],\n",
      "       [-122.289005,   37.766445],\n",
      "       [-122.288915,   37.766741],\n",
      "       [-122.288869,   37.766877],\n",
      "       [-122.288818,   37.767033],\n",
      "       [-122.288479,   37.767604],\n",
      "       [-122.288098,   37.768076],\n",
      "       [-122.287786,   37.768389],\n",
      "       [-122.287842,   37.768527],\n",
      "       [-122.287675,   37.768746],\n",
      "       [-122.287004,   37.769356],\n",
      "       [-122.286741,   37.769559],\n",
      "       [-122.286367,   37.769653],\n",
      "       [-122.286169,   37.76962 ]]), array([ 1,  2,  2,  2,  2,  2,  2,  2,  2,  2,  2,  2,  2,  2,  2,  2,  2,\n",
      "        2,  2,  2,  2,  2,  2,  2,  2,  2,  2,  2,  2,  2,  2,  2,  2,  2,\n",
      "        2,  2,  2,  2,  2,  2,  2,  2,  2,  2,  2,  2,  2,  2,  2,  2,  2,\n",
      "        2,  2,  2,  2,  2,  2,  2,  2,  2,  2,  2,  2,  2,  2,  2, 79], dtype=uint8)), 'sf_9': Path(array([[-122.197329,   38.0491  ],\n",
      "       [-122.19717 ,   38.049222],\n",
      "       [-122.197112,   38.04928 ],\n",
      "       [-122.196954,   38.049479],\n",
      "       [-122.196902,   38.049554],\n",
      "       [-122.19686 ,   38.049631],\n",
      "       [-122.19668 ,   38.049799],\n",
      "       [-122.196676,   38.049947],\n",
      "       [-122.196721,   38.050054],\n",
      "       [-122.19659 ,   38.04997 ],\n",
      "       [-122.196509,   38.049923],\n",
      "       [-122.196394,   38.049877],\n",
      "       [-122.196239,   38.049827],\n",
      "       [-122.19603 ,   38.049782],\n",
      "       [-122.195869,   38.049753],\n",
      "       [-122.195635,   38.049735],\n",
      "       [-122.19542 ,   38.049727],\n",
      "       [-122.19516 ,   38.049747],\n",
      "       [-122.195028,   38.049736],\n",
      "       [-122.194758,   38.049592],\n",
      "       [-122.194551,   38.049476],\n",
      "       [-122.194281,   38.049335],\n",
      "       [-122.193978,   38.049204],\n",
      "       [-122.193813,   38.049101],\n",
      "       [-122.193749,   38.049029],\n",
      "       [-122.193654,   38.048869],\n",
      "       [-122.193569,   38.048751],\n",
      "       [-122.19347 ,   38.048633],\n",
      "       [-122.193398,   38.048532],\n",
      "       [-122.193239,   38.048365],\n",
      "       [-122.19249 ,   38.047936],\n",
      "       [-122.192327,   38.047849],\n",
      "       [-122.192235,   38.047795],\n",
      "       [-122.192202,   38.047732],\n",
      "       [-122.19219 ,   38.047682],\n",
      "       [-122.19221 ,   38.047618],\n",
      "       [-122.192246,   38.047579],\n",
      "       [-122.19231 ,   38.047536],\n",
      "       [-122.192394,   38.047497],\n",
      "       [-122.192484,   38.047436],\n",
      "       [-122.192542,   38.047389],\n",
      "       [-122.192589,   38.047341],\n",
      "       [-122.192614,   38.047286],\n",
      "       [-122.192608,   38.047235],\n",
      "       [-122.192591,   38.04718 ],\n",
      "       [-122.19253 ,   38.047122],\n",
      "       [-122.19239 ,   38.047056],\n",
      "       [-122.192239,   38.047007],\n",
      "       [-122.192103,   38.046954],\n",
      "       [-122.19201 ,   38.046854],\n",
      "       [-122.191781,   38.046663],\n",
      "       [-122.191658,   38.046579],\n",
      "       [-122.191464,   38.046475],\n",
      "       [-122.191307,   38.046442],\n",
      "       [-122.191175,   38.046425],\n",
      "       [-122.191035,   38.046415],\n",
      "       [-122.190899,   38.046395],\n",
      "       [-122.190794,   38.046374],\n",
      "       [-122.190561,   38.046311],\n",
      "       [-122.190408,   38.046247],\n",
      "       [-122.190279,   38.046179],\n",
      "       [-122.190004,   38.046047],\n",
      "       [-122.189907,   38.045992],\n",
      "       [-122.189762,   38.045947],\n",
      "       [-122.189159,   38.04574 ],\n",
      "       [-122.189002,   38.045692],\n",
      "       [-122.188708,   38.045614],\n",
      "       [-122.188343,   38.045534],\n",
      "       [-122.188275,   38.045532],\n",
      "       [-122.188064,   38.045541],\n",
      "       [-122.187658,   38.045604],\n",
      "       [-122.187324,   38.045662],\n",
      "       [-122.187153,   38.045687],\n",
      "       [-122.186985,   38.045689],\n",
      "       [-122.186762,   38.045705],\n",
      "       [-122.186626,   38.045704],\n",
      "       [-122.186649,   38.04584 ],\n",
      "       [-122.185495,   38.046173],\n",
      "       [-122.184809,   38.046633],\n",
      "       [-122.185846,   38.046438],\n",
      "       [-122.186094,   38.04707 ],\n",
      "       [-122.18546 ,   38.047278],\n",
      "       [-122.185118,   38.04739 ],\n",
      "       [-122.185043,   38.047415],\n",
      "       [-122.185419,   38.047815],\n",
      "       [-122.18534 ,   38.047898],\n",
      "       [-122.185281,   38.047988],\n",
      "       [-122.185249,   38.048055],\n",
      "       [-122.185247,   38.048124],\n",
      "       [-122.185263,   38.048169],\n",
      "       [-122.185292,   38.048189],\n",
      "       [-122.185357,   38.048177],\n",
      "       [-122.185422,   38.048141],\n",
      "       [-122.185482,   38.048077],\n",
      "       [-122.185588,   38.047995],\n",
      "       [-122.185864,   38.048288],\n",
      "       [-122.185919,   38.048346],\n",
      "       [-122.184862,   38.048887],\n",
      "       [-122.184423,   38.048445],\n",
      "       [-122.184128,   38.048159],\n",
      "       [-122.183985,   38.048018],\n",
      "       [-122.18395 ,   38.047984],\n",
      "       [-122.183682,   38.04772 ],\n",
      "       [-122.183204,   38.047287],\n",
      "       [-122.182939,   38.047067],\n",
      "       [-122.182598,   38.046823],\n",
      "       [-122.182538,   38.046781],\n",
      "       [-122.182081,   38.046498],\n",
      "       [-122.183524,   38.045472],\n",
      "       [-122.183203,   38.045173],\n",
      "       [-122.183699,   38.044943],\n",
      "       [-122.184035,   38.045265],\n",
      "       [-122.184415,   38.045219],\n",
      "       [-122.184619,   38.045403],\n",
      "       [-122.185743,   38.045207],\n",
      "       [-122.185714,   38.044955],\n",
      "       [-122.18624 ,   38.044759],\n",
      "       [-122.186357,   38.045035],\n",
      "       [-122.187627,   38.044805],\n",
      "       [-122.187474,   38.043962],\n",
      "       [-122.187963,   38.043885],\n",
      "       [-122.18806 ,   38.043641],\n",
      "       [-122.188109,   38.043506],\n",
      "       [-122.188282,   38.043587],\n",
      "       [-122.188868,   38.043897],\n",
      "       [-122.189116,   38.043471],\n",
      "       [-122.189548,   38.043899],\n",
      "       [-122.189437,   38.043993],\n",
      "       [-122.189386,   38.044052],\n",
      "       [-122.189341,   38.044116],\n",
      "       [-122.189307,   38.044182],\n",
      "       [-122.189286,   38.044248],\n",
      "       [-122.189276,   38.044316],\n",
      "       [-122.189274,   38.044384],\n",
      "       [-122.189287,   38.044477],\n",
      "       [-122.189319,   38.04457 ],\n",
      "       [-122.188897,   38.044863],\n",
      "       [-122.189788,   38.045104],\n",
      "       [-122.189773,   38.045357],\n",
      "       [-122.190474,   38.045564],\n",
      "       [-122.190592,   38.045666],\n",
      "       [-122.190775,   38.045709],\n",
      "       [-122.190861,   38.045761],\n",
      "       [-122.191248,   38.045999],\n",
      "       [-122.191652,   38.046266],\n",
      "       [-122.191927,   38.046422],\n",
      "       [-122.192069,   38.046495],\n",
      "       [-122.192221,   38.046565],\n",
      "       [-122.192889,   38.04685 ],\n",
      "       [-122.193115,   38.046958],\n",
      "       [-122.19323 ,   38.047007],\n",
      "       [-122.193378,   38.047057],\n",
      "       [-122.193726,   38.047151],\n",
      "       [-122.19383 ,   38.047165],\n",
      "       [-122.193936,   38.047173],\n",
      "       [-122.194041,   38.047174],\n",
      "       [-122.194151,   38.047165],\n",
      "       [-122.19437 ,   38.047125],\n",
      "       [-122.194526,   38.047083],\n",
      "       [-122.194783,   38.046994],\n",
      "       [-122.195286,   38.04682 ],\n",
      "       [-122.196412,   38.046448],\n",
      "       [-122.196702,   38.046352],\n",
      "       [-122.197057,   38.046242],\n",
      "       [-122.19713 ,   38.046228],\n",
      "       [-122.197237,   38.04622 ],\n",
      "       [-122.19729 ,   38.046223],\n",
      "       [-122.197348,   38.046233],\n",
      "       [-122.197404,   38.046248],\n",
      "       [-122.197456,   38.046269],\n",
      "       [-122.197521,   38.046308],\n",
      "       [-122.197528,   38.046312],\n",
      "       [-122.19759 ,   38.046368],\n",
      "       [-122.197634,   38.04643 ],\n",
      "       [-122.197656,   38.046485],\n",
      "       [-122.197666,   38.046543],\n",
      "       [-122.197667,   38.046602],\n",
      "       [-122.197647,   38.046695],\n",
      "       [-122.197627,   38.046739],\n",
      "       [-122.197601,   38.046781],\n",
      "       [-122.197569,   38.04682 ],\n",
      "       [-122.197531,   38.046855],\n",
      "       [-122.197482,   38.046886],\n",
      "       [-122.197426,   38.046912],\n",
      "       [-122.197368,   38.046933],\n",
      "       [-122.197253,   38.046956],\n",
      "       [-122.197132,   38.046964],\n",
      "       [-122.197018,   38.046988],\n",
      "       [-122.19691 ,   38.047038],\n",
      "       [-122.196864,   38.04707 ],\n",
      "       [-122.19683 ,   38.047103],\n",
      "       [-122.196801,   38.047139],\n",
      "       [-122.196782,   38.047176],\n",
      "       [-122.196774,   38.04723 ],\n",
      "       [-122.196782,   38.047286],\n",
      "       [-122.196801,   38.047337],\n",
      "       [-122.196872,   38.047408],\n",
      "       [-122.19731 ,   38.047634],\n",
      "       [-122.197406,   38.047702],\n",
      "       [-122.19748 ,   38.047783],\n",
      "       [-122.197541,   38.047874],\n",
      "       [-122.197591,   38.047967],\n",
      "       [-122.197632,   38.048065],\n",
      "       [-122.197693,   38.048267],\n",
      "       [-122.197704,   38.048372],\n",
      "       [-122.1977  ,   38.048422],\n",
      "       [-122.197673,   38.048482],\n",
      "       [-122.197631,   38.048539],\n",
      "       [-122.197583,   38.048593],\n",
      "       [-122.197506,   38.048653],\n",
      "       [-122.197419,   38.048707],\n",
      "       [-122.197348,   38.04877 ],\n",
      "       [-122.197298,   38.048855],\n",
      "       [-122.197284,   38.0489  ],\n",
      "       [-122.19728 ,   38.04893 ],\n",
      "       [-122.197283,   38.048992],\n",
      "       [-122.197308,   38.049066],\n",
      "       [-122.197329,   38.0491  ]]), array([ 1,  2,  2,  2,  2,  2,  2,  2,  2,  2,  2,  2,  2,  2,  2,  2,  2,\n",
      "        2,  2,  2,  2,  2,  2,  2,  2,  2,  2,  2,  2,  2,  2,  2,  2,  2,\n",
      "        2,  2,  2,  2,  2,  2,  2,  2,  2,  2,  2,  2,  2,  2,  2,  2,  2,\n",
      "        2,  2,  2,  2,  2,  2,  2,  2,  2,  2,  2,  2,  2,  2,  2,  2,  2,\n",
      "        2,  2,  2,  2,  2,  2,  2,  2,  2,  2,  2,  2,  2,  2,  2,  2,  2,\n",
      "        2,  2,  2,  2,  2,  2,  2,  2,  2,  2,  2,  2,  2,  2,  2,  2,  2,\n",
      "        2,  2,  2,  2,  2,  2,  2,  2,  2,  2,  2,  2,  2,  2,  2,  2,  2,\n",
      "        2,  2,  2,  2,  2,  2,  2,  2,  2,  2,  2,  2,  2,  2,  2,  2,  2,\n",
      "        2,  2,  2,  2,  2,  2,  2,  2,  2,  2,  2,  2,  2,  2,  2,  2,  2,\n",
      "        2,  2,  2,  2,  2,  2,  2,  2,  2,  2,  2,  2,  2,  2,  2,  2,  2,\n",
      "        2,  2,  2,  2,  2,  2,  2,  2,  2,  2,  2,  2,  2,  2,  2,  2,  2,\n",
      "        2,  2,  2,  2,  2,  2,  2,  2,  2,  2,  2,  2,  2,  2,  2,  2,  2,\n",
      "        2,  2,  2,  2,  2,  2,  2,  2,  2,  2,  2,  2,  2, 79], dtype=uint8)), 'val': Path(array([[-122.467734,   37.509018],\n",
      "       [-122.467643,   37.509112],\n",
      "       [-122.467481,   37.509282],\n",
      "       ..., \n",
      "       [-122.468125,   37.508613],\n",
      "       [-122.467831,   37.508916],\n",
      "       [-122.467734,   37.509018]]), array([ 1,  2,  2, ...,  2,  2, 79], dtype=uint8)), 'pet': Path(array([[-122.467734,   37.509018],\n",
      "       [-122.467643,   37.509112],\n",
      "       [-122.467481,   37.509282],\n",
      "       ..., \n",
      "       [-122.468125,   37.508613],\n",
      "       [-122.467831,   37.508916],\n",
      "       [-122.467734,   37.509018]]), array([ 1,  2,  2, ...,  2,  2, 79], dtype=uint8)), 'hmb_1': Path(array([[-122.467734,   37.509018],\n",
      "       [-122.467643,   37.509112],\n",
      "       [-122.467481,   37.509282],\n",
      "       ..., \n",
      "       [-122.468125,   37.508613],\n",
      "       [-122.467831,   37.508916],\n",
      "       [-122.467734,   37.509018]]), array([ 1,  2,  2, ...,  2,  2, 79], dtype=uint8)), 'sf_10': Path(array([[-122.276216,   37.430711],\n",
      "       [-122.276336,   37.430716],\n",
      "       [-122.276658,   37.430694],\n",
      "       [-122.276891,   37.430649],\n",
      "       [-122.276923,   37.430519],\n",
      "       [-122.277139,   37.430483],\n",
      "       [-122.277973,   37.430313],\n",
      "       [-122.278593,   37.430038],\n",
      "       [-122.27871 ,   37.429945],\n",
      "       [-122.279172,   37.429484],\n",
      "       [-122.279462,   37.429231],\n",
      "       [-122.279923,   37.428863],\n",
      "       [-122.28055 ,   37.428451],\n",
      "       [-122.281066,   37.428146],\n",
      "       [-122.281463,   37.428801],\n",
      "       [-122.281505,   37.428915],\n",
      "       [-122.281524,   37.429004],\n",
      "       [-122.281532,   37.429108],\n",
      "       [-122.281524,   37.429212],\n",
      "       [-122.281488,   37.429363],\n",
      "       [-122.281475,   37.429476],\n",
      "       [-122.281478,   37.42959 ],\n",
      "       [-122.281492,   37.429674],\n",
      "       [-122.281552,   37.429888],\n",
      "       [-122.281561,   37.429946],\n",
      "       [-122.281571,   37.430006],\n",
      "       [-122.281615,   37.430136],\n",
      "       [-122.281968,   37.43085 ],\n",
      "       [-122.282032,   37.430927],\n",
      "       [-122.282091,   37.430976],\n",
      "       [-122.282177,   37.431026],\n",
      "       [-122.282264,   37.431059],\n",
      "       [-122.282364,   37.431081],\n",
      "       [-122.282447,   37.431094],\n",
      "       [-122.282577,   37.43113 ],\n",
      "       [-122.282667,   37.431166],\n",
      "       [-122.282701,   37.43118 ],\n",
      "       [-122.282827,   37.431252],\n",
      "       [-122.283163,   37.431493],\n",
      "       [-122.283421,   37.431675],\n",
      "       [-122.283502,   37.431714],\n",
      "       [-122.283601,   37.431741],\n",
      "       [-122.283688,   37.431751],\n",
      "       [-122.284073,   37.431785],\n",
      "       [-122.284189,   37.431811],\n",
      "       [-122.284197,   37.431814],\n",
      "       [-122.284286,   37.431848],\n",
      "       [-122.284375,   37.431897],\n",
      "       [-122.284463,   37.431964],\n",
      "       [-122.284521,   37.432026],\n",
      "       [-122.284585,   37.432109],\n",
      "       [-122.284654,   37.432171],\n",
      "       [-122.284725,   37.432218],\n",
      "       [-122.284816,   37.432259],\n",
      "       [-122.284913,   37.432287],\n",
      "       [-122.285017,   37.432301],\n",
      "       [-122.28511 ,   37.432301],\n",
      "       [-122.285709,   37.432243],\n",
      "       [-122.28582 ,   37.43225 ],\n",
      "       [-122.285918,   37.432271],\n",
      "       [-122.286011,   37.432305],\n",
      "       [-122.286099,   37.432345],\n",
      "       [-122.286198,   37.432376],\n",
      "       [-122.286324,   37.432396],\n",
      "       [-122.286455,   37.432396],\n",
      "       [-122.28657 ,   37.432379],\n",
      "       [-122.286692,   37.432342],\n",
      "       [-122.286792,   37.432293],\n",
      "       [-122.286889,   37.432224],\n",
      "       [-122.286953,   37.432157],\n",
      "       [-122.287001,   37.43209 ],\n",
      "       [-122.287041,   37.432029],\n",
      "       [-122.287096,   37.431964],\n",
      "       [-122.287157,   37.431913],\n",
      "       [-122.287182,   37.431893],\n",
      "       [-122.28725 ,   37.431851],\n",
      "       [-122.287271,   37.431841],\n",
      "       [-122.288097,   37.431322],\n",
      "       [-122.288234,   37.431232],\n",
      "       [-122.288302,   37.431176],\n",
      "       [-122.288361,   37.431114],\n",
      "       [-122.28842 ,   37.431026],\n",
      "       [-122.288458,   37.430943],\n",
      "       [-122.288483,   37.430845],\n",
      "       [-122.288489,   37.430757],\n",
      "       [-122.288491,   37.430737],\n",
      "       [-122.288508,   37.430589],\n",
      "       [-122.288541,   37.430444],\n",
      "       [-122.288578,   37.430329],\n",
      "       [-122.288638,   37.43019 ],\n",
      "       [-122.288714,   37.430055],\n",
      "       [-122.288804,   37.429926],\n",
      "       [-122.288908,   37.429803],\n",
      "       [-122.289026,   37.429689],\n",
      "       [-122.289689,   37.429128],\n",
      "       [-122.289756,   37.429091],\n",
      "       [-122.289801,   37.429067],\n",
      "       [-122.289924,   37.42902 ],\n",
      "       [-122.290054,   37.428986],\n",
      "       [-122.290077,   37.428984],\n",
      "       [-122.29046 ,   37.429015],\n",
      "       [-122.292009,   37.429246],\n",
      "       [-122.291374,   37.429514],\n",
      "       [-122.291237,   37.429591],\n",
      "       [-122.29094 ,   37.429717],\n",
      "       [-122.290937,   37.429722],\n",
      "       [-122.290932,   37.429734],\n",
      "       [-122.290733,   37.429811],\n",
      "       [-122.290568,   37.429915],\n",
      "       [-122.290341,   37.430118],\n",
      "       [-122.290319,   37.430147],\n",
      "       [-122.290144,   37.43007 ],\n",
      "       [-122.28985 ,   37.430174],\n",
      "       [-122.289688,   37.430516],\n",
      "       [-122.289678,   37.430734],\n",
      "       [-122.289431,   37.431097],\n",
      "       [-122.289343,   37.431306],\n",
      "       [-122.28937 ,   37.431386],\n",
      "       [-122.28928 ,   37.431677],\n",
      "       [-122.289213,   37.431896],\n",
      "       [-122.28902 ,   37.432049],\n",
      "       [-122.288826,   37.432111],\n",
      "       [-122.288419,   37.432243],\n",
      "       [-122.288193,   37.432478],\n",
      "       [-122.288005,   37.432787],\n",
      "       [-122.287817,   37.43285 ],\n",
      "       [-122.28703 ,   37.433309],\n",
      "       [-122.28651 ,   37.43346 ],\n",
      "       [-122.286282,   37.433405],\n",
      "       [-122.286262,   37.4334  ],\n",
      "       [-122.28626 ,   37.433376],\n",
      "       [-122.286236,   37.433309],\n",
      "       [-122.286199,   37.433252],\n",
      "       [-122.286147,   37.433203],\n",
      "       [-122.286085,   37.433164],\n",
      "       [-122.286018,   37.433138],\n",
      "       [-122.285941,   37.433121],\n",
      "       [-122.285861,   37.433118],\n",
      "       [-122.285775,   37.433129],\n",
      "       [-122.285695,   37.433155],\n",
      "       [-122.285636,   37.433189],\n",
      "       [-122.285407,   37.432974],\n",
      "       [-122.285067,   37.433184],\n",
      "       [-122.284746,   37.433164],\n",
      "       [-122.284085,   37.4329  ],\n",
      "       [-122.283521,   37.43272 ],\n",
      "       [-122.28339 ,   37.432475],\n",
      "       [-122.283428,   37.432279],\n",
      "       [-122.283294,   37.432198],\n",
      "       [-122.282892,   37.432338],\n",
      "       [-122.282295,   37.432377],\n",
      "       [-122.282082,   37.432249],\n",
      "       [-122.281836,   37.431868],\n",
      "       [-122.281742,   37.431721],\n",
      "       [-122.281519,   37.43146 ],\n",
      "       [-122.281339,   37.431191],\n",
      "       [-122.2814  ,   37.430933],\n",
      "       [-122.281   ,   37.430655],\n",
      "       [-122.280995,   37.430341],\n",
      "       [-122.280704,   37.430086],\n",
      "       [-122.280192,   37.429923],\n",
      "       [-122.278679,   37.430249],\n",
      "       [-122.282107,   37.434305],\n",
      "       [-122.282307,   37.434653],\n",
      "       [-122.282917,   37.435414],\n",
      "       [-122.283125,   37.435707],\n",
      "       [-122.283749,   37.436586],\n",
      "       [-122.283957,   37.43688 ],\n",
      "       [-122.283937,   37.436903],\n",
      "       [-122.283859,   37.436921],\n",
      "       [-122.283778,   37.436941],\n",
      "       [-122.28353 ,   37.436948],\n",
      "       [-122.28342 ,   37.436952],\n",
      "       [-122.283399,   37.43693 ],\n",
      "       [-122.283275,   37.436897],\n",
      "       [-122.283213,   37.436858],\n",
      "       [-122.283062,   37.436814],\n",
      "       [-122.282951,   37.436754],\n",
      "       [-122.282819,   37.436624],\n",
      "       [-122.282766,   37.436573],\n",
      "       [-122.282711,   37.436457],\n",
      "       [-122.282607,   37.436001],\n",
      "       [-122.282504,   37.435809],\n",
      "       [-122.282346,   37.435655],\n",
      "       [-122.282222,   37.435572],\n",
      "       [-122.28187 ,   37.43544 ],\n",
      "       [-122.281491,   37.435413],\n",
      "       [-122.281409,   37.435387],\n",
      "       [-122.281402,   37.435385],\n",
      "       [-122.281175,   37.435198],\n",
      "       [-122.280995,   37.434968],\n",
      "       [-122.280942,   37.434876],\n",
      "       [-122.280706,   37.434468],\n",
      "       [-122.280568,   37.434297],\n",
      "       [-122.280362,   37.434149],\n",
      "       [-122.28021 ,   37.434077],\n",
      "       [-122.279969,   37.433995],\n",
      "       [-122.279632,   37.433945],\n",
      "       [-122.279156,   37.43383 ],\n",
      "       [-122.279039,   37.43378 ],\n",
      "       [-122.27866 ,   37.433461],\n",
      "       [-122.278516,   37.433286],\n",
      "       [-122.278275,   37.433088],\n",
      "       [-122.278054,   37.432846],\n",
      "       [-122.277786,   37.432604],\n",
      "       [-122.277779,   37.432533],\n",
      "       [-122.277731,   37.432472],\n",
      "       [-122.277751,   37.432022],\n",
      "       [-122.277724,   37.431945],\n",
      "       [-122.277559,   37.431802],\n",
      "       [-122.277476,   37.431752],\n",
      "       [-122.277228,   37.431675],\n",
      "       [-122.276828,   37.431615],\n",
      "       [-122.276718,   37.431571],\n",
      "       [-122.276594,   37.431466],\n",
      "       [-122.276484,   37.431329],\n",
      "       [-122.276381,   37.431131],\n",
      "       [-122.276339,   37.431076],\n",
      "       [-122.276217,   37.430728],\n",
      "       [-122.276216,   37.430711]]), array([ 1,  2,  2,  2,  2,  2,  2,  2,  2,  2,  2,  2,  2,  2,  2,  2,  2,\n",
      "        2,  2,  2,  2,  2,  2,  2,  2,  2,  2,  2,  2,  2,  2,  2,  2,  2,\n",
      "        2,  2,  2,  2,  2,  2,  2,  2,  2,  2,  2,  2,  2,  2,  2,  2,  2,\n",
      "        2,  2,  2,  2,  2,  2,  2,  2,  2,  2,  2,  2,  2,  2,  2,  2,  2,\n",
      "        2,  2,  2,  2,  2,  2,  2,  2,  2,  2,  2,  2,  2,  2,  2,  2,  2,\n",
      "        2,  2,  2,  2,  2,  2,  2,  2,  2,  2,  2,  2,  2,  2,  2,  2,  2,\n",
      "        2,  2,  2,  2,  2,  2,  2,  2,  2,  2,  2,  2,  2,  2,  2,  2,  2,\n",
      "        2,  2,  2,  2,  2,  2,  2,  2,  2,  2,  2,  2,  2,  2,  2,  2,  2,\n",
      "        2,  2,  2,  2,  2,  2,  2,  2,  2,  2,  2,  2,  2,  2,  2,  2,  2,\n",
      "        2,  2,  2,  2,  2,  2,  2,  2,  2,  2,  2,  2,  2,  2,  2,  2,  2,\n",
      "        2,  2,  2,  2,  2,  2,  2,  2,  2,  2,  2,  2,  2,  2,  2,  2,  2,\n",
      "        2,  2,  2,  2,  2,  2,  2,  2,  2,  2,  2,  2,  2,  2,  2,  2,  2,\n",
      "        2,  2,  2,  2,  2,  2,  2,  2,  2,  2,  2,  2,  2,  2,  2, 79], dtype=uint8)), 'sf_11': Path(array([[-122.202591,   37.36272 ],\n",
      "       [-122.202549,   37.362502],\n",
      "       [-122.202522,   37.361854],\n",
      "       [-122.202425,   37.361552],\n",
      "       [-122.202432,   37.360947],\n",
      "       [-122.202487,   37.360772],\n",
      "       [-122.202471,   37.360378],\n",
      "       [-122.202467,   37.360272],\n",
      "       [-122.202377,   37.359969],\n",
      "       [-122.20226 ,   37.359739],\n",
      "       [-122.202239,   37.359689],\n",
      "       [-122.202012,   37.359261],\n",
      "       [-122.201833,   37.358821],\n",
      "       [-122.201489,   37.358046],\n",
      "       [-122.201337,   37.357838],\n",
      "       [-122.201076,   37.357607],\n",
      "       [-122.201007,   37.357481],\n",
      "       [-122.200449,   37.356733],\n",
      "       [-122.200015,   37.355898],\n",
      "       [-122.199843,   37.355618],\n",
      "       [-122.199712,   37.355459],\n",
      "       [-122.199623,   37.355393],\n",
      "       [-122.199286,   37.355261],\n",
      "       [-122.199052,   37.355019],\n",
      "       [-122.198776,   37.354794],\n",
      "       [-122.198613,   37.354614],\n",
      "       [-122.198418,   37.354398],\n",
      "       [-122.198205,   37.354272],\n",
      "       [-122.198081,   37.354123],\n",
      "       [-122.198019,   37.353959],\n",
      "       [-122.197998,   37.353799],\n",
      "       [-122.19793 ,   37.353711],\n",
      "       [-122.197709,   37.353255],\n",
      "       [-122.197461,   37.352909],\n",
      "       [-122.197369,   37.35267 ],\n",
      "       [-122.197241,   37.352338],\n",
      "       [-122.197131,   37.352206],\n",
      "       [-122.196973,   37.352107],\n",
      "       [-122.196518,   37.351735],\n",
      "       [-122.196181,   37.351459],\n",
      "       [-122.196064,   37.35131 ],\n",
      "       [-122.195871,   37.350849],\n",
      "       [-122.195803,   37.35058 ],\n",
      "       [-122.195809,   37.350206],\n",
      "       [-122.19583 ,   37.350102],\n",
      "       [-122.195926,   37.349893],\n",
      "       [-122.195981,   37.349596],\n",
      "       [-122.195871,   37.349343],\n",
      "       [-122.195899,   37.348299],\n",
      "       [-122.195864,   37.348162],\n",
      "       [-122.195853,   37.348136],\n",
      "       [-122.195775,   37.347953],\n",
      "       [-122.195644,   37.347772],\n",
      "       [-122.195472,   37.347591],\n",
      "       [-122.195272,   37.347255],\n",
      "       [-122.19521 ,   37.347025],\n",
      "       [-122.194949,   37.346728],\n",
      "       [-122.194873,   37.346596],\n",
      "       [-122.194804,   37.346515],\n",
      "       [-122.194729,   37.346426],\n",
      "       [-122.194543,   37.346234],\n",
      "       [-122.194481,   37.346124],\n",
      "       [-122.194357,   37.345986],\n",
      "       [-122.194274,   37.345865],\n",
      "       [-122.194164,   37.345668],\n",
      "       [-122.193855,   37.345387],\n",
      "       [-122.193634,   37.345113],\n",
      "       [-122.193541,   37.34503 ],\n",
      "       [-122.193504,   37.344997],\n",
      "       [-122.193023,   37.344633],\n",
      "       [-122.193442,   37.344087],\n",
      "       [-122.193736,   37.343885],\n",
      "       [-122.193977,   37.343721],\n",
      "       [-122.194753,   37.343755],\n",
      "       [-122.19511 ,   37.343772],\n",
      "       [-122.195041,   37.343692],\n",
      "       [-122.194995,   37.343617],\n",
      "       [-122.194956,   37.343518],\n",
      "       [-122.194948,   37.343464],\n",
      "       [-122.194942,   37.343414],\n",
      "       [-122.194945,   37.343331],\n",
      "       [-122.194964,   37.343249],\n",
      "       [-122.194995,   37.34317 ],\n",
      "       [-122.195041,   37.343095],\n",
      "       [-122.195107,   37.343019],\n",
      "       [-122.195169,   37.342965],\n",
      "       [-122.195259,   37.342905],\n",
      "       [-122.195349,   37.342863],\n",
      "       [-122.19547 ,   37.342823],\n",
      "       [-122.195583,   37.342803],\n",
      "       [-122.195621,   37.342799],\n",
      "       [-122.195693,   37.342794],\n",
      "       [-122.195748,   37.34278 ],\n",
      "       [-122.195802,   37.342752],\n",
      "       [-122.195938,   37.342659],\n",
      "       [-122.195805,   37.342547],\n",
      "       [-122.195451,   37.342329],\n",
      "       [-122.195386,   37.342283],\n",
      "       [-122.195281,   37.342193],\n",
      "       [-122.195201,   37.342108],\n",
      "       [-122.195157,   37.342048],\n",
      "       [-122.194917,   37.341721],\n",
      "       [-122.194864,   37.341667],\n",
      "       [-122.194793,   37.341621],\n",
      "       [-122.194716,   37.34159 ],\n",
      "       [-122.194627,   37.341572],\n",
      "       [-122.194542,   37.34157 ],\n",
      "       [-122.194458,   37.341582],\n",
      "       [-122.194371,   37.341603],\n",
      "       [-122.194289,   37.341609],\n",
      "       [-122.194206,   37.341601],\n",
      "       [-122.194123,   37.341577],\n",
      "       [-122.194053,   37.341542],\n",
      "       [-122.193994,   37.341496],\n",
      "       [-122.193951,   37.341446],\n",
      "       [-122.193919,   37.341385],\n",
      "       [-122.193904,   37.341326],\n",
      "       [-122.193907,   37.341244],\n",
      "       [-122.193931,   37.341175],\n",
      "       [-122.193966,   37.341122],\n",
      "       [-122.194023,   37.341067],\n",
      "       [-122.194095,   37.341024],\n",
      "       [-122.194156,   37.341   ],\n",
      "       [-122.194904,   37.340852],\n",
      "       [-122.195082,   37.340812],\n",
      "       [-122.195129,   37.340802],\n",
      "       [-122.195294,   37.340752],\n",
      "       [-122.19598 ,   37.340497],\n",
      "       [-122.196019,   37.340474],\n",
      "       [-122.196244,   37.34081 ],\n",
      "       [-122.196309,   37.340902],\n",
      "       [-122.196324,   37.340918],\n",
      "       [-122.196396,   37.340996],\n",
      "       [-122.196511,   37.341093],\n",
      "       [-122.196625,   37.341166],\n",
      "       [-122.196731,   37.341219],\n",
      "       [-122.196863,   37.34127 ],\n",
      "       [-122.197029,   37.341315],\n",
      "       [-122.197189,   37.341367],\n",
      "       [-122.197345,   37.34143 ],\n",
      "       [-122.197754,   37.341635],\n",
      "       [-122.198236,   37.341877],\n",
      "       [-122.198559,   37.342042],\n",
      "       [-122.198728,   37.342128],\n",
      "       [-122.198869,   37.342188],\n",
      "       [-122.199124,   37.342277],\n",
      "       [-122.199606,   37.342446],\n",
      "       [-122.199773,   37.342535],\n",
      "       [-122.19996 ,   37.342658],\n",
      "       [-122.200102,   37.342771],\n",
      "       [-122.200232,   37.342894],\n",
      "       [-122.200325,   37.342999],\n",
      "       [-122.200435,   37.343145],\n",
      "       [-122.201009,   37.343849],\n",
      "       [-122.201081,   37.343918],\n",
      "       [-122.201175,   37.343982],\n",
      "       [-122.201273,   37.344028],\n",
      "       [-122.20136 ,   37.344052],\n",
      "       [-122.201408,   37.344066],\n",
      "       [-122.201501,   37.344104],\n",
      "       [-122.201587,   37.344151],\n",
      "       [-122.201715,   37.344245],\n",
      "       [-122.201759,   37.344296],\n",
      "       [-122.201793,   37.344358],\n",
      "       [-122.20181 ,   37.344424],\n",
      "       [-122.201808,   37.344496],\n",
      "       [-122.20179 ,   37.344557],\n",
      "       [-122.201737,   37.344647],\n",
      "       [-122.201664,   37.344746],\n",
      "       [-122.201796,   37.344818],\n",
      "       [-122.201842,   37.344849],\n",
      "       [-122.201971,   37.344921],\n",
      "       [-122.202111,   37.344979],\n",
      "       [-122.202247,   37.345018],\n",
      "       [-122.202382,   37.345066],\n",
      "       [-122.202491,   37.345117],\n",
      "       [-122.20261 ,   37.345188],\n",
      "       [-122.202703,   37.345258],\n",
      "       [-122.202724,   37.345275],\n",
      "       [-122.202782,   37.345336],\n",
      "       [-122.202861,   37.345392],\n",
      "       [-122.202944,   37.345432],\n",
      "       [-122.203417,   37.345573],\n",
      "       [-122.203474,   37.345584],\n",
      "       [-122.203545,   37.345585],\n",
      "       [-122.20362 ,   37.345569],\n",
      "       [-122.203681,   37.34554 ],\n",
      "       [-122.203725,   37.345505],\n",
      "       [-122.203764,   37.345456],\n",
      "       [-122.203785,   37.345398],\n",
      "       [-122.203793,   37.345105],\n",
      "       [-122.203805,   37.345026],\n",
      "       [-122.203831,   37.344948],\n",
      "       [-122.203876,   37.344865],\n",
      "       [-122.203944,   37.344781],\n",
      "       [-122.20403 ,   37.344708],\n",
      "       [-122.20413 ,   37.344647],\n",
      "       [-122.204219,   37.34461 ],\n",
      "       [-122.204814,   37.344439],\n",
      "       [-122.204865,   37.344416],\n",
      "       [-122.204921,   37.344376],\n",
      "       [-122.204959,   37.344335],\n",
      "       [-122.204986,   37.344283],\n",
      "       [-122.204998,   37.344237],\n",
      "       [-122.204997,   37.344177],\n",
      "       [-122.20498 ,   37.344127],\n",
      "       [-122.204947,   37.344074],\n",
      "       [-122.204911,   37.34404 ],\n",
      "       [-122.204854,   37.344003],\n",
      "       [-122.204757,   37.343969],\n",
      "       [-122.20468 ,   37.343934],\n",
      "       [-122.20461 ,   37.34389 ],\n",
      "       [-122.204551,   37.343838],\n",
      "       [-122.204492,   37.343765],\n",
      "       [-122.204456,   37.343692],\n",
      "       [-122.204437,   37.343623],\n",
      "       [-122.204432,   37.343544],\n",
      "       [-122.204446,   37.343459],\n",
      "       [-122.204478,   37.34338 ],\n",
      "       [-122.204493,   37.343328],\n",
      "       [-122.204493,   37.343258],\n",
      "       [-122.204476,   37.343196],\n",
      "       [-122.204445,   37.343143],\n",
      "       [-122.204109,   37.342561],\n",
      "       [-122.206803,   37.344023],\n",
      "       [-122.203069,   37.346438],\n",
      "       [-122.202783,   37.346613],\n",
      "       [-122.202152,   37.347003],\n",
      "       [-122.202187,   37.347258],\n",
      "       [-122.202261,   37.3473  ],\n",
      "       [-122.202323,   37.347325],\n",
      "       [-122.202474,   37.347394],\n",
      "       [-122.202742,   37.347521],\n",
      "       [-122.202944,   37.347622],\n",
      "       [-122.203063,   37.34769 ],\n",
      "       [-122.203203,   37.347787],\n",
      "       [-122.203346,   37.347904],\n",
      "       [-122.203495,   37.348013],\n",
      "       [-122.203672,   37.348145],\n",
      "       [-122.203784,   37.348241],\n",
      "       [-122.203926,   37.348377],\n",
      "       [-122.204131,   37.348603],\n",
      "       [-122.204238,   37.348694],\n",
      "       [-122.204293,   37.34875 ],\n",
      "       [-122.204324,   37.348799],\n",
      "       [-122.200169,   37.351096],\n",
      "       [-122.198433,   37.352056],\n",
      "       [-122.198526,   37.352216],\n",
      "       [-122.198587,   37.35232 ],\n",
      "       [-122.198698,   37.352533],\n",
      "       [-122.19878 ,   37.352713],\n",
      "       [-122.198847,   37.35286 ],\n",
      "       [-122.198856,   37.352884],\n",
      "       [-122.198897,   37.352988],\n",
      "       [-122.19902 ,   37.353302],\n",
      "       [-122.199061,   37.353407],\n",
      "       [-122.199499,   37.354523],\n",
      "       [-122.199529,   37.354628],\n",
      "       [-122.199589,   37.354788],\n",
      "       [-122.199668,   37.354942],\n",
      "       [-122.199742,   37.355062],\n",
      "       [-122.199827,   37.355177],\n",
      "       [-122.19986 ,   37.355215],\n",
      "       [-122.199947,   37.355314],\n",
      "       [-122.200184,   37.35554 ],\n",
      "       [-122.200299,   37.355668],\n",
      "       [-122.200411,   37.355822],\n",
      "       [-122.200461,   37.355905],\n",
      "       [-122.200546,   37.356077],\n",
      "       [-122.200603,   37.356237],\n",
      "       [-122.200633,   37.35636 ],\n",
      "       [-122.200713,   37.35662 ],\n",
      "       [-122.200766,   37.356778],\n",
      "       [-122.200814,   37.356881],\n",
      "       [-122.200883,   37.357006],\n",
      "       [-122.200969,   37.357125],\n",
      "       [-122.201085,   37.357259],\n",
      "       [-122.201739,   37.357855],\n",
      "       [-122.201771,   37.35788 ],\n",
      "       [-122.201857,   37.357965],\n",
      "       [-122.201924,   37.358059],\n",
      "       [-122.202903,   37.360015],\n",
      "       [-122.202953,   37.36014 ],\n",
      "       [-122.202964,   37.360189],\n",
      "       [-122.202979,   37.360251],\n",
      "       [-122.202992,   37.360363],\n",
      "       [-122.202988,   37.360494],\n",
      "       [-122.202818,   37.361317],\n",
      "       [-122.202803,   37.361438],\n",
      "       [-122.2028  ,   37.361617],\n",
      "       [-122.20281 ,   37.361759],\n",
      "       [-122.202833,   37.362155],\n",
      "       [-122.202825,   37.362281],\n",
      "       [-122.202825,   37.3623  ],\n",
      "       [-122.202813,   37.36236 ],\n",
      "       [-122.202792,   37.362432],\n",
      "       [-122.202708,   37.362586],\n",
      "       [-122.202676,   37.362625],\n",
      "       [-122.202645,   37.362664],\n",
      "       [-122.202616,   37.362691],\n",
      "       [-122.202591,   37.36272 ]]), array([ 1,  2,  2,  2,  2,  2,  2,  2,  2,  2,  2,  2,  2,  2,  2,  2,  2,\n",
      "        2,  2,  2,  2,  2,  2,  2,  2,  2,  2,  2,  2,  2,  2,  2,  2,  2,\n",
      "        2,  2,  2,  2,  2,  2,  2,  2,  2,  2,  2,  2,  2,  2,  2,  2,  2,\n",
      "        2,  2,  2,  2,  2,  2,  2,  2,  2,  2,  2,  2,  2,  2,  2,  2,  2,\n",
      "        2,  2,  2,  2,  2,  2,  2,  2,  2,  2,  2,  2,  2,  2,  2,  2,  2,\n",
      "        2,  2,  2,  2,  2,  2,  2,  2,  2,  2,  2,  2,  2,  2,  2,  2,  2,\n",
      "        2,  2,  2,  2,  2,  2,  2,  2,  2,  2,  2,  2,  2,  2,  2,  2,  2,\n",
      "        2,  2,  2,  2,  2,  2,  2,  2,  2,  2,  2,  2,  2,  2,  2,  2,  2,\n",
      "        2,  2,  2,  2,  2,  2,  2,  2,  2,  2,  2,  2,  2,  2,  2,  2,  2,\n",
      "        2,  2,  2,  2,  2,  2,  2,  2,  2,  2,  2,  2,  2,  2,  2,  2,  2,\n",
      "        2,  2,  2,  2,  2,  2,  2,  2,  2,  2,  2,  2,  2,  2,  2,  2,  2,\n",
      "        2,  2,  2,  2,  2,  2,  2,  2,  2,  2,  2,  2,  2,  2,  2,  2,  2,\n",
      "        2,  2,  2,  2,  2,  2,  2,  2,  2,  2,  2,  2,  2,  2,  2,  2,  2,\n",
      "        2,  2,  2,  2,  2,  2,  2,  2,  2,  2,  2,  2,  2,  2,  2,  2,  2,\n",
      "        2,  2,  2,  2,  2,  2,  2,  2,  2,  2,  2,  2,  2,  2,  2,  2,  2,\n",
      "        2,  2,  2,  2,  2,  2,  2,  2,  2,  2,  2,  2,  2,  2,  2,  2,  2,\n",
      "        2,  2,  2,  2,  2,  2,  2,  2,  2,  2,  2,  2,  2,  2,  2,  2,  2,\n",
      "        2,  2,  2,  2,  2,  2,  2,  2,  2,  2,  2, 79], dtype=uint8)), 'sf_12': Path(array([[-122.366507,   37.807641],\n",
      "       [-122.367381,   37.807728],\n",
      "       [-122.367881,   37.807928],\n",
      "       [-122.3728  ,   37.8111  ],\n",
      "       [-122.372181,   37.811628],\n",
      "       [-122.371681,   37.815128],\n",
      "       [-122.372068,   37.815716],\n",
      "       [-122.379381,   37.826827],\n",
      "       [-122.379199,   37.827371],\n",
      "       [-122.378808,   37.828544],\n",
      "       [-122.3785  ,   37.829469],\n",
      "       [-122.378181,   37.830427],\n",
      "       [-122.373281,   37.832427],\n",
      "       [-122.368781,   37.831227],\n",
      "       [-122.367481,   37.830127],\n",
      "       [-122.367448,   37.829472],\n",
      "       [-122.367217,   37.829537],\n",
      "       [-122.367229,   37.829737],\n",
      "       [-122.367237,   37.829875],\n",
      "       [-122.367123,   37.829886],\n",
      "       [-122.366966,   37.829558],\n",
      "       [-122.366811,   37.829639],\n",
      "       [-122.366865,   37.829966],\n",
      "       [-122.366717,   37.829966],\n",
      "       [-122.366628,   37.829703],\n",
      "       [-122.366263,   37.829821],\n",
      "       [-122.366669,   37.830696],\n",
      "       [-122.366481,   37.830827],\n",
      "       [-122.365481,   37.829027],\n",
      "       [-122.36589 ,   37.828925],\n",
      "       [-122.366235,   37.829483],\n",
      "       [-122.366458,   37.829392],\n",
      "       [-122.366364,   37.82908 ],\n",
      "       [-122.366567,   37.829037],\n",
      "       [-122.366669,   37.829354],\n",
      "       [-122.366909,   37.829242],\n",
      "       [-122.366845,   37.828973],\n",
      "       [-122.366946,   37.828897],\n",
      "       [-122.367034,   37.829214],\n",
      "       [-122.367163,   37.829193],\n",
      "       [-122.367081,   37.828627],\n",
      "       [-122.366081,   37.827227],\n",
      "       [-122.363881,   37.823927],\n",
      "       [-122.362981,   37.822527],\n",
      "       [-122.363101,   37.821984],\n",
      "       [-122.361972,   37.821563],\n",
      "       [-122.361845,   37.821515],\n",
      "       [-122.36188 ,   37.82142 ],\n",
      "       [-122.361969,   37.821179],\n",
      "       [-122.363161,   37.821532],\n",
      "       [-122.363351,   37.821543],\n",
      "       [-122.363494,   37.821103],\n",
      "       [-122.36329 ,   37.821103],\n",
      "       [-122.362111,   37.820795],\n",
      "       [-122.3622  ,   37.820555],\n",
      "       [-122.363581,   37.820888],\n",
      "       [-122.363777,   37.820399],\n",
      "       [-122.362373,   37.820088],\n",
      "       [-122.362462,   37.819849],\n",
      "       [-122.364022,   37.820077],\n",
      "       [-122.364131,   37.819721],\n",
      "       [-122.364181,   37.819727],\n",
      "       [-122.364056,   37.818979],\n",
      "       [-122.36501 ,   37.818481],\n",
      "       [-122.364841,   37.818272],\n",
      "       [-122.364012,   37.818716],\n",
      "       [-122.363996,   37.81862 ],\n",
      "       [-122.364719,   37.81825 ],\n",
      "       [-122.364516,   37.818068],\n",
      "       [-122.364681,   37.817927],\n",
      "       [-122.365281,   37.818527],\n",
      "       [-122.3691  ,   37.816881],\n",
      "       [-122.371081,   37.816027],\n",
      "       [-122.371031,   37.815974],\n",
      "       [-122.367681,   37.812428],\n",
      "       [-122.359181,   37.815027],\n",
      "       [-122.358581,   37.814527],\n",
      "       [-122.359281,   37.813727],\n",
      "       [-122.360881,   37.812528],\n",
      "       [-122.360581,   37.811528],\n",
      "       [-122.360581,   37.811228],\n",
      "       [-122.361179,   37.810406],\n",
      "       [-122.361381,   37.810128],\n",
      "       [-122.362021,   37.808272],\n",
      "       [-122.362381,   37.807228],\n",
      "       [-122.366507,   37.807641]]), array([ 1,  2,  2,  2,  2,  2,  2,  2,  2,  2,  2,  2,  2,  2,  2,  2,  2,\n",
      "        2,  2,  2,  2,  2,  2,  2,  2,  2,  2,  2,  2,  2,  2,  2,  2,  2,\n",
      "        2,  2,  2,  2,  2,  2,  2,  2,  2,  2,  2,  2,  2,  2,  2,  2,  2,\n",
      "        2,  2,  2,  2,  2,  2,  2,  2,  2,  2,  2,  2,  2,  2,  2,  2,  2,\n",
      "        2,  2,  2,  2,  2,  2,  2,  2,  2,  2,  2,  2,  2,  2,  2,  2,  2,\n",
      "       79], dtype=uint8)), 'sf_13': Path(array([[-122.201007,   37.371215],\n",
      "       [-122.201023,   37.371262],\n",
      "       [-122.201051,   37.371324],\n",
      "       ..., \n",
      "       [-122.20083 ,   37.371508],\n",
      "       [-122.20094 ,   37.371294],\n",
      "       [-122.201007,   37.371215]]), array([ 1,  2,  2,  2,  2,  2,  2,  2,  2,  2,  2,  2,  2,  2,  2,  2,  2,\n",
      "        2,  2,  2,  2,  2,  2,  2,  2,  2,  2,  2,  2,  2,  2,  2,  2,  2,\n",
      "        2,  2,  2,  2,  2,  2,  2,  2,  2,  2,  2,  2,  2,  2,  2,  2,  2,\n",
      "        2,  2,  2,  2,  2,  2,  2,  2,  2,  2,  2,  2,  2,  2,  2,  2,  2,\n",
      "        2,  2,  2,  2,  2,  2,  2,  2,  2,  2,  2,  2,  2,  2,  2,  2,  2,\n",
      "        2,  2,  2,  2,  2,  2,  2,  2,  2,  2,  2,  2,  2,  2,  2,  2,  2,\n",
      "        2,  2,  2,  2,  2,  2,  2,  2,  2,  2,  2,  2,  2,  2,  2,  2,  2,\n",
      "        2,  2,  2,  2,  2,  2,  2,  2,  2,  2,  2,  2,  2,  2,  2,  2,  2,\n",
      "        2,  2,  2,  2,  2,  2,  2,  2,  2,  2,  2,  2,  2,  2,  2,  2,  2,\n",
      "        2,  2,  2,  2,  2,  2,  2,  2,  2,  2,  2,  2,  2,  2,  2,  2,  2,\n",
      "        2,  2,  2,  2,  2,  2,  2,  2,  2,  2,  2,  2,  2,  2,  2,  2,  2,\n",
      "        2,  2,  2,  2,  2,  2,  2,  2,  2,  2,  2,  2,  2,  2,  2,  2,  2,\n",
      "        2,  2,  2,  2,  2,  2,  2,  2,  2,  2,  2,  2,  2,  2,  2,  2,  2,\n",
      "        2,  2,  2,  2,  2,  2,  2,  2,  2,  2,  2,  2,  2,  2,  2,  2,  2,\n",
      "        2,  2,  2,  2,  2,  2,  2,  2,  2,  2,  2,  2,  2,  2,  2,  2,  2,\n",
      "        2,  2,  2,  2,  2,  2,  2,  2,  2,  2,  2,  2,  2,  2,  2,  2,  2,\n",
      "        2,  2,  2,  2,  2,  2,  2,  2,  2,  2,  2,  2,  2,  2,  2,  2,  2,\n",
      "        2,  2,  2,  2,  2,  2,  2,  2,  2,  2,  2,  2,  2,  2,  2,  2,  2,\n",
      "        2,  2,  2,  2,  2,  2,  2,  2,  2,  2,  2,  2,  2,  2,  2,  2,  2,\n",
      "        2,  2,  2,  2,  2,  2,  2,  2,  2,  2,  2,  2,  2,  2,  2,  2,  2,\n",
      "        2,  2,  2,  2,  2,  2,  2,  2,  2,  2,  2,  2,  2,  2,  2,  2,  2,\n",
      "        2,  2,  2,  2,  2,  2,  2,  2,  2,  2,  2,  2,  2,  2,  2,  2,  2,\n",
      "        2,  2,  2,  2,  2,  2,  2,  2,  2,  2,  2,  2,  2,  2,  2,  2,  2,\n",
      "        2,  2,  2,  2,  2,  2,  2,  2,  2,  2,  2,  2,  2,  2,  2,  2,  2,\n",
      "        2,  2,  2,  2,  2,  2,  2,  2,  2,  2,  2,  2,  2,  2,  2,  2,  2,\n",
      "        2,  2,  2,  2,  2,  2,  2,  2,  2,  2,  2,  2,  2,  2,  2,  2,  2,\n",
      "        2,  2,  2,  2,  2,  2,  2,  2,  2,  2,  2,  2,  2,  2,  2,  2,  2,\n",
      "        2,  2,  2,  2,  2,  2,  2,  2,  2,  2,  2,  2,  2,  2,  2,  2,  2,\n",
      "        2,  2,  2,  2,  2,  2,  2,  2,  2,  2,  2,  2,  2,  2,  2,  2,  2,\n",
      "        2,  2,  2,  2,  2,  2,  2,  2,  2,  2,  2,  2,  2,  2,  2,  2,  2,\n",
      "        2,  2,  2,  2,  2,  2,  2,  2,  2,  2,  2,  2,  2,  2,  2,  2,  2,\n",
      "        2,  2,  2,  2,  2,  2,  2,  2,  2,  2,  2,  2,  2,  2,  2,  2,  2,\n",
      "        2,  2,  2,  2,  2,  2,  2,  2,  2,  2,  2,  2,  2,  2,  2,  2,  2,\n",
      "        2,  2,  2,  2,  2,  2,  2,  2,  2,  2,  2,  2,  2,  2,  2,  2,  2,\n",
      "        2,  2,  2,  2,  2,  2,  2,  2,  2,  2,  2,  2,  2,  2,  2,  2,  2,\n",
      "        2,  2,  2,  2,  2,  2,  2,  2,  2,  2,  2,  2,  2,  2,  2,  2,  2,\n",
      "        2,  2,  2,  2,  2,  2,  2,  2,  2,  2,  2,  2,  2,  2,  2,  2,  2,\n",
      "        2,  2,  2,  2,  2,  2,  2,  2,  2,  2,  2,  2,  2,  2,  2,  2,  2,\n",
      "        2,  2,  2,  2,  2,  2,  2,  2,  2,  2,  2,  2,  2,  2,  2,  2,  2,\n",
      "        2,  2,  2,  2,  2,  2,  2,  2,  2,  2,  2,  2,  2,  2,  2,  2,  2,\n",
      "        2,  2,  2,  2,  2,  2,  2,  2,  2,  2,  2,  2,  2,  2,  2,  2,  2,\n",
      "        2,  2,  2,  2,  2,  2,  2,  2,  2,  2,  2,  2,  2,  2,  2,  2,  2,\n",
      "        2,  2,  2,  2,  2,  2,  2,  2,  2,  2,  2,  2,  2,  2,  2,  2,  2,\n",
      "        2,  2,  2,  2,  2,  2,  2,  2,  2,  2,  2,  2,  2,  2,  2,  2,  2,\n",
      "        2,  2,  2,  2,  2,  2,  2,  2,  2,  2, 79], dtype=uint8)), 'sf_14': Path(array([[-122.19473 ,   37.408994],\n",
      "       [-122.194849,   37.409031],\n",
      "       [-122.194857,   37.409033],\n",
      "       ..., \n",
      "       [-122.194693,   37.409223],\n",
      "       [-122.194705,   37.409145],\n",
      "       [-122.19473 ,   37.408994]]), array([ 1,  2,  2, ...,  2,  2, 79], dtype=uint8)), 'sf_15': Path(array([[-122.197329,   38.0491  ],\n",
      "       [-122.197417,   38.049052],\n",
      "       [-122.197485,   38.049033],\n",
      "       ..., \n",
      "       [-122.197432,   38.04918 ],\n",
      "       [-122.197374,   38.049143],\n",
      "       [-122.197329,   38.0491  ]]), array([ 1,  2,  2, ...,  2,  2, 79], dtype=uint8)), 'napa': Path(array([[-122.079926,   37.8542  ],\n",
      "       [-122.081327,   37.855025],\n",
      "       [-122.081375,   37.855035],\n",
      "       ..., \n",
      "       [-122.079975,   37.856758],\n",
      "       [-122.079964,   37.855816],\n",
      "       [-122.079926,   37.8542  ]]), array([ 1,  2,  2, ...,  2,  2, 79], dtype=uint8)), 'conc_1': Path(array([[-122.079926,   37.8542  ],\n",
      "       [-122.07854 ,   37.853383],\n",
      "       [-122.078291,   37.853237],\n",
      "       [-122.077976,   37.852496],\n",
      "       [-122.078231,   37.852469],\n",
      "       [-122.078472,   37.852523],\n",
      "       [-122.078595,   37.852389],\n",
      "       [-122.078727,   37.852255],\n",
      "       [-122.078771,   37.852204],\n",
      "       [-122.07886 ,   37.852105],\n",
      "       [-122.078971,   37.851946],\n",
      "       [-122.079113,   37.85177 ],\n",
      "       [-122.07936 ,   37.851602],\n",
      "       [-122.079772,   37.851348],\n",
      "       [-122.079842,   37.851301],\n",
      "       [-122.079894,   37.851748],\n",
      "       [-122.079942,   37.852181],\n",
      "       [-122.079938,   37.853827],\n",
      "       [-122.079926,   37.8542  ]]), array([ 1,  2,  2,  2,  2,  2,  2,  2,  2,  2,  2,  2,  2,  2,  2,  2,  2,\n",
      "        2, 79], dtype=uint8)), 'conc_2': Path(array([[-122.070037,   38.034572],\n",
      "       [-122.070164,   38.034536],\n",
      "       [-122.070232,   38.034518],\n",
      "       [-122.070299,   38.034499],\n",
      "       [-122.070387,   38.034474],\n",
      "       [-122.071218,   38.034238],\n",
      "       [-122.071757,   38.034072],\n",
      "       [-122.071848,   38.034042],\n",
      "       [-122.072459,   38.033842],\n",
      "       [-122.072987,   38.033676],\n",
      "       [-122.073517,   38.033516],\n",
      "       [-122.07405 ,   38.033361],\n",
      "       [-122.074585,   38.033211],\n",
      "       [-122.075211,   38.033042],\n",
      "       [-122.075473,   38.032964],\n",
      "       [-122.075605,   38.032925],\n",
      "       [-122.076017,   38.032807],\n",
      "       [-122.076489,   38.032673],\n",
      "       [-122.077177,   38.032488],\n",
      "       [-122.077257,   38.032467],\n",
      "       [-122.077673,   38.03236 ],\n",
      "       [-122.078811,   38.035469],\n",
      "       [-122.079022,   38.035661],\n",
      "       [-122.079162,   38.035789],\n",
      "       [-122.079172,   38.035798],\n",
      "       [-122.079303,   38.035917],\n",
      "       [-122.08028 ,   38.036807],\n",
      "       [-122.08096 ,   38.037427],\n",
      "       [-122.084511,   38.040663],\n",
      "       [-122.087599,   38.043477],\n",
      "       [-122.088062,   38.043899],\n",
      "       [-122.088213,   38.044037],\n",
      "       [-122.087969,   38.044166],\n",
      "       [-122.087731,   38.044283],\n",
      "       [-122.087581,   38.044332],\n",
      "       [-122.087504,   38.044336],\n",
      "       [-122.087307,   38.044294],\n",
      "       [-122.087237,   38.044265],\n",
      "       [-122.087177,   38.044241],\n",
      "       [-122.086881,   38.044014],\n",
      "       [-122.086577,   38.043735],\n",
      "       [-122.086241,   38.043427],\n",
      "       [-122.086089,   38.043392],\n",
      "       [-122.08601 ,   38.043331],\n",
      "       [-122.085881,   38.043336],\n",
      "       [-122.085865,   38.043349],\n",
      "       [-122.085801,   38.043401],\n",
      "       [-122.085778,   38.043415],\n",
      "       [-122.085455,   38.04361 ],\n",
      "       [-122.085303,   38.043664],\n",
      "       [-122.085268,   38.043677],\n",
      "       [-122.085152,   38.043611],\n",
      "       [-122.085057,   38.043449],\n",
      "       [-122.084916,   38.043273],\n",
      "       [-122.084755,   38.043132],\n",
      "       [-122.084567,   38.043006],\n",
      "       [-122.084409,   38.042842],\n",
      "       [-122.084238,   38.042617],\n",
      "       [-122.083596,   38.041913],\n",
      "       [-122.082604,   38.04078 ],\n",
      "       [-122.082136,   38.040275],\n",
      "       [-122.082009,   38.040095],\n",
      "       [-122.081991,   38.04007 ],\n",
      "       [-122.081856,   38.039964],\n",
      "       [-122.08171 ,   38.039866],\n",
      "       [-122.081572,   38.039792],\n",
      "       [-122.081449,   38.039741],\n",
      "       [-122.081282,   38.0397  ],\n",
      "       [-122.081216,   38.039694],\n",
      "       [-122.081079,   38.039682],\n",
      "       [-122.080673,   38.039673],\n",
      "       [-122.080363,   38.039651],\n",
      "       [-122.079878,   38.039602],\n",
      "       [-122.079798,   38.03959 ],\n",
      "       [-122.079367,   38.039527],\n",
      "       [-122.079105,   38.039516],\n",
      "       [-122.078441,   38.03935 ],\n",
      "       [-122.077384,   38.039104],\n",
      "       [-122.077347,   38.039081],\n",
      "       [-122.077169,   38.039049],\n",
      "       [-122.076916,   38.038982],\n",
      "       [-122.076397,   38.038837],\n",
      "       [-122.076222,   38.038752],\n",
      "       [-122.075898,   38.038577],\n",
      "       [-122.075523,   38.038337],\n",
      "       [-122.075301,   38.038181],\n",
      "       [-122.073209,   38.036862],\n",
      "       [-122.072153,   38.036272],\n",
      "       [-122.071502,   38.035833],\n",
      "       [-122.070562,   38.035268],\n",
      "       [-122.070322,   38.035096],\n",
      "       [-122.070251,   38.035046],\n",
      "       [-122.070194,   38.034933],\n",
      "       [-122.070121,   38.034707],\n",
      "       [-122.070037,   38.034572]]), array([ 1,  2,  2,  2,  2,  2,  2,  2,  2,  2,  2,  2,  2,  2,  2,  2,  2,\n",
      "        2,  2,  2,  2,  2,  2,  2,  2,  2,  2,  2,  2,  2,  2,  2,  2,  2,\n",
      "        2,  2,  2,  2,  2,  2,  2,  2,  2,  2,  2,  2,  2,  2,  2,  2,  2,\n",
      "        2,  2,  2,  2,  2,  2,  2,  2,  2,  2,  2,  2,  2,  2,  2,  2,  2,\n",
      "        2,  2,  2,  2,  2,  2,  2,  2,  2,  2,  2,  2,  2,  2,  2,  2,  2,\n",
      "        2,  2,  2,  2,  2,  2,  2,  2,  2, 79], dtype=uint8)), 'conc_3': Path(array([[-122.079926,   37.8542  ],\n",
      "       [-122.081327,   37.855025],\n",
      "       [-122.081375,   37.855035],\n",
      "       ..., \n",
      "       [-122.079975,   37.856758],\n",
      "       [-122.079964,   37.855816],\n",
      "       [-122.079926,   37.8542  ]]), array([ 1,  2,  2, ...,  2,  2, 79], dtype=uint8)), 'yount': Path(array([[-122.079926,   37.8542  ],\n",
      "       [-122.081327,   37.855025],\n",
      "       [-122.081375,   37.855035],\n",
      "       ..., \n",
      "       [-122.079975,   37.856758],\n",
      "       [-122.079964,   37.855816],\n",
      "       [-122.079926,   37.8542  ]]), array([ 1,  2,  2, ...,  2,  2, 79], dtype=uint8)), 'sc_3': Path(array([[-121.941906,   37.056383],\n",
      "       [-121.942208,   37.05653 ],\n",
      "       [-121.942277,   37.056651],\n",
      "       [-121.942397,   37.056816],\n",
      "       [-121.942423,   37.056889],\n",
      "       [-121.942476,   37.057001],\n",
      "       [-121.942503,   37.057015],\n",
      "       [-121.942574,   37.057052],\n",
      "       [-121.942538,   37.057078],\n",
      "       [-121.942627,   37.05708 ],\n",
      "       [-121.942847,   37.057116],\n",
      "       [-121.943047,   37.057144],\n",
      "       [-121.943076,   37.057176],\n",
      "       [-121.943101,   37.057256],\n",
      "       [-121.943135,   37.057366],\n",
      "       [-121.943094,   37.057411],\n",
      "       [-121.943228,   37.057466],\n",
      "       [-121.943289,   37.057513],\n",
      "       [-121.94342 ,   37.057614],\n",
      "       [-121.943557,   37.057762],\n",
      "       [-121.943681,   37.057982],\n",
      "       [-121.943701,   37.058028],\n",
      "       [-121.943715,   37.058059],\n",
      "       [-121.94371 ,   37.058248],\n",
      "       [-121.943701,   37.058543],\n",
      "       [-121.943749,   37.058691],\n",
      "       [-121.943852,   37.058867],\n",
      "       [-121.943904,   37.059023],\n",
      "       [-121.943928,   37.059092],\n",
      "       [-121.943962,   37.059273],\n",
      "       [-121.944017,   37.059488],\n",
      "       [-121.94412 ,   37.059713],\n",
      "       [-121.944123,   37.059718],\n",
      "       [-121.944257,   37.059977],\n",
      "       [-121.94436 ,   37.060147],\n",
      "       [-121.944572,   37.060422],\n",
      "       [-121.944805,   37.060631],\n",
      "       [-121.945274,   37.060965],\n",
      "       [-121.945374,   37.061037],\n",
      "       [-121.945628,   37.061202],\n",
      "       [-121.945948,   37.061432],\n",
      "       [-121.945997,   37.061467],\n",
      "       [-121.946026,   37.061488],\n",
      "       [-121.946134,   37.061585],\n",
      "       [-121.94618 ,   37.061626],\n",
      "       [-121.946085,   37.061691],\n",
      "       [-121.945804,   37.061888],\n",
      "       [-121.94571 ,   37.061954],\n",
      "       [-121.945653,   37.061938],\n",
      "       [-121.945596,   37.061922],\n",
      "       [-121.945496,   37.061926],\n",
      "       [-121.94548 ,   37.061929],\n",
      "       [-121.945423,   37.061943],\n",
      "       [-121.945362,   37.061956],\n",
      "       [-121.945326,   37.061965],\n",
      "       [-121.945209,   37.061989],\n",
      "       [-121.945178,   37.061985],\n",
      "       [-121.945117,   37.061978],\n",
      "       [-121.945038,   37.061932],\n",
      "       [-121.944804,   37.061794],\n",
      "       [-121.944785,   37.061783],\n",
      "       [-121.944726,   37.061749],\n",
      "       [-121.944226,   37.061357],\n",
      "       [-121.944063,   37.061147],\n",
      "       [-121.943892,   37.060925],\n",
      "       [-121.943787,   37.060741],\n",
      "       [-121.94356 ,   37.06034 ],\n",
      "       [-121.943511,   37.060184],\n",
      "       [-121.943316,   37.059665],\n",
      "       [-121.94317 ,   37.059341],\n",
      "       [-121.94281 ,   37.058771],\n",
      "       [-121.942594,   37.058427],\n",
      "       [-121.942511,   37.058155],\n",
      "       [-121.942424,   37.057965],\n",
      "       [-121.942369,   37.057869],\n",
      "       [-121.942341,   37.057819],\n",
      "       [-121.942305,   37.057722],\n",
      "       [-121.942265,   37.057665],\n",
      "       [-121.942198,   37.057589],\n",
      "       [-121.942126,   37.057507],\n",
      "       [-121.942066,   37.057438],\n",
      "       [-121.941886,   37.057234],\n",
      "       [-121.941827,   37.057166],\n",
      "       [-121.941856,   37.057086],\n",
      "       [-121.941882,   37.057015],\n",
      "       [-121.941886,   37.057005],\n",
      "       [-121.941928,   37.056763],\n",
      "       [-121.941942,   37.056612],\n",
      "       [-121.94193 ,   37.056541],\n",
      "       [-121.941906,   37.056383]]), array([ 1,  2,  2,  2,  2,  2,  2,  2,  2,  2,  2,  2,  2,  2,  2,  2,  2,\n",
      "        2,  2,  2,  2,  2,  2,  2,  2,  2,  2,  2,  2,  2,  2,  2,  2,  2,\n",
      "        2,  2,  2,  2,  2,  2,  2,  2,  2,  2,  2,  2,  2,  2,  2,  2,  2,\n",
      "        2,  2,  2,  2,  2,  2,  2,  2,  2,  2,  2,  2,  2,  2,  2,  2,  2,\n",
      "        2,  2,  2,  2,  2,  2,  2,  2,  2,  2,  2,  2,  2,  2,  2,  2,  2,\n",
      "        2,  2,  2,  2, 79], dtype=uint8)), 'hmb': Path(array([[-122.420466,   37.432943],\n",
      "       [-122.420216,   37.433124],\n",
      "       [-122.420019,   37.433273],\n",
      "       [-122.419602,   37.433586],\n",
      "       [-122.419186,   37.4339  ],\n",
      "       [-122.418763,   37.434217],\n",
      "       [-122.418341,   37.434535],\n",
      "       [-122.417883,   37.434876],\n",
      "       [-122.417807,   37.434683],\n",
      "       [-122.417629,   37.434422],\n",
      "       [-122.417961,   37.434148],\n",
      "       [-122.418202,   37.43395 ],\n",
      "       [-122.418299,   37.433859],\n",
      "       [-122.418396,   37.433769],\n",
      "       [-122.41861 ,   37.433571],\n",
      "       [-122.418801,   37.43338 ],\n",
      "       [-122.418932,   37.43325 ],\n",
      "       [-122.419196,   37.432985],\n",
      "       [-122.419212,   37.432967],\n",
      "       [-122.41945 ,   37.432721],\n",
      "       [-122.419714,   37.432353],\n",
      "       [-122.420119,   37.432664],\n",
      "       [-122.420286,   37.432798],\n",
      "       [-122.420466,   37.432943]]), array([ 1,  2,  2,  2,  2,  2,  2,  2,  2,  2,  2,  2,  2,  2,  2,  2,  2,\n",
      "        2,  2,  2,  2,  2,  2, 79], dtype=uint8)), 'sc_7': Path(array([[-121.860589,   36.931846],\n",
      "       [-121.860637,   36.931837],\n",
      "       [-121.860663,   36.931816],\n",
      "       ..., \n",
      "       [-121.860605,   36.931955],\n",
      "       [-121.860594,   36.931883],\n",
      "       [-121.860589,   36.931846]]), array([ 1,  2,  2, ...,  2,  2, 79], dtype=uint8)), 'sc_6': Path(array([[-121.844253,   36.911702],\n",
      "       [-121.845413,   36.913004],\n",
      "       [-121.845753,   36.913369],\n",
      "       [-121.84591 ,   36.913467],\n",
      "       [-121.846192,   36.913642],\n",
      "       [-121.846597,   36.913952],\n",
      "       [-121.846634,   36.913988],\n",
      "       [-121.847027,   36.914108],\n",
      "       [-121.847192,   36.914152],\n",
      "       [-121.847375,   36.914262],\n",
      "       [-121.847794,   36.914462],\n",
      "       [-121.847877,   36.914521],\n",
      "       [-121.847926,   36.914556],\n",
      "       [-121.848075,   36.914662],\n",
      "       [-121.848125,   36.914698],\n",
      "       [-121.848132,   36.914703],\n",
      "       [-121.848157,   36.914721],\n",
      "       [-121.848165,   36.914727],\n",
      "       [-121.848258,   36.91487 ],\n",
      "       [-121.848333,   36.914984],\n",
      "       [-121.848492,   36.915295],\n",
      "       [-121.84851 ,   36.915319],\n",
      "       [-121.848613,   36.915457],\n",
      "       [-121.848598,   36.91554 ],\n",
      "       [-121.848634,   36.915678],\n",
      "       [-121.848794,   36.915925],\n",
      "       [-121.848939,   36.916097],\n",
      "       [-121.848979,   36.916144],\n",
      "       [-121.849085,   36.916282],\n",
      "       [-121.849307,   36.916701],\n",
      "       [-121.84937 ,   36.916832],\n",
      "       [-121.849389,   36.916942],\n",
      "       [-121.849391,   36.917018],\n",
      "       [-121.849462,   36.917162],\n",
      "       [-121.849506,   36.917217],\n",
      "       [-121.849508,   36.917314],\n",
      "       [-121.849423,   36.917377],\n",
      "       [-121.849347,   36.917461],\n",
      "       [-121.849306,   36.917558],\n",
      "       [-121.849307,   36.917607],\n",
      "       [-121.849333,   36.917662],\n",
      "       [-121.849449,   36.917752],\n",
      "       [-121.849401,   36.91785 ],\n",
      "       [-121.84939 ,   36.917925],\n",
      "       [-121.849382,   36.917979],\n",
      "       [-121.8494  ,   36.918026],\n",
      "       [-121.849421,   36.918077],\n",
      "       [-121.849389,   36.918112],\n",
      "       [-121.849336,   36.918201],\n",
      "       [-121.849238,   36.918282],\n",
      "       [-121.849118,   36.918345],\n",
      "       [-121.84885 ,   36.918422],\n",
      "       [-121.848816,   36.918432],\n",
      "       [-121.848723,   36.918473],\n",
      "       [-121.848711,   36.918481],\n",
      "       [-121.848642,   36.918536],\n",
      "       [-121.848577,   36.918608],\n",
      "       [-121.848562,   36.918697],\n",
      "       [-121.848569,   36.918789],\n",
      "       [-121.848587,   36.918864],\n",
      "       [-121.848594,   36.918869],\n",
      "       [-121.848716,   36.91896 ],\n",
      "       [-121.848854,   36.919003],\n",
      "       [-121.849025,   36.919001],\n",
      "       [-121.849171,   36.918983],\n",
      "       [-121.84935 ,   36.918962],\n",
      "       [-121.849653,   36.918967],\n",
      "       [-121.849946,   36.919004],\n",
      "       [-121.850239,   36.919067],\n",
      "       [-121.850524,   36.919191],\n",
      "       [-121.850545,   36.9192  ],\n",
      "       [-121.850768,   36.919379],\n",
      "       [-121.850859,   36.919504],\n",
      "       [-121.850898,   36.919559],\n",
      "       [-121.850906,   36.919586],\n",
      "       [-121.85094 ,   36.9197  ],\n",
      "       [-121.850925,   36.919825],\n",
      "       [-121.850921,   36.91987 ],\n",
      "       [-121.850914,   36.919967],\n",
      "       [-121.850698,   36.920256],\n",
      "       [-121.850473,   36.920432],\n",
      "       [-121.850134,   36.920661],\n",
      "       [-121.849853,   36.920874],\n",
      "       [-121.849806,   36.920904],\n",
      "       [-121.84973 ,   36.920977],\n",
      "       [-121.8497  ,   36.92101 ],\n",
      "       [-121.849851,   36.921011],\n",
      "       [-121.849408,   36.921719],\n",
      "       [-121.849336,   36.922297],\n",
      "       [-121.850077,   36.922806],\n",
      "       [-121.850622,   36.923013],\n",
      "       [-121.850825,   36.923099],\n",
      "       [-121.851381,   36.922736],\n",
      "       [-121.851437,   36.922752],\n",
      "       [-121.851605,   36.9228  ],\n",
      "       [-121.851662,   36.922816],\n",
      "       [-121.851686,   36.922764],\n",
      "       [-121.85176 ,   36.922611],\n",
      "       [-121.851785,   36.92256 ],\n",
      "       [-121.8518  ,   36.922538],\n",
      "       [-121.851847,   36.922475],\n",
      "       [-121.851863,   36.922454],\n",
      "       [-121.851888,   36.922419],\n",
      "       [-121.851929,   36.922363],\n",
      "       [-121.85195 ,   36.922344],\n",
      "       [-121.851975,   36.922323],\n",
      "       [-121.851988,   36.922311],\n",
      "       [-121.851996,   36.922305],\n",
      "       [-121.852018,   36.922286],\n",
      "       [-121.852031,   36.922277],\n",
      "       [-121.852046,   36.922267],\n",
      "       [-121.85212 ,   36.922217],\n",
      "       [-121.852203,   36.922284],\n",
      "       [-121.852347,   36.922374],\n",
      "       [-121.852422,   36.922411],\n",
      "       [-121.852482,   36.922435],\n",
      "       [-121.852596,   36.922472],\n",
      "       [-121.852737,   36.92253 ],\n",
      "       [-121.852731,   36.922535],\n",
      "       [-121.852713,   36.922552],\n",
      "       [-121.852708,   36.922558],\n",
      "       [-121.852702,   36.922563],\n",
      "       [-121.852685,   36.922579],\n",
      "       [-121.85268 ,   36.922585],\n",
      "       [-121.852671,   36.922593],\n",
      "       [-121.852646,   36.922617],\n",
      "       [-121.852638,   36.922626],\n",
      "       [-121.852628,   36.922635],\n",
      "       [-121.8526  ,   36.922662],\n",
      "       [-121.852591,   36.922672],\n",
      "       [-121.852583,   36.922679],\n",
      "       [-121.85251 ,   36.922724],\n",
      "       [-121.852373,   36.92298 ],\n",
      "       [-121.852258,   36.923108],\n",
      "       [-121.852116,   36.92335 ],\n",
      "       [-121.851968,   36.92347 ],\n",
      "       [-121.851961,   36.923684],\n",
      "       [-121.851556,   36.924508],\n",
      "       [-121.851281,   36.925074],\n",
      "       [-121.851161,   36.925325],\n",
      "       [-121.850377,   36.926732],\n",
      "       [-121.850071,   36.927283],\n",
      "       [-121.850474,   36.927447],\n",
      "       [-121.851003,   36.927662],\n",
      "       [-121.851685,   36.927938],\n",
      "       [-121.851936,   36.92804 ],\n",
      "       [-121.852012,   36.928072],\n",
      "       [-121.852089,   36.928103],\n",
      "       [-121.852634,   36.928317],\n",
      "       [-121.852773,   36.928374],\n",
      "       [-121.852976,   36.928457],\n",
      "       [-121.853576,   36.928694],\n",
      "       [-121.854774,   36.929176],\n",
      "       [-121.854824,   36.929195],\n",
      "       [-121.855255,   36.929366],\n",
      "       [-121.855508,   36.929469],\n",
      "       [-121.855646,   36.929525],\n",
      "       [-121.856064,   36.929696],\n",
      "       [-121.856203,   36.929753],\n",
      "       [-121.856517,   36.92988 ],\n",
      "       [-121.857028,   36.930089],\n",
      "       [-121.857461,   36.93026 ],\n",
      "       [-121.857725,   36.930364],\n",
      "       [-121.857777,   36.930385],\n",
      "       [-121.857913,   36.930447],\n",
      "       [-121.858383,   36.930622],\n",
      "       [-121.858442,   36.930644],\n",
      "       [-121.859203,   36.930957],\n",
      "       [-121.859672,   36.931155],\n",
      "       [-121.860149,   36.931338],\n",
      "       [-121.860191,   36.931361],\n",
      "       [-121.86027 ,   36.931406],\n",
      "       [-121.860415,   36.931519],\n",
      "       [-121.86053 ,   36.931665],\n",
      "       [-121.860559,   36.931727],\n",
      "       [-121.860581,   36.93179 ],\n",
      "       [-121.860589,   36.931846],\n",
      "       [-121.86056 ,   36.931851],\n",
      "       [-121.860517,   36.931878],\n",
      "       [-121.860398,   36.931912],\n",
      "       [-121.860287,   36.931892],\n",
      "       [-121.860107,   36.931795],\n",
      "       [-121.859911,   36.931671],\n",
      "       [-121.85981 ,   36.93165 ],\n",
      "       [-121.859789,   36.931642],\n",
      "       [-121.85974 ,   36.93163 ],\n",
      "       [-121.85968 ,   36.931595],\n",
      "       [-121.859579,   36.931579],\n",
      "       [-121.859509,   36.93156 ],\n",
      "       [-121.859458,   36.931533],\n",
      "       [-121.859372,   36.931512],\n",
      "       [-121.859304,   36.931512],\n",
      "       [-121.859244,   36.931484],\n",
      "       [-121.858765,   36.931422],\n",
      "       [-121.85874 ,   36.931407],\n",
      "       [-121.858716,   36.931405],\n",
      "       [-121.857988,   36.931353],\n",
      "       [-121.857693,   36.931321],\n",
      "       [-121.857637,   36.931301],\n",
      "       [-121.857483,   36.931276],\n",
      "       [-121.857415,   36.931256],\n",
      "       [-121.857355,   36.931221],\n",
      "       [-121.857287,   36.931194],\n",
      "       [-121.857227,   36.93118 ],\n",
      "       [-121.857176,   36.931152],\n",
      "       [-121.85703 ,   36.931056],\n",
      "       [-121.856953,   36.931049],\n",
      "       [-121.856785,   36.931019],\n",
      "       [-121.856637,   36.931   ],\n",
      "       [-121.856355,   36.930973],\n",
      "       [-121.856261,   36.930924],\n",
      "       [-121.856047,   36.930859],\n",
      "       [-121.855902,   36.930821],\n",
      "       [-121.855859,   36.930793],\n",
      "       [-121.855791,   36.930779],\n",
      "       [-121.855731,   36.930745],\n",
      "       [-121.855671,   36.930731],\n",
      "       [-121.855577,   36.930683],\n",
      "       [-121.855483,   36.930621],\n",
      "       [-121.855424,   36.930607],\n",
      "       [-121.85509 ,   36.930428],\n",
      "       [-121.85486 ,   36.930255],\n",
      "       [-121.854607,   36.93009 ],\n",
      "       [-121.85436 ,   36.929917],\n",
      "       [-121.854287,   36.929883],\n",
      "       [-121.854155,   36.929779],\n",
      "       [-121.853937,   36.929635],\n",
      "       [-121.853903,   36.929628],\n",
      "       [-121.853744,   36.929517],\n",
      "       [-121.853706,   36.929497],\n",
      "       [-121.853663,   36.929483],\n",
      "       [-121.853305,   36.929243],\n",
      "       [-121.853189,   36.929166],\n",
      "       [-121.852997,   36.929055],\n",
      "       [-121.852877,   36.92898 ],\n",
      "       [-121.852809,   36.928966],\n",
      "       [-121.852706,   36.928917],\n",
      "       [-121.852621,   36.928869],\n",
      "       [-121.852552,   36.928855],\n",
      "       [-121.85239 ,   36.928745],\n",
      "       [-121.852364,   36.928745],\n",
      "       [-121.852296,   36.92871 ],\n",
      "       [-121.852193,   36.928642],\n",
      "       [-121.852151,   36.928642],\n",
      "       [-121.851958,   36.928617],\n",
      "       [-121.851843,   36.928627],\n",
      "       [-121.851661,   36.92867 ],\n",
      "       [-121.85154 ,   36.928686],\n",
      "       [-121.851488,   36.928688],\n",
      "       [-121.851232,   36.928476],\n",
      "       [-121.850872,   36.928245],\n",
      "       [-121.850518,   36.928033],\n",
      "       [-121.850155,   36.927817],\n",
      "       [-121.848352,   36.926736],\n",
      "       [-121.847492,   36.926241],\n",
      "       [-121.846477,   36.925656],\n",
      "       [-121.846489,   36.925632],\n",
      "       [-121.846527,   36.925561],\n",
      "       [-121.84654 ,   36.925538],\n",
      "       [-121.846447,   36.925482],\n",
      "       [-121.846294,   36.92539 ],\n",
      "       [-121.846141,   36.925298],\n",
      "       [-121.845869,   36.925134],\n",
      "       [-121.845597,   36.92497 ],\n",
      "       [-121.845239,   36.924765],\n",
      "       [-121.844881,   36.92456 ],\n",
      "       [-121.844802,   36.924513],\n",
      "       [-121.844546,   36.924361],\n",
      "       [-121.844433,   36.924289],\n",
      "       [-121.844378,   36.924255],\n",
      "       [-121.844324,   36.924221],\n",
      "       [-121.844164,   36.924122],\n",
      "       [-121.844004,   36.924023],\n",
      "       [-121.843823,   36.923925],\n",
      "       [-121.84338 ,   36.923663],\n",
      "       [-121.843372,   36.923659],\n",
      "       [-121.842989,   36.92348 ],\n",
      "       [-121.842457,   36.923267],\n",
      "       [-121.840665,   36.922739],\n",
      "       [-121.839472,   36.922392],\n",
      "       [-121.839204,   36.922313],\n",
      "       [-121.839137,   36.922294],\n",
      "       [-121.838531,   36.922072],\n",
      "       [-121.838062,   36.921863],\n",
      "       [-121.837661,   36.921628],\n",
      "       [-121.83753 ,   36.921532],\n",
      "       [-121.8374  ,   36.921437],\n",
      "       [-121.837141,   36.921204],\n",
      "       [-121.836928,   36.920971],\n",
      "       [-121.836779,   36.920778],\n",
      "       [-121.836737,   36.920724],\n",
      "       [-121.836549,   36.920398],\n",
      "       [-121.836215,   36.919773],\n",
      "       [-121.836117,   36.919572],\n",
      "       [-121.835858,   36.919271],\n",
      "       [-121.835485,   36.918994],\n",
      "       [-121.835086,   36.91872 ],\n",
      "       [-121.834917,   36.918604],\n",
      "       [-121.834529,   36.918452],\n",
      "       [-121.834382,   36.918418],\n",
      "       [-121.834231,   36.918406],\n",
      "       [-121.834224,   36.918308],\n",
      "       [-121.834224,   36.918295],\n",
      "       [-121.834182,   36.918206],\n",
      "       [-121.834119,   36.918121],\n",
      "       [-121.834077,   36.91806 ],\n",
      "       [-121.834023,   36.91798 ],\n",
      "       [-121.833555,   36.917647],\n",
      "       [-121.833465,   36.917583],\n",
      "       [-121.832669,   36.917039],\n",
      "       [-121.8323  ,   36.916758],\n",
      "       [-121.832172,   36.916624],\n",
      "       [-121.832064,   36.916511],\n",
      "       [-121.831801,   36.916188],\n",
      "       [-121.832349,   36.915988],\n",
      "       [-121.832849,   36.915807],\n",
      "       [-121.833897,   36.915426],\n",
      "       [-121.833995,   36.915391],\n",
      "       [-121.834221,   36.915311],\n",
      "       [-121.834545,   36.915196],\n",
      "       [-121.834745,   36.915125],\n",
      "       [-121.835348,   36.914912],\n",
      "       [-121.835549,   36.914842],\n",
      "       [-121.835945,   36.914695],\n",
      "       [-121.837136,   36.914256],\n",
      "       [-121.837533,   36.91411 ],\n",
      "       [-121.838005,   36.913944],\n",
      "       [-121.839421,   36.913447],\n",
      "       [-121.839894,   36.913282],\n",
      "       [-121.84009 ,   36.913208],\n",
      "       [-121.84068 ,   36.912988],\n",
      "       [-121.840877,   36.912915],\n",
      "       [-121.84095 ,   36.912887],\n",
      "       [-121.841171,   36.912804],\n",
      "       [-121.841245,   36.912777],\n",
      "       [-121.841825,   36.912569],\n",
      "       [-121.843567,   36.911947],\n",
      "       [-121.844148,   36.91174 ],\n",
      "       [-121.844168,   36.911732],\n",
      "       [-121.844231,   36.911709],\n",
      "       [-121.844253,   36.911702]]), array([ 1,  2,  2,  2,  2,  2,  2,  2,  2,  2,  2,  2,  2,  2,  2,  2,  2,\n",
      "        2,  2,  2,  2,  2,  2,  2,  2,  2,  2,  2,  2,  2,  2,  2,  2,  2,\n",
      "        2,  2,  2,  2,  2,  2,  2,  2,  2,  2,  2,  2,  2,  2,  2,  2,  2,\n",
      "        2,  2,  2,  2,  2,  2,  2,  2,  2,  2,  2,  2,  2,  2,  2,  2,  2,\n",
      "        2,  2,  2,  2,  2,  2,  2,  2,  2,  2,  2,  2,  2,  2,  2,  2,  2,\n",
      "        2,  2,  2,  2,  2,  2,  2,  2,  2,  2,  2,  2,  2,  2,  2,  2,  2,\n",
      "        2,  2,  2,  2,  2,  2,  2,  2,  2,  2,  2,  2,  2,  2,  2,  2,  2,\n",
      "        2,  2,  2,  2,  2,  2,  2,  2,  2,  2,  2,  2,  2,  2,  2,  2,  2,\n",
      "        2,  2,  2,  2,  2,  2,  2,  2,  2,  2,  2,  2,  2,  2,  2,  2,  2,\n",
      "        2,  2,  2,  2,  2,  2,  2,  2,  2,  2,  2,  2,  2,  2,  2,  2,  2,\n",
      "        2,  2,  2,  2,  2,  2,  2,  2,  2,  2,  2,  2,  2,  2,  2,  2,  2,\n",
      "        2,  2,  2,  2,  2,  2,  2,  2,  2,  2,  2,  2,  2,  2,  2,  2,  2,\n",
      "        2,  2,  2,  2,  2,  2,  2,  2,  2,  2,  2,  2,  2,  2,  2,  2,  2,\n",
      "        2,  2,  2,  2,  2,  2,  2,  2,  2,  2,  2,  2,  2,  2,  2,  2,  2,\n",
      "        2,  2,  2,  2,  2,  2,  2,  2,  2,  2,  2,  2,  2,  2,  2,  2,  2,\n",
      "        2,  2,  2,  2,  2,  2,  2,  2,  2,  2,  2,  2,  2,  2,  2,  2,  2,\n",
      "        2,  2,  2,  2,  2,  2,  2,  2,  2,  2,  2,  2,  2,  2,  2,  2,  2,\n",
      "        2,  2,  2,  2,  2,  2,  2,  2,  2,  2,  2,  2,  2,  2,  2,  2,  2,\n",
      "        2,  2,  2,  2,  2,  2,  2,  2,  2,  2,  2,  2,  2,  2,  2,  2,  2,\n",
      "        2,  2,  2,  2,  2,  2,  2,  2,  2,  2,  2,  2,  2,  2,  2,  2,  2,\n",
      "       79], dtype=uint8)), 'sc_5': Path(array([[-121.841528,   36.910256],\n",
      "       [-121.841163,   36.910368],\n",
      "       [-121.840071,   36.910706],\n",
      "       [-121.839708,   36.910819],\n",
      "       [-121.839888,   36.911101],\n",
      "       [-121.840428,   36.911949],\n",
      "       [-121.840582,   36.912191],\n",
      "       [-121.840607,   36.912233],\n",
      "       [-121.840581,   36.912302],\n",
      "       [-121.84057 ,   36.912395],\n",
      "       [-121.840526,   36.912447],\n",
      "       [-121.840464,   36.912484],\n",
      "       [-121.84038 ,   36.912533],\n",
      "       [-121.840294,   36.91257 ],\n",
      "       [-121.840231,   36.912594],\n",
      "       [-121.840147,   36.912623],\n",
      "       [-121.840078,   36.912649],\n",
      "       [-121.840026,   36.912672],\n",
      "       [-121.839947,   36.912703],\n",
      "       [-121.839896,   36.912722],\n",
      "       [-121.839827,   36.912749],\n",
      "       [-121.83975 ,   36.912774],\n",
      "       [-121.839627,   36.912806],\n",
      "       [-121.839561,   36.912812],\n",
      "       [-121.839497,   36.912807],\n",
      "       [-121.839442,   36.912792],\n",
      "       [-121.839382,   36.912771],\n",
      "       [-121.839224,   36.912718],\n",
      "       [-121.839142,   36.91269 ],\n",
      "       [-121.839021,   36.912655],\n",
      "       [-121.838946,   36.912632],\n",
      "       [-121.838851,   36.912597],\n",
      "       [-121.838807,   36.912568],\n",
      "       [-121.838752,   36.912515],\n",
      "       [-121.838722,   36.912473],\n",
      "       [-121.838692,   36.91243 ],\n",
      "       [-121.838661,   36.912387],\n",
      "       [-121.838635,   36.912341],\n",
      "       [-121.838609,   36.912297],\n",
      "       [-121.838568,   36.912225],\n",
      "       [-121.838534,   36.912175],\n",
      "       [-121.838531,   36.912124],\n",
      "       [-121.83849 ,   36.912046],\n",
      "       [-121.838461,   36.911993],\n",
      "       [-121.838422,   36.911935],\n",
      "       [-121.838364,   36.911843],\n",
      "       [-121.838339,   36.9118  ],\n",
      "       [-121.838288,   36.911719],\n",
      "       [-121.83824 ,   36.911744],\n",
      "       [-121.838105,   36.911806],\n",
      "       [-121.838054,   36.91183 ],\n",
      "       [-121.837676,   36.911911],\n",
      "       [-121.837532,   36.911942],\n",
      "       [-121.836974,   36.911547],\n",
      "       [-121.83692 ,   36.911509],\n",
      "       [-121.836517,   36.91115 ],\n",
      "       [-121.836306,   36.910925],\n",
      "       [-121.836034,   36.910489],\n",
      "       [-121.835848,   36.909898],\n",
      "       [-121.835643,   36.909247],\n",
      "       [-121.836119,   36.909074],\n",
      "       [-121.83755 ,   36.908555],\n",
      "       [-121.838027,   36.908383],\n",
      "       [-121.838334,   36.908825],\n",
      "       [-121.839257,   36.910151],\n",
      "       [-121.839565,   36.910594],\n",
      "       [-121.839696,   36.910522],\n",
      "       [-121.840057,   36.910364],\n",
      "       [-121.841251,   36.909844],\n",
      "       [-121.841528,   36.910256]]), array([ 1,  2,  2,  2,  2,  2,  2,  2,  2,  2,  2,  2,  2,  2,  2,  2,  2,\n",
      "        2,  2,  2,  2,  2,  2,  2,  2,  2,  2,  2,  2,  2,  2,  2,  2,  2,\n",
      "        2,  2,  2,  2,  2,  2,  2,  2,  2,  2,  2,  2,  2,  2,  2,  2,  2,\n",
      "        2,  2,  2,  2,  2,  2,  2,  2,  2,  2,  2,  2,  2,  2,  2,  2,  2,\n",
      "        2, 79], dtype=uint8)), 'sc_4': Path(array([[-121.841528,   36.910256],\n",
      "       [-121.841867,   36.910124],\n",
      "       [-121.842887,   36.909732],\n",
      "       [-121.843227,   36.909601],\n",
      "       [-121.842982,   36.909241],\n",
      "       [-121.843214,   36.909153],\n",
      "       [-121.843286,   36.909126],\n",
      "       [-121.843719,   36.909142],\n",
      "       [-121.843951,   36.909174],\n",
      "       [-121.844027,   36.909185],\n",
      "       [-121.844199,   36.909183],\n",
      "       [-121.84442 ,   36.909179],\n",
      "       [-121.844447,   36.909179],\n",
      "       [-121.844985,   36.909115],\n",
      "       [-121.84507 ,   36.909156],\n",
      "       [-121.845269,   36.909254],\n",
      "       [-121.846488,   36.909158],\n",
      "       [-121.846657,   36.909145],\n",
      "       [-121.847351,   36.910237],\n",
      "       [-121.84537 ,   36.911207],\n",
      "       [-121.844737,   36.911517],\n",
      "       [-121.844253,   36.911702],\n",
      "       [-121.844223,   36.911655],\n",
      "       [-121.844135,   36.911517],\n",
      "       [-121.844106,   36.911471],\n",
      "       [-121.843998,   36.911503],\n",
      "       [-121.843562,   36.911476],\n",
      "       [-121.843459,   36.911507],\n",
      "       [-121.843423,   36.911523],\n",
      "       [-121.842833,   36.911795],\n",
      "       [-121.842724,   36.911825],\n",
      "       [-121.84264 ,   36.91183 ],\n",
      "       [-121.84255 ,   36.911778],\n",
      "       [-121.841916,   36.910833],\n",
      "       [-121.841528,   36.910256]]), array([ 1,  2,  2,  2,  2,  2,  2,  2,  2,  2,  2,  2,  2,  2,  2,  2,  2,\n",
      "        2,  2,  2,  2,  2,  2,  2,  2,  2,  2,  2,  2,  2,  2,  2,  2,  2,\n",
      "       79], dtype=uint8)), 'sj_2': Path(array([[-121.841795,   37.224983],\n",
      "       [-121.840804,   37.225351],\n",
      "       [-121.840209,   37.225573],\n",
      "       ..., \n",
      "       [-121.841781,   37.224859],\n",
      "       [-121.841788,   37.224954],\n",
      "       [-121.841795,   37.224983]]), array([ 1,  2,  2, ...,  2,  2, 79], dtype=uint8)), 'sc_2': Path(array([[-122.089706,   37.141751],\n",
      "       [-122.089923,   37.141953],\n",
      "       [-122.089931,   37.141971],\n",
      "       [-122.089944,   37.142002],\n",
      "       [-122.090061,   37.142222],\n",
      "       [-122.090143,   37.142552],\n",
      "       [-122.09015 ,   37.142783],\n",
      "       [-122.090125,   37.142877],\n",
      "       [-122.090095,   37.142997],\n",
      "       [-122.089975,   37.143149],\n",
      "       [-122.089944,   37.143189],\n",
      "       [-122.089869,   37.143255],\n",
      "       [-122.089824,   37.143269],\n",
      "       [-122.089711,   37.143305],\n",
      "       [-122.089553,   37.14331 ],\n",
      "       [-122.08924 ,   37.143283],\n",
      "       [-122.089044,   37.143267],\n",
      "       [-122.08897 ,   37.143261],\n",
      "       [-122.088867,   37.143299],\n",
      "       [-122.088784,   37.143343],\n",
      "       [-122.08873 ,   37.143459],\n",
      "       [-122.088709,   37.143514],\n",
      "       [-122.088654,   37.143651],\n",
      "       [-122.088626,   37.14381 ],\n",
      "       [-122.088613,   37.143893],\n",
      "       [-122.088469,   37.143981],\n",
      "       [-122.088222,   37.14408 ],\n",
      "       [-122.087007,   37.144393],\n",
      "       [-122.086839,   37.144456],\n",
      "       [-122.088133,   37.143047],\n",
      "       [-122.088247,   37.142987],\n",
      "       [-122.088593,   37.14281 ],\n",
      "       [-122.088708,   37.142751],\n",
      "       [-122.08887 ,   37.142653],\n",
      "       [-122.088966,   37.142597],\n",
      "       [-122.089316,   37.14234 ],\n",
      "       [-122.089332,   37.142321],\n",
      "       [-122.089363,   37.142286],\n",
      "       [-122.089377,   37.142243],\n",
      "       [-122.089388,   37.142146],\n",
      "       [-122.08945 ,   37.142066],\n",
      "       [-122.08964 ,   37.141828],\n",
      "       [-122.089662,   37.141802],\n",
      "       [-122.089706,   37.141751]]), array([ 1,  2,  2,  2,  2,  2,  2,  2,  2,  2,  2,  2,  2,  2,  2,  2,  2,\n",
      "        2,  2,  2,  2,  2,  2,  2,  2,  2,  2,  2,  2,  2,  2,  2,  2,  2,\n",
      "        2,  2,  2,  2,  2,  2,  2,  2,  2, 79], dtype=uint8)), 'sc_1': Path(array([[-121.852737,   36.92253 ],\n",
      "       [-121.852866,   36.922271],\n",
      "       [-121.852982,   36.922041],\n",
      "       [-121.853095,   36.921944],\n",
      "       [-121.853219,   36.921861],\n",
      "       [-121.853391,   36.921786],\n",
      "       [-121.853513,   36.92177 ],\n",
      "       [-121.853556,   36.921765],\n",
      "       [-121.853686,   36.921757],\n",
      "       [-121.853801,   36.921773],\n",
      "       [-121.853915,   36.921809],\n",
      "       [-121.853998,   36.921836],\n",
      "       [-121.854169,   36.921929],\n",
      "       [-121.854231,   36.92198 ],\n",
      "       [-121.854325,   36.922057],\n",
      "       [-121.854191,   36.922235],\n",
      "       [-121.854098,   36.922346],\n",
      "       [-121.85406 ,   36.922392],\n",
      "       [-121.853881,   36.92253 ],\n",
      "       [-121.853729,   36.922601],\n",
      "       [-121.853509,   36.92266 ],\n",
      "       [-121.85325 ,   36.922663],\n",
      "       [-121.853092,   36.922623],\n",
      "       [-121.852973,   36.922594],\n",
      "       [-121.852737,   36.92253 ]]), array([ 1,  2,  2,  2,  2,  2,  2,  2,  2,  2,  2,  2,  2,  2,  2,  2,  2,\n",
      "        2,  2,  2,  2,  2,  2,  2, 79], dtype=uint8)), 'sj_1': Path(array([[-121.92392 ,   37.22002 ],\n",
      "       [-121.924239,   37.220226],\n",
      "       [-121.9244  ,   37.22033 ],\n",
      "       [-121.92463 ,   37.22041 ],\n",
      "       [-121.92478 ,   37.22043 ],\n",
      "       [-121.92495 ,   37.22043 ],\n",
      "       [-121.92517 ,   37.22037 ],\n",
      "       [-121.9253  ,   37.22033 ],\n",
      "       [-121.92532 ,   37.220326],\n",
      "       [-121.92546 ,   37.2203  ],\n",
      "       [-121.92554 ,   37.2203  ],\n",
      "       [-121.92562 ,   37.22033 ],\n",
      "       [-121.92565 ,   37.22036 ],\n",
      "       [-121.925658,   37.22039 ],\n",
      "       [-121.92566 ,   37.2204  ],\n",
      "       [-121.92564 ,   37.22048 ],\n",
      "       [-121.925568,   37.220563],\n",
      "       [-121.9254  ,   37.22076 ],\n",
      "       [-121.92522 ,   37.22096 ],\n",
      "       [-121.925187,   37.221032],\n",
      "       [-121.92514 ,   37.22114 ],\n",
      "       [-121.92511 ,   37.22122 ],\n",
      "       [-121.924622,   37.221194],\n",
      "       [-121.923807,   37.221151],\n",
      "       [-121.923871,   37.220505],\n",
      "       [-121.92392 ,   37.22002 ]]), array([ 1,  2,  2,  2,  2,  2,  2,  2,  2,  2,  2,  2,  2,  2,  2,  2,  2,\n",
      "        2,  2,  2,  2,  2,  2,  2,  2, 79], dtype=uint8)), 'sj': Path(array([[-121.841795,   37.224983],\n",
      "       [-121.841853,   37.224956],\n",
      "       [-121.841891,   37.22494 ],\n",
      "       [-121.841869,   37.225091],\n",
      "       [-121.84186 ,   37.225155],\n",
      "       [-121.841844,   37.225121],\n",
      "       [-121.841814,   37.225057],\n",
      "       [-121.841804,   37.225018],\n",
      "       [-121.841795,   37.224983]]), array([ 1,  2,  2,  2,  2,  2,  2,  2, 79], dtype=uint8)), 'sf_1': Path(array([[-122.07597 ,   37.737028],\n",
      "       [-122.076025,   37.737658],\n",
      "       [-122.075533,   37.737926],\n",
      "       [-122.075591,   37.737631],\n",
      "       [-122.075622,   37.737519],\n",
      "       [-122.075658,   37.737443],\n",
      "       [-122.075687,   37.737384],\n",
      "       [-122.075727,   37.737319],\n",
      "       [-122.075791,   37.73723 ],\n",
      "       [-122.075868,   37.737138],\n",
      "       [-122.07597 ,   37.737028]]), array([ 1,  2,  2,  2,  2,  2,  2,  2,  2,  2, 79], dtype=uint8)), 'sc': Path(array([[-122.082731,   37.049371],\n",
      "       [-122.08286 ,   37.049325],\n",
      "       [-122.082973,   37.04929 ],\n",
      "       [-122.083033,   37.049272],\n",
      "       [-122.083226,   37.049226],\n",
      "       [-122.083508,   37.049169],\n",
      "       [-122.083725,   37.049138],\n",
      "       [-122.083979,   37.049104],\n",
      "       [-122.0839  ,   37.048886],\n",
      "       [-122.083892,   37.048863],\n",
      "       [-122.083864,   37.048744],\n",
      "       [-122.083904,   37.048653],\n",
      "       [-122.083976,   37.048568],\n",
      "       [-122.084107,   37.048503],\n",
      "       [-122.084286,   37.048436],\n",
      "       [-122.084289,   37.048435],\n",
      "       [-122.084509,   37.048373],\n",
      "       [-122.084574,   37.048607],\n",
      "       [-122.084624,   37.048786],\n",
      "       [-122.084733,   37.049035],\n",
      "       [-122.084911,   37.049243],\n",
      "       [-122.08493 ,   37.049264],\n",
      "       [-122.085111,   37.049382],\n",
      "       [-122.085122,   37.049415],\n",
      "       [-122.084778,   37.049406],\n",
      "       [-122.082731,   37.049371]]), array([ 1,  2,  2,  2,  2,  2,  2,  2,  2,  2,  2,  2,  2,  2,  2,  2,  2,\n",
      "        2,  2,  2,  2,  2,  2,  2,  2, 79], dtype=uint8)), 'sf': Path(array([[-121.993026,   37.596028],\n",
      "       [-121.99297 ,   37.596064],\n",
      "       [-121.992804,   37.596173],\n",
      "       [-121.992749,   37.59621 ],\n",
      "       [-121.992739,   37.596202],\n",
      "       [-121.992683,   37.596152],\n",
      "       [-121.992649,   37.596109],\n",
      "       [-121.992639,   37.596069],\n",
      "       [-121.992645,   37.596033],\n",
      "       [-121.992669,   37.595992],\n",
      "       [-121.992701,   37.595959],\n",
      "       [-121.992741,   37.595939],\n",
      "       [-121.992788,   37.595928],\n",
      "       [-121.992848,   37.595935],\n",
      "       [-121.992921,   37.595954],\n",
      "       [-121.992997,   37.596004],\n",
      "       [-121.993026,   37.596028]]), array([ 1,  2,  2,  2,  2,  2,  2,  2,  2,  2,  2,  2,  2,  2,  2,  2, 79], dtype=uint8))}\n"
     ]
    }
   ],
   "source": [
    "print(urban_area_list_coords_flat_path)"
   ]
  },
  {
   "cell_type": "code",
   "execution_count": null,
   "metadata": {
    "collapsed": true
   },
   "outputs": [],
   "source": []
  },
  {
   "cell_type": "code",
   "execution_count": null,
   "metadata": {
    "collapsed": true
   },
   "outputs": [],
   "source": []
  },
  {
   "cell_type": "code",
   "execution_count": null,
   "metadata": {
    "collapsed": true
   },
   "outputs": [],
   "source": []
  },
  {
   "cell_type": "code",
   "execution_count": null,
   "metadata": {
    "collapsed": true
   },
   "outputs": [],
   "source": []
  },
  {
   "cell_type": "code",
   "execution_count": 197,
   "metadata": {
    "collapsed": false
   },
   "outputs": [
    {
     "name": "stdout",
     "output_type": "stream",
     "text": [
      "Inside , Outside\n",
      "9194 , 806\n",
      "--- 103.393604994 seconds ---\n"
     ]
    }
   ],
   "source": [
    "flickr_lng_sub = flickr_lng[:10000]\n",
    "flickr_lat_sub = flickr_lat[:10000]\n",
    "\n",
    "# Run path check\n",
    "start_time = time.time()\n",
    "\n",
    "contains_list = [False] * len(flickr_lng_sub)\n",
    "\n",
    "for index, row in enumerate(flickr_lng_sub):\n",
    "    tmp_match_list = []\n",
    "    tmp_lng = row\n",
    "    tmp_lat = flickr_lat_sub[index]\n",
    "    # loop through minmax of urban areas\n",
    "    for urban_area in urban_area_list_coords_flat_path.keys():\n",
    "        bbPath = urban_area_list_coords_flat_path[urban_area]\n",
    "        test = bbPath.contains_point((tmp_lng, tmp_lat))\n",
    "        if test:\n",
    "            tmp_match_list.append(True)\n",
    "        else:\n",
    "            tmp_match_list.append(False)\n",
    "\n",
    "    if sum(tmp_match_list) > 0:\n",
    "        contains_list[index] = True\n",
    "                \n",
    "print('Inside',',','Outside')\n",
    "print(sum(contains_list),',',len(contains_list)-sum(contains_list))\n",
    "\n",
    "\n",
    "print(\"--- %s seconds ---\" % (time.time() - start_time))\n"
   ]
  },
  {
   "cell_type": "code",
   "execution_count": null,
   "metadata": {
    "collapsed": true
   },
   "outputs": [],
   "source": [
    "# Try an aletrnative using matplotlib paths\n",
    "# http://stackoverflow.com/questions/16625507/python-checking-if-point-is-inside-a-polygon\n",
    "\n",
    "import matplotlib.path as mplPath\n",
    "import numpy as np\n",
    "import time\n",
    "\n",
    "start_time = time.time()\n",
    "\n",
    "contains_list = [False] * len(flickr_lng_sub)\n",
    "\n",
    "# flickr_lat_sub = [37.416015]\n",
    "# flickr_lng_sub = [-122.141183]\n",
    "# flickr_lat_sub = [37.740346]\n",
    "# flickr_lng_sub = [-122.441928]\n",
    "\n",
    "for urban_area in urban_area_list_coords.keys():\n",
    "    tmp_list = urban_area_list_coords[urban_area]\n",
    "    if len(tmp_list[0]) > 2:\n",
    "        for coord_list in tmp_list:\n",
    "            x_coords = [x[0] for x in coord_list]\n",
    "            y_coords = [x[1] for x in coord_list]\n",
    "            if len(x_coords) > 0 and len(y_coords) > 0:\n",
    "                bbPath = mplPath.Path(np.transpose(np.array((x_coords,y_coords))),closed=True)        \n",
    "                for index, row in enumerate(flickr_lng_sub):\n",
    "                    tmp_lng = row\n",
    "                    tmp_lat = flickr_lat_sub[index]\n",
    "                    test = bbPath.contains_point((tmp_lng, tmp_lat))\n",
    "                    contains_list[index] = test\n",
    "#                     if test:\n",
    "#                         print(urban_area)\n",
    "            else:\n",
    "                pass\n",
    "    else:\n",
    "        x_coords = [x[0] for x in tmp_list]\n",
    "        y_coords = [x[1] for x in tmp_list]\n",
    "        bbPath = mplPath.Path(np.transpose(np.array((x_coords,y_coords))),closed=True)        \n",
    "        for index, row in enumerate(flickr_lng_sub):\n",
    "            tmp_lng = row\n",
    "            tmp_lat = flickr_lat_sub[index]\n",
    "            test = bbPath.contains_point((tmp_lng, tmp_lat))\n",
    "            contains_list[index] = test\n",
    "print('Inside',',','Outside')\n",
    "print(sum(contains_list),',',len(contains_list)-sum(contains_list))\n",
    "\n",
    "\n",
    "print(\"--- %s seconds ---\" % (time.time() - start_time))"
   ]
  },
  {
   "cell_type": "code",
   "execution_count": null,
   "metadata": {
    "collapsed": true
   },
   "outputs": [],
   "source": []
  },
  {
   "cell_type": "code",
   "execution_count": null,
   "metadata": {
    "collapsed": true
   },
   "outputs": [],
   "source": []
  },
  {
   "cell_type": "code",
   "execution_count": null,
   "metadata": {
    "collapsed": true
   },
   "outputs": [],
   "source": []
  },
  {
   "cell_type": "code",
   "execution_count": null,
   "metadata": {
    "collapsed": true
   },
   "outputs": [],
   "source": []
  },
  {
   "cell_type": "code",
   "execution_count": null,
   "metadata": {
    "collapsed": true
   },
   "outputs": [],
   "source": []
  },
  {
   "cell_type": "code",
   "execution_count": null,
   "metadata": {
    "collapsed": true
   },
   "outputs": [],
   "source": []
  },
  {
   "cell_type": "code",
   "execution_count": null,
   "metadata": {
    "collapsed": true
   },
   "outputs": [],
   "source": []
  },
  {
   "cell_type": "code",
   "execution_count": null,
   "metadata": {
    "collapsed": true
   },
   "outputs": [],
   "source": []
  }
 ],
 "metadata": {
  "kernelspec": {
   "display_name": "Python 2",
   "language": "python",
   "name": "python2"
  },
  "language_info": {
   "codemirror_mode": {
    "name": "ipython",
    "version": 2
   },
   "file_extension": ".py",
   "mimetype": "text/x-python",
   "name": "python",
   "nbconvert_exporter": "python",
   "pygments_lexer": "ipython2",
   "version": "2.7.12"
  }
 },
 "nbformat": 4,
 "nbformat_minor": 0
}
