{
 "cells": [
  {
   "cell_type": "code",
   "execution_count": 1,
   "metadata": {
    "collapsed": true
   },
   "outputs": [],
   "source": [
    "from __future__ import absolute_import, division, print_function"
   ]
  },
  {
   "cell_type": "markdown",
   "metadata": {},
   "source": [
    "# Run Kernel Density Estimate on image distribution"
   ]
  },
  {
   "cell_type": "code",
   "execution_count": 192,
   "metadata": {
    "collapsed": true
   },
   "outputs": [],
   "source": [
    "import os\n",
    "import json\n",
    "import pandas as pd\n",
    "import glob\n",
    "import numpy as np\n",
    "import shapefile as sf\n",
    "from pyproj import Proj, transform\n",
    "import matplotlib as mpl\n",
    "import matplotlib.pyplot as plt\n",
    "import time\n",
    "import copy\n",
    "from sklearn.neighbors.kde import KernelDensity\n",
    "from sklearn.datasets.species_distributions import construct_grids\n",
    "from matplotlib.patches import Polygon\n",
    "from matplotlib.collections import PatchCollection\n",
    "import matplotlib.path as mplPath\n",
    "import random\n",
    "\n",
    "%matplotlib inline\n"
   ]
  },
  {
   "cell_type": "code",
   "execution_count": 87,
   "metadata": {
    "collapsed": false
   },
   "outputs": [],
   "source": [
    "# import dataframe\n",
    "df = pd.read_pickle(os.path.join('..','..','data','dog.df'))"
   ]
  },
  {
   "cell_type": "code",
   "execution_count": 88,
   "metadata": {
    "collapsed": false
   },
   "outputs": [
    {
     "data": {
      "text/html": [
       "<div>\n",
       "<table border=\"1\" class=\"dataframe\">\n",
       "  <thead>\n",
       "    <tr style=\"text-align: right;\">\n",
       "      <th></th>\n",
       "      <th>longitude</th>\n",
       "      <th>latitude</th>\n",
       "    </tr>\n",
       "  </thead>\n",
       "  <tbody>\n",
       "    <tr>\n",
       "      <th>0</th>\n",
       "      <td>-124.408601</td>\n",
       "      <td>40.443201</td>\n",
       "    </tr>\n",
       "    <tr>\n",
       "      <th>1</th>\n",
       "      <td>-124.396642</td>\n",
       "      <td>40.462119</td>\n",
       "    </tr>\n",
       "    <tr>\n",
       "      <th>2</th>\n",
       "      <td>-124.395598</td>\n",
       "      <td>40.464590</td>\n",
       "    </tr>\n",
       "    <tr>\n",
       "      <th>3</th>\n",
       "      <td>-124.388450</td>\n",
       "      <td>40.481511</td>\n",
       "    </tr>\n",
       "    <tr>\n",
       "      <th>4</th>\n",
       "      <td>-124.384940</td>\n",
       "      <td>40.489820</td>\n",
       "    </tr>\n",
       "  </tbody>\n",
       "</table>\n",
       "</div>"
      ],
      "text/plain": [
       "    longitude   latitude\n",
       "0 -124.408601  40.443201\n",
       "1 -124.396642  40.462119\n",
       "2 -124.395598  40.464590\n",
       "3 -124.388450  40.481511\n",
       "4 -124.384940  40.489820"
      ]
     },
     "execution_count": 88,
     "metadata": {},
     "output_type": "execute_result"
    }
   ],
   "source": [
    "# Get CA coordinates\n",
    "infile = os.path.join('..','..','data','ca_shape.csv')\n",
    "ca_shape = pd.read_csv(infile)\n",
    "ca_shape.head()"
   ]
  },
  {
   "cell_type": "code",
   "execution_count": 276,
   "metadata": {
    "collapsed": false
   },
   "outputs": [
    {
     "ename": "IndentationError",
     "evalue": "unexpected indent (<ipython-input-276-0a79b7d8576d>, line 9)",
     "output_type": "error",
     "traceback": [
      "\u001b[0;36m  File \u001b[0;32m\"<ipython-input-276-0a79b7d8576d>\"\u001b[0;36m, line \u001b[0;32m9\u001b[0m\n\u001b[0;31m    yin = np.array((df['longitude'][(df['longitude'] > limit_lng[0]) &\u001b[0m\n\u001b[0m    ^\u001b[0m\n\u001b[0;31mIndentationError\u001b[0m\u001b[0;31m:\u001b[0m unexpected indent\n"
     ]
    }
   ],
   "source": [
    "limit_lng = [-122.5,-122.0]\n",
    "limit_lat = [37.1,37.7]\n",
    "#\n",
    "limit_lng = [-122.4,-122]\n",
    "limit_lat = [37.4,37.7]\n",
    "#\n",
    "#limit_lat = []\n",
    "#\n",
    "if len(limit_lng) != 0 and len(limit_lat) != 0:\n",
    "    yin = np.array((df['longitude'][(df['longitude'] > limit_lng[0]) & \n",
    "                                    (df['longitude'] < limit_lng[1]) & \n",
    "                                    (df['latitude'] > limit_lat[0]) & \n",
    "                                    (df['latitude'] < limit_lat[1])].tolist()))\n",
    "\n",
    "    xin = np.array((df['latitude'][(df['longitude'] > limit_lng[0]) & \n",
    "                                   (df['longitude'] < limit_lng[1]) & \n",
    "                                   (df['latitude'] > limit_lat[0]) & \n",
    "                                   (df['latitude'] < limit_lat[1])].tolist()))\n",
    "else:\n",
    "    yin = np.array((df['longitude'][df['longitude'] != 0.0].tolist()))\n",
    "    xin = np.array((df['latitude'][df['latitude'] != 0.0].tolist()))\n",
    "#\n",
    "lng_max = max(yin)\n",
    "lng_min = min(yin)\n",
    "lat_max = max(xin)\n",
    "lat_min = min(xin)\n",
    "\n",
    "# Create list of indices\n",
    "index = list(range(len(xin)))\n",
    "# shuffle list\n",
    "random.shuffle(index)\n",
    "# cut into chunks\n",
    "def chunks(l, n):\n",
    "    \"\"\"Yield successive n-sized chunks from l.\"\"\"\n",
    "    for i in range(0, len(l), n):\n",
    "        yield l[i:i + n]\n",
    "#        \n",
    "chunky = list(chunks(index,len(xin)/10))\n",
    "#\n",
    "xin = xin[chunky[0]]\n",
    "yin = yin[chunky[0]]\n",
    "# Set up the data grid for the contour plot\n",
    "xgrid = np.linspace(lng_min,lng_max,100)\n",
    "ygrid = np.linspace(lat_min,lat_max,100)\n",
    "X, Y = np.meshgrid(xgrid, ygrid)\n",
    "#\n",
    "xy = np.vstack([Y.ravel(), X.ravel()]).T\n",
    "xy *= np.pi / 180.\n",
    "#\n",
    "Xtrain = np.vstack([xin,yin]).T\n",
    "Xtrain *= np.pi / 180.  # Convert lat/long to radians\n",
    "\n",
    "# kde = KernelDensity(bandwidth=0.0002,metric='haversine',\n",
    "#                     kernel='gaussian', algorithm='ball_tree')\n",
    "\n",
    "from sklearn import grid_search\n",
    "parameters = {'bandwidth':[0.0001,0.0002,0.0003,0.0004,0.0005,0.0007,0.001,0.002,0.005]}\n",
    "kde = KernelDensity()\n",
    "clf = grid_search.GridSearchCV(kde, parameters)\n",
    "clf.fit(Xtrain)\n",
    "print(\"Best parameters set found on development set:\")\n",
    "print()\n",
    "print(clf.best_params_)\n",
    "print()\n",
    "print(\"Grid scores on development set:\")\n",
    "print()\n",
    "for params, mean_score, scores in clf.grid_scores_:\n",
    "    print(\"%0.3f (+/-%0.03f) for %r\"\n",
    "          % (mean_score, scores.std() * 2, params))\n",
    "print()\n",
    "print(\"Detailed classification report:\")\n",
    "print()\n",
    "print(\"The model is trained on the full development set.\")\n",
    "print(\"The scores are computed on the full evaluation set.\")\n",
    "\n",
    "    "
   ]
  },
  {
   "cell_type": "code",
   "execution_count": 235,
   "metadata": {
    "collapsed": false
   },
   "outputs": [
    {
     "data": {
      "text/plain": [
       "KernelDensity(algorithm='auto', atol=0, bandwidth=0.0003, breadth_first=True,\n",
       "       kernel='gaussian', leaf_size=40, metric='euclidean',\n",
       "       metric_params=None, rtol=0)"
      ]
     },
     "execution_count": 235,
     "metadata": {},
     "output_type": "execute_result"
    }
   ],
   "source": [
    "kde = KernelDensity(bandwidth=0.0003)\n",
    "kde.fit(Xtrain)\n"
   ]
  },
  {
   "cell_type": "code",
   "execution_count": null,
   "metadata": {
    "collapsed": true
   },
   "outputs": [],
   "source": []
  },
  {
   "cell_type": "code",
   "execution_count": null,
   "metadata": {
    "collapsed": true
   },
   "outputs": [],
   "source": []
  },
  {
   "cell_type": "code",
   "execution_count": 279,
   "metadata": {
    "collapsed": true
   },
   "outputs": [],
   "source": [
    "limit_lng = [-122.5,-122.0]\n",
    "limit_lat = [37.1,37.7]\n",
    "#\n",
    "limit_lng = [-122.4,-122]\n",
    "limit_lat = [37.4,37.7]\n",
    "#\n",
    "limit_lat = []\n",
    "#\n",
    "if len(limit_lng) != 0 and len(limit_lat) != 0:\n",
    "    yin = np.array((df['longitude'][(df['longitude'] > limit_lng[0]) & \n",
    "                                    (df['longitude'] < limit_lng[1]) & \n",
    "                                    (df['latitude'] > limit_lat[0]) & \n",
    "                                    (df['latitude'] < limit_lat[1])].tolist()))\n",
    "\n",
    "    xin = np.array((df['latitude'][(df['longitude'] > limit_lng[0]) & \n",
    "                                   (df['longitude'] < limit_lng[1]) & \n",
    "                                   (df['latitude'] > limit_lat[0]) & \n",
    "                                   (df['latitude'] < limit_lat[1])].tolist()))\n",
    "else:\n",
    "    yin = np.array((df['longitude'][df['longitude'] != 0.0].tolist()))\n",
    "    xin = np.array((df['latitude'][df['latitude'] != 0.0].tolist()))\n",
    "#\n",
    "lng_max = max(yin)\n",
    "lng_min = min(yin)\n",
    "lat_max = max(xin)\n",
    "lat_min = min(xin)\n",
    "\n",
    "# Create list of indices\n",
    "index = list(range(len(xin)))\n",
    "# shuffle list\n",
    "random.shuffle(index)\n",
    "# cut into chunks\n",
    "def chunks(l, n):\n",
    "    \"\"\"Yield successive n-sized chunks from l.\"\"\"\n",
    "    for i in range(0, len(l), n):\n",
    "        yield l[i:i + n]\n",
    "#        \n",
    "chunky = list(chunks(index,len(xin)/10))\n",
    "\n",
    "for idx,chunk in enumerate(chunky):\n",
    "    xin_chunk = xin[chunk]\n",
    "    yin_chunk = yin[chunk]\n",
    "    # Set up the data grid for the contour plot\n",
    "    xgrid = np.linspace(lng_min,lng_max,100)\n",
    "    ygrid = np.linspace(lat_min,lat_max,100)\n",
    "    X, Y = np.meshgrid(xgrid, ygrid)\n",
    "    #\n",
    "    xy = np.vstack([Y.ravel(), X.ravel()]).T\n",
    "    xy *= np.pi / 180.\n",
    "    #\n",
    "    Xtrain = np.vstack([xin_chunk,yin_chunk]).T\n",
    "    Xtrain *= np.pi / 180.  # Convert lat/long to radians\n",
    "    #\n",
    "    kde = KernelDensity(bandwidth=0.0003)\n",
    "    kde.fit(Xtrain)\n",
    "    #\n",
    "    Z = np.exp(kde.score_samples(xy))\n",
    "    Z = Z.reshape(X.shape)\n",
    "    #\n",
    "    plt.figure(figsize=(10,10))\n",
    "\n",
    "    # plot CA outline\n",
    "    x_coords = ca_shape['longitude'].tolist()\n",
    "    y_coords = ca_shape['latitude'].tolist()\n",
    "    # x_coords = [x*np.pi / 180. for x in x_coords]\n",
    "    # y_coords = [x*np.pi / 180. for x in y_coords]\n",
    "    plt.plot(x_coords,y_coords)\n",
    "\n",
    "    #  plot contours of the density\n",
    "    levels = np.linspace(0, np.log10(Z.max()), 50)\n",
    "    levels = np.linspace(0, np.sqrt(Z.max()), 50)\n",
    "    # print(levels)\n",
    "    # print(levels)\n",
    "    # print(Z)\n",
    "    plt.contourf(X, Y, np.sqrt(Z), levels=levels, cmap=plt.cm.Reds)\n",
    "    if len(limit_lng) != 0 and len(limit_lat) != 0:\n",
    "        plt.xlim(limit_lng[0],limit_lng[1])\n",
    "        plt.ylim(limit_lat[0],limit_lat[1]) \n",
    "    else:\n",
    "        plt.xlim(-123,-121.5)\n",
    "        plt.ylim(36.8,38.5) \n",
    "    #\n",
    "    outname = os.path.join('img/test_kde_chunk_'+str(idx)+'.png')\n",
    "    plt.savefig(outname,bbox_inches='tight')\n",
    "\n",
    "    plt.close()\n"
   ]
  },
  {
   "cell_type": "markdown",
   "metadata": {},
   "source": [
    "## Decide which points of the grid fall into the ocean"
   ]
  },
  {
   "cell_type": "code",
   "execution_count": 198,
   "metadata": {
    "collapsed": false
   },
   "outputs": [],
   "source": [
    "# # Calculate paths number \n",
    "# x_coords = ca_shape['longitude'].tolist()\n",
    "# y_coords = ca_shape['latitude'].tolist()\n",
    "\n",
    "# bbPath = mplPath.Path(np.transpose(np.array((x_coords,y_coords))),closed=True)\n",
    "# land_mask = np.vstack([Y.ravel(), X.ravel()]).T\n",
    "# land_mask = (land_mask < -9999).ravel()\n",
    "# print(land_mask)\n",
    "# for xidx,xcoord in enumerate(xgrid):\n",
    "#     for yidx,ycoord in enumerate(ygrid):\n",
    "#         test = bbPath.contains_point((xcoord, ycoord))\n",
    "#         if test:\n",
    "#             land_mask[xidx:yidx] = True\n"
   ]
  },
  {
   "cell_type": "code",
   "execution_count": 199,
   "metadata": {
    "collapsed": false
   },
   "outputs": [],
   "source": [
    "# print(land_mask)"
   ]
  },
  {
   "cell_type": "code",
   "execution_count": 236,
   "metadata": {
    "collapsed": false
   },
   "outputs": [
    {
     "name": "stdout",
     "output_type": "stream",
     "text": [
      "[  1.92236047e-01   5.37891634e-01   1.42572602e+00 ...,   5.99240927e+03\n",
      "   4.02986512e+03   2.61561930e+03]\n"
     ]
    }
   ],
   "source": [
    "#Z = -9999 + np.zeros(land_mask.shape[0])\n",
    "Z = np.exp(kde.score_samples(xy))\n",
    "print(Z)\n"
   ]
  },
  {
   "cell_type": "code",
   "execution_count": 237,
   "metadata": {
    "collapsed": false
   },
   "outputs": [],
   "source": [
    "Z = Z.reshape(X.shape)"
   ]
  },
  {
   "cell_type": "code",
   "execution_count": null,
   "metadata": {
    "collapsed": true
   },
   "outputs": [],
   "source": []
  },
  {
   "cell_type": "code",
   "execution_count": null,
   "metadata": {
    "collapsed": true
   },
   "outputs": [],
   "source": []
  },
  {
   "cell_type": "code",
   "execution_count": null,
   "metadata": {
    "collapsed": true
   },
   "outputs": [],
   "source": []
  },
  {
   "cell_type": "markdown",
   "metadata": {},
   "source": [
    "# Determine cluster centers"
   ]
  },
  {
   "cell_type": "code",
   "execution_count": 273,
   "metadata": {
    "collapsed": false
   },
   "outputs": [
    {
     "name": "stdout",
     "output_type": "stream",
     "text": [
      "number of estimated clusters : 6\n"
     ]
    }
   ],
   "source": [
    "from sklearn.cluster import MeanShift, estimate_bandwidth\n",
    "\n",
    "xynew = np.vstack([Y.ravel(), X.ravel(),Z.ravel()]).T\n",
    "# bandwidth = estimate_bandwidth(xynew, quantile=0.1, n_samples=5000)\n",
    "# print(bandwidth)\n",
    "ms = MeanShift(bandwidth=12000,n_jobs=-1, bin_seeding=True)\n",
    "ms.fit(xynew)\n",
    "labels = ms.labels_\n",
    "cluster_centers = ms.cluster_centers_\n",
    "labels_unique = np.unique(labels)\n",
    "n_clusters_ = len(labels_unique)\n",
    "print(\"number of estimated clusters : %d\" % n_clusters_)\n"
   ]
  },
  {
   "cell_type": "code",
   "execution_count": null,
   "metadata": {
    "collapsed": true
   },
   "outputs": [],
   "source": []
  },
  {
   "cell_type": "code",
   "execution_count": null,
   "metadata": {
    "collapsed": true
   },
   "outputs": [],
   "source": []
  },
  {
   "cell_type": "markdown",
   "metadata": {},
   "source": [
    "# Plot results"
   ]
  },
  {
   "cell_type": "code",
   "execution_count": 274,
   "metadata": {
    "collapsed": false,
    "scrolled": false
   },
   "outputs": [
    {
     "data": {
      "image/png": "[encoded data removed]",
      "text/plain": [
       "<matplotlib.figure.Figure at 0x1113b81d0>"
      ]
     },
     "metadata": {},
     "output_type": "display_data"
    }
   ],
   "source": [
    "plt.figure(figsize=(10,10))\n",
    "\n",
    "# plot CA outline\n",
    "x_coords = ca_shape['longitude'].tolist()\n",
    "y_coords = ca_shape['latitude'].tolist()\n",
    "# x_coords = [x*np.pi / 180. for x in x_coords]\n",
    "# y_coords = [x*np.pi / 180. for x in y_coords]\n",
    "plt.plot(x_coords,y_coords)\n",
    "\n",
    "#  plot contours of the density\n",
    "levels = np.linspace(0, np.log10(Z.max()), 50)\n",
    "levels = np.linspace(0, np.sqrt(Z.max()), 50)\n",
    "# print(levels)\n",
    "# print(levels)\n",
    "# print(Z)\n",
    "plt.contourf(X, Y, np.sqrt(Z), levels=levels, cmap=plt.cm.Reds)\n",
    "if len(limit_lng) != 0 and len(limit_lat) != 0:\n",
    "    plt.xlim(limit_lng[0],limit_lng[1])\n",
    "    plt.ylim(limit_lat[0],limit_lat[1]) \n",
    "else:\n",
    "    plt.xlim(-123,-121.5)\n",
    "    plt.ylim(36.8,38.5) \n",
    "    \n",
    "for k in range(n_clusters_):\n",
    "    cluster_center = cluster_centers[k]\n",
    "#     plt.plot( xynew[my_members, 1], xynew[my_members, 0],col + '.')\n",
    "    plt.plot( cluster_center[1], cluster_center[0],'k+',markersize='10')\n",
    "#     print(cluster_center[0], cluster_center[1])\n",
    "    \n",
    "plt.show()\n"
   ]
  },
  {
   "cell_type": "code",
   "execution_count": 275,
   "metadata": {
    "collapsed": true
   },
   "outputs": [],
   "source": [
    "# Find peaks in KDE map\n"
   ]
  },
  {
   "cell_type": "code",
   "execution_count": 110,
   "metadata": {
    "collapsed": false
   },
   "outputs": [
    {
     "name": "stdout",
     "output_type": "stream",
     "text": [
      "[[ 1.49274995  0.70425011]\n",
      " [ 1.41255876  0.79018665]\n",
      " [-1.58934245 -1.89105616]\n",
      " ..., \n",
      " [ 0.74906919 -0.53839144]\n",
      " [ 0.82532546 -1.1143188 ]\n",
      " [-1.19931257 -1.68450461]]\n"
     ]
    }
   ],
   "source": [
    "Xtest, _ = make_blobs(n_samples=10000, centers=centers, cluster_std=0.6)\n",
    "print(Xtest)"
   ]
  },
  {
   "cell_type": "markdown",
   "metadata": {},
   "source": [
    "# Find local maxima in KDE map"
   ]
  },
  {
   "cell_type": "code",
   "execution_count": 214,
   "metadata": {
    "collapsed": false
   },
   "outputs": [
    {
     "name": "stdout",
     "output_type": "stream",
     "text": [
      "[[  0.00000000e+000]\n",
      " [  0.00000000e+000]\n",
      " [  0.00000000e+000]\n",
      " ..., \n",
      " [  4.27439629e-245]\n",
      " [  7.43106755e-263]\n",
      " [  1.86311700e-281]]\n",
      "number of estimated clusters : 44\n"
     ]
    }
   ],
   "source": [
    "from sklearn.cluster import MeanShift, estimate_bandwidth\n",
    "\n",
    "xynew = np.vstack([Y.ravel(), X.ravel(),Z.ravel()]).T\n",
    "\n",
    "\n",
    "bandwidth = estimate_bandwidth(xynew, quantile=0.2, n_samples=500)\n",
    "\n",
    "ms = MeanShift(bandwidth=bandwidth, bin_seeding=True)\n",
    "ms.fit(xynew)\n",
    "\n",
    "labels = ms.labels_\n",
    "cluster_centers = ms.cluster_centers_\n",
    "\n",
    "labels_unique = np.unique(labels)\n",
    "n_clusters_ = len(labels_unique)\n",
    "\n",
    "print(\"number of estimated clusters : %d\" % n_clusters_)\n"
   ]
  },
  {
   "cell_type": "code",
   "execution_count": 217,
   "metadata": {
    "collapsed": false
   },
   "outputs": [
    {
     "name": "stdout",
     "output_type": "stream",
     "text": [
      "[[  3.78466392e+01  -1.22419297e+02   3.90898404e+01]\n",
      " [  3.75487848e+01  -1.22194338e+02   6.21243308e+03]\n",
      " [  3.75713165e+01  -1.22227921e+02   7.37025376e+03]\n",
      " [  3.75733752e+01  -1.22236406e+02   8.18162190e+03]\n",
      " [  3.74669000e+01  -1.22108446e+02   9.83197714e+03]\n",
      " [  3.75553684e+01  -1.22218926e+02   1.13992835e+04]\n",
      " [  3.74659747e+01  -1.22157372e+02   1.20689961e+04]\n",
      " [  3.77258679e+01  -1.22328914e+02   2.28495484e+04]\n",
      " [  3.77475159e+01  -1.22273861e+02   2.21455891e+04]\n",
      " [  3.75643159e+01  -1.22164517e+02   2.46199007e+04]\n",
      " [  3.75551074e+01  -1.22130916e+02   1.72123289e+04]\n",
      " [  3.78231222e+01  -1.22256093e+02   1.56801305e+04]\n",
      " [  3.72857356e+01  -1.22050388e+02   2.07980134e+04]\n",
      " [  3.76969178e+01  -1.22169984e+02   1.44534038e+04]\n",
      " [  3.74282244e+01  -1.22131713e+02   1.89996990e+04]\n",
      " [  3.75829267e+01  -1.22117362e+02   1.81229395e+04]\n",
      " [  3.77467889e+01  -1.22324263e+02   3.22701915e+04]\n",
      " [  3.78163370e+01  -1.22390040e+02   3.60802595e+04]\n",
      " [  3.78231222e+01  -1.22354162e+02   2.81053017e+04]\n",
      " [  3.77009889e+01  -1.22497677e+02   2.96187044e+04]\n",
      " [  3.77722333e+01  -1.22461798e+02   6.34794027e+04]\n",
      " [  3.77417000e+01  -1.22461798e+02   4.06310207e+04]\n",
      " [  3.78027667e+01  -1.22390040e+02   9.60451325e+04]\n",
      " [  3.77417000e+01  -1.22366121e+02   5.48970584e+04]\n",
      " [  3.77213444e+01  -1.22509636e+02   3.77236648e+04]\n",
      " [  3.77417000e+01  -1.22485717e+02   3.33835915e+04]\n",
      " [  3.77824111e+01  -1.22437879e+02   1.50057895e+05]\n",
      " [  3.78841889e+01  -1.22318283e+02   3.09938143e+04]\n",
      " [  3.77824111e+01  -1.22413960e+02   2.46655747e+05]\n",
      " [  3.78027667e+01  -1.22413960e+02   1.29030723e+05]\n",
      " [  3.77824111e+01  -1.22390040e+02   2.21560908e+05]\n",
      " [  3.78027667e+01  -1.22461798e+02   5.06140708e+04]\n",
      " [  3.77620556e+01  -1.22437879e+02   1.60439935e+05]\n",
      " [  3.77824111e+01  -1.22366121e+02   6.42644705e+04]\n",
      " [  3.77417000e+01  -1.22390040e+02   1.48574269e+05]\n",
      " [  3.77213444e+01  -1.22485717e+02   3.90977730e+04]\n",
      " [  3.77417000e+01  -1.22437879e+02   8.63993462e+04]\n",
      " [  3.77620556e+01  -1.22366121e+02   9.95494173e+04]\n",
      " [  3.78027667e+01  -1.22437879e+02   8.39678435e+04]\n",
      " [  3.77620556e+01  -1.22390040e+02   2.84133411e+05]\n",
      " [  3.77417000e+01  -1.22413960e+02   1.33785617e+05]\n",
      " [  3.77213444e+01  -1.22413960e+02   4.94500954e+04]\n",
      " [  3.77620556e+01  -1.22413960e+02   2.59824336e+05]\n",
      " [  3.69681889e+01  -1.21983414e+02   2.62438084e+04]]\n"
     ]
    }
   ],
   "source": [
    "print(cluster_centers)"
   ]
  },
  {
   "cell_type": "code",
   "execution_count": 216,
   "metadata": {
    "collapsed": false
   },
   "outputs": [
    {
     "data": {
      "image/png": "[encoded data removed]",
      "text/plain": [
       "<matplotlib.figure.Figure at 0x11171b050>"
      ]
     },
     "metadata": {},
     "output_type": "display_data"
    }
   ],
   "source": [
    "import matplotlib.pyplot as plt\n",
    "from itertools import cycle\n",
    "\n",
    "plt.figure(1)\n",
    "plt.clf()\n",
    "xynew = np.vstack([Y.ravel(), X.ravel(),Z.ravel()]).T\n",
    "colors = cycle('bgrcmykbgrcmykbgrcmykbgrcmyk')\n",
    "for k, col in zip(range(n_clusters_), colors):\n",
    "    my_members = labels == k\n",
    "    cluster_center = cluster_centers[k]\n",
    "    plt.plot( xynew[my_members, 1], xynew[my_members, 0],col + '.')\n",
    "#     plt.plot(cluster_center[0], cluster_center[1], 'o', markerfacecolor=col,\n",
    "#              markeredgecolor='k', markersize=14)\n",
    "plt.title('Estimated number of clusters: %d' % n_clusters_)\n",
    "plt.xlim(-123,-121.5)\n",
    "plt.ylim(36.8,38.5) \n",
    "\n",
    "plt.show()\n",
    "\n"
   ]
  },
  {
   "cell_type": "code",
   "execution_count": 45,
   "metadata": {
    "collapsed": false
   },
   "outputs": [
    {
     "name": "stdout",
     "output_type": "stream",
     "text": [
      "100\n",
      "100\n",
      "<type 'numpy.ndarray'>\n",
      "100\n",
      "100\n"
     ]
    }
   ],
   "source": [
    "print(len(X))\n",
    "print(len(X[0]))\n",
    "print(type(X))\n",
    "\n",
    "print(len(Z))\n",
    "print(len(Z[0]))\n"
   ]
  },
  {
   "cell_type": "code",
   "execution_count": 37,
   "metadata": {
    "collapsed": false
   },
   "outputs": [
    {
     "name": "stdout",
     "output_type": "stream",
     "text": [
      "[-122.399 -122.395 -122.391 -122.387 -122.383 -122.379 -122.375 -122.371\n",
      " -122.367 -122.363 -122.359 -122.355 -122.351 -122.347 -122.343 -122.339\n",
      " -122.335 -122.331 -122.327 -122.323 -122.319 -122.315 -122.311 -122.307\n",
      " -122.303 -122.299 -122.295 -122.291 -122.287 -122.283 -122.279 -122.275\n",
      " -122.271 -122.267 -122.263 -122.259 -122.255 -122.251 -122.247 -122.243\n",
      " -122.239 -122.235 -122.231 -122.227 -122.223 -122.219 -122.215 -122.211\n",
      " -122.207 -122.203 -122.199 -122.195 -122.191 -122.187 -122.183 -122.179\n",
      " -122.175 -122.171 -122.167 -122.163 -122.159 -122.155 -122.151 -122.147\n",
      " -122.143 -122.139 -122.135 -122.131 -122.127 -122.123 -122.119 -122.115\n",
      " -122.111 -122.107 -122.103 -122.099 -122.095 -122.091 -122.087 -122.083\n",
      " -122.079 -122.075 -122.071 -122.067 -122.063 -122.059 -122.055 -122.051\n",
      " -122.047 -122.043 -122.039 -122.035 -122.031 -122.027 -122.023 -122.019\n",
      " -122.015 -122.011 -122.007 -122.003]\n"
     ]
    }
   ],
   "source": [
    "print(xgrid)"
   ]
  },
  {
   "cell_type": "code",
   "execution_count": 107,
   "metadata": {
    "collapsed": false
   },
   "outputs": [
    {
     "data": {
      "text/plain": [
       "(10000, 2)"
      ]
     },
     "execution_count": 107,
     "metadata": {},
     "output_type": "execute_result"
    }
   ],
   "source": [
    "from sklearn.datasets.samples_generator import make_blobs\n",
    "\n",
    "centers = [[1, 1], [-1, -1], [1, -1]]\n",
    "Xnew, _ = make_blobs(n_samples=10000, centers=centers, cluster_std=0.6)\n",
    "Xnew.shape"
   ]
  },
  {
   "cell_type": "code",
   "execution_count": 59,
   "metadata": {
    "collapsed": false
   },
   "outputs": [
    {
     "name": "stdout",
     "output_type": "stream",
     "text": [
      "[[-0.67736727 -0.93845402]\n",
      " [ 0.25300636 -0.78158718]\n",
      " [ 0.67436331  1.16600788]\n",
      " ..., \n",
      " [ 0.62281583 -0.19684629]\n",
      " [ 1.0972231  -0.97315086]\n",
      " [-1.57045402 -0.45882662]]\n",
      "100\n"
     ]
    },
    {
     "data": {
      "text/plain": [
       "(100, 100)"
      ]
     },
     "execution_count": 59,
     "metadata": {},
     "output_type": "execute_result"
    }
   ],
   "source": [
    "print(Xnew)\n",
    "print(len(X))\n",
    "X.shape"
   ]
  },
  {
   "cell_type": "code",
   "execution_count": 81,
   "metadata": {
    "collapsed": false
   },
   "outputs": [
    {
     "data": {
      "text/plain": [
       "(100, 100)"
      ]
     },
     "execution_count": 81,
     "metadata": {},
     "output_type": "execute_result"
    }
   ],
   "source": [
    "Z.shape"
   ]
  },
  {
   "cell_type": "code",
   "execution_count": 83,
   "metadata": {
    "collapsed": false
   },
   "outputs": [],
   "source": [
    "Z_ravel = Z.ravel()\n"
   ]
  },
  {
   "cell_type": "code",
   "execution_count": 85,
   "metadata": {
    "collapsed": false
   },
   "outputs": [
    {
     "data": {
      "text/plain": [
       "(10000,)"
      ]
     },
     "execution_count": 85,
     "metadata": {},
     "output_type": "execute_result"
    }
   ],
   "source": [
    "Z_ravel.shape"
   ]
  },
  {
   "cell_type": "code",
   "execution_count": 208,
   "metadata": {
    "collapsed": false
   },
   "outputs": [
    {
     "name": "stdout",
     "output_type": "stream",
     "text": [
      "(591, 598, 4)\n",
      "(471224, 3)\n"
     ]
    }
   ],
   "source": [
    "from PIL import Image\n",
    "image = Image.open(os.path.join('img','test_accident_all.png'))\n",
    "image = np.array(image)\n",
    "print(image.shape)\n",
    "flat = np.reshape(image, [-1, 3])\n",
    "print(flat.shape)"
   ]
  },
  {
   "cell_type": "code",
   "execution_count": 209,
   "metadata": {
    "collapsed": false
   },
   "outputs": [
    {
     "name": "stdout",
     "output_type": "stream",
     "text": [
      "(10000, 3)\n"
     ]
    }
   ],
   "source": [
    "xynew = np.vstack([Y.ravel(), X.ravel(),Z.ravel()]).T\n",
    "print(xynew.shape)"
   ]
  },
  {
   "cell_type": "code",
   "execution_count": 210,
   "metadata": {
    "collapsed": true
   },
   "outputs": [],
   "source": [
    "ms = MeanShift(0.1, bin_seeding=True)\n",
    "ms.fit(xynew)\n",
    "labels=ms.labels_\n"
   ]
  },
  {
   "cell_type": "code",
   "execution_count": null,
   "metadata": {
    "collapsed": true
   },
   "outputs": [],
   "source": []
  },
  {
   "cell_type": "code",
   "execution_count": 70,
   "metadata": {
    "collapsed": false
   },
   "outputs": [
    {
     "name": "stdout",
     "output_type": "stream",
     "text": [
      "[[  37.4002 -122.399 ]\n",
      " [  37.4002 -122.395 ]\n",
      " [  37.4002 -122.391 ]\n",
      " ..., \n",
      " [  37.6992 -122.011 ]\n",
      " [  37.6992 -122.007 ]\n",
      " [  37.6992 -122.003 ]]\n"
     ]
    }
   ],
   "source": [
    "new = X.ravel()\n",
    "new.shape\n",
    "xy = np.vstack([Y.ravel(), X.ravel()]).T\n",
    "xy.shape\n",
    "print(xy)"
   ]
  },
  {
   "cell_type": "code",
   "execution_count": 78,
   "metadata": {
    "collapsed": false
   },
   "outputs": [
    {
     "name": "stdout",
     "output_type": "stream",
     "text": [
      "[[255 255 255]\n",
      " [255 255 255]\n",
      " [255 255 255]\n",
      " ..., \n",
      " [255 255 255]\n",
      " [255 255 255]\n",
      " [255 255 255]]\n"
     ]
    }
   ],
   "source": [
    "flat = np.reshape(image, [-1, 3])\n",
    "print(flat)"
   ]
  },
  {
   "cell_type": "code",
   "execution_count": 79,
   "metadata": {
    "collapsed": false
   },
   "outputs": [
    {
     "data": {
      "text/plain": [
       "(471224, 3)"
      ]
     },
     "execution_count": 79,
     "metadata": {},
     "output_type": "execute_result"
    }
   ],
   "source": [
    "flat.shape\n"
   ]
  },
  {
   "cell_type": "code",
   "execution_count": 48,
   "metadata": {
    "collapsed": false
   },
   "outputs": [
    {
     "ename": "ValueError",
     "evalue": "total size of new array must be unchanged",
     "output_type": "error",
     "traceback": [
      "\u001b[0;31m---------------------------------------------------------------------------\u001b[0m",
      "\u001b[0;31mValueError\u001b[0m                                Traceback (most recent call last)",
      "\u001b[0;32m<ipython-input-48-e69edd7bf12c>\u001b[0m in \u001b[0;36m<module>\u001b[0;34m()\u001b[0m\n\u001b[1;32m      1\u001b[0m \u001b[0;31m#Need to convert image into feature array based\u001b[0m\u001b[0;34m\u001b[0m\u001b[0;34m\u001b[0m\u001b[0m\n\u001b[1;32m      2\u001b[0m \u001b[0;31m#on rgb intensities\u001b[0m\u001b[0;34m\u001b[0m\u001b[0;34m\u001b[0m\u001b[0m\n\u001b[0;32m----> 3\u001b[0;31m \u001b[0mflat_X\u001b[0m\u001b[0;34m=\u001b[0m\u001b[0mnp\u001b[0m\u001b[0;34m.\u001b[0m\u001b[0mreshape\u001b[0m\u001b[0;34m(\u001b[0m\u001b[0mX\u001b[0m\u001b[0;34m,\u001b[0m \u001b[0;34m[\u001b[0m\u001b[0;34m-\u001b[0m\u001b[0;36m1\u001b[0m\u001b[0;34m,\u001b[0m \u001b[0;36m3\u001b[0m\u001b[0;34m]\u001b[0m\u001b[0;34m)\u001b[0m\u001b[0;34m\u001b[0m\u001b[0m\n\u001b[0m\u001b[1;32m      4\u001b[0m \u001b[0;32mprint\u001b[0m\u001b[0;34m(\u001b[0m\u001b[0mflat_X\u001b[0m\u001b[0;34m)\u001b[0m\u001b[0;34m\u001b[0m\u001b[0m\n",
      "\u001b[0;32m/usr/local/lib/python2.7/site-packages/numpy/core/fromnumeric.pyc\u001b[0m in \u001b[0;36mreshape\u001b[0;34m(a, newshape, order)\u001b[0m\n\u001b[1;32m    223\u001b[0m     \u001b[0;32mexcept\u001b[0m \u001b[0mAttributeError\u001b[0m\u001b[0;34m:\u001b[0m\u001b[0;34m\u001b[0m\u001b[0m\n\u001b[1;32m    224\u001b[0m         \u001b[0;32mreturn\u001b[0m \u001b[0m_wrapit\u001b[0m\u001b[0;34m(\u001b[0m\u001b[0ma\u001b[0m\u001b[0;34m,\u001b[0m \u001b[0;34m'reshape'\u001b[0m\u001b[0;34m,\u001b[0m \u001b[0mnewshape\u001b[0m\u001b[0;34m,\u001b[0m \u001b[0morder\u001b[0m\u001b[0;34m=\u001b[0m\u001b[0morder\u001b[0m\u001b[0;34m)\u001b[0m\u001b[0;34m\u001b[0m\u001b[0m\n\u001b[0;32m--> 225\u001b[0;31m     \u001b[0;32mreturn\u001b[0m \u001b[0mreshape\u001b[0m\u001b[0;34m(\u001b[0m\u001b[0mnewshape\u001b[0m\u001b[0;34m,\u001b[0m \u001b[0morder\u001b[0m\u001b[0;34m=\u001b[0m\u001b[0morder\u001b[0m\u001b[0;34m)\u001b[0m\u001b[0;34m\u001b[0m\u001b[0m\n\u001b[0m\u001b[1;32m    226\u001b[0m \u001b[0;34m\u001b[0m\u001b[0m\n\u001b[1;32m    227\u001b[0m \u001b[0;34m\u001b[0m\u001b[0m\n",
      "\u001b[0;31mValueError\u001b[0m: total size of new array must be unchanged"
     ]
    }
   ],
   "source": [
    "#Need to convert image into feature array based\n",
    "#on rgb intensities\n",
    "flat_X=np.reshape(X, [-1, 3])\n",
    "print(flat_X)"
   ]
  },
  {
   "cell_type": "code",
   "execution_count": null,
   "metadata": {
    "collapsed": true
   },
   "outputs": [],
   "source": []
  },
  {
   "cell_type": "code",
   "execution_count": null,
   "metadata": {
    "collapsed": true
   },
   "outputs": [],
   "source": []
  },
  {
   "cell_type": "code",
   "execution_count": null,
   "metadata": {
    "collapsed": true
   },
   "outputs": [],
   "source": []
  },
  {
   "cell_type": "code",
   "execution_count": 38,
   "metadata": {
    "collapsed": true
   },
   "outputs": [],
   "source": [
    "data = np.array([[1, 4, 3], [2, .6, 1.2], [2, 1, 1.2],\n",
    "         [2, 0.5, 1.4], [5, .5, 0], [0, 0, 0],\n",
    "         [1, 4, 3], [5, .5, 0], [2, .5, 1.2]])\n",
    "\n",
    "values = data.T \n"
   ]
  },
  {
   "cell_type": "code",
   "execution_count": 39,
   "metadata": {
    "collapsed": false
   },
   "outputs": [
    {
     "name": "stdout",
     "output_type": "stream",
     "text": [
      "[[ 1.   2.   2.   2.   5.   0.   1.   5.   2. ]\n",
      " [ 4.   0.6  1.   0.5  0.5  0.   4.   0.5  0.5]\n",
      " [ 3.   1.2  1.2  1.4  0.   0.   3.   0.   1.2]]\n"
     ]
    }
   ],
   "source": [
    "print(values)"
   ]
  },
  {
   "cell_type": "code",
   "execution_count": 206,
   "metadata": {
    "collapsed": false
   },
   "outputs": [
    {
     "name": "stdout",
     "output_type": "stream",
     "text": [
      "[ 0.03372205  0.0564562   0.04343546  0.04631113  0.033694    0.01660216\n",
      "  0.03372205  0.033694    0.05600625]\n",
      "[ 0.03372205  0.0564562   0.04343546  0.04631113  0.033694    0.01660216\n",
      "  0.03372205  0.033694    0.05600625]\n",
      "[5 0 0 1 1 3 2 2 4]\n",
      "('number of estimated cluster', 6)\n"
     ]
    }
   ],
   "source": [
    "import scipy as sp\n",
    "\n",
    "kde = sp.stats.gaussian_kde(values)\n",
    "density = kde(values)\n",
    "x,y,z = values\n",
    "\n",
    "##\n",
    "##clustering\n",
    "##\n",
    "xx = range(len(density))\n",
    "m = np.array([xx, density]).T\n",
    "ms = MeanShift()\n",
    "ms.fit(m)\n",
    "labels = ms.labels_\n",
    "cluster_centers = ms.cluster_centers_\n",
    "\n",
    "labels_unique = np.unique(labels)\n",
    "n_clusters = len(labels_unique)\n",
    "\n",
    "print(density)\n",
    "print(labels)\n",
    "print(\"number of estimated cluster\", n_clusters)\n"
   ]
  },
  {
   "cell_type": "code",
   "execution_count": null,
   "metadata": {
    "collapsed": true
   },
   "outputs": [],
   "source": []
  }
 ],
 "metadata": {
  "kernelspec": {
   "display_name": "Python 2",
   "language": "python",
   "name": "python2"
  },
  "language_info": {
   "codemirror_mode": {
    "name": "ipython",
    "version": 2
   },
   "file_extension": ".py",
   "mimetype": "text/x-python",
   "name": "python",
   "nbconvert_exporter": "python",
   "pygments_lexer": "ipython2",
   "version": "2.7.12"
  }
 },
 "nbformat": 4,
 "nbformat_minor": 0
}
