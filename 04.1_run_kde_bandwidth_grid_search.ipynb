{
 "cells": [
  {
   "cell_type": "code",
   "execution_count": 1,
   "metadata": {
    "collapsed": true
   },
   "outputs": [],
   "source": [
    "from __future__ import absolute_import, division, print_function"
   ]
  },
  {
   "cell_type": "markdown",
   "metadata": {},
   "source": [
    "# Run Kernel Density Estimate and GridSearch for bandwidth parameter"
   ]
  },
  {
   "cell_type": "code",
   "execution_count": 2,
   "metadata": {
    "collapsed": true
   },
   "outputs": [],
   "source": [
    "import copy\n",
    "import glob\n",
    "import json\n",
    "import os\n",
    "import pickle\n",
    "import random\n",
    "import re\n",
    "import sys\n",
    "import time\n",
    "from collections import Counter\n",
    "\n",
    "import googlemaps\n",
    "import matplotlib as mpl\n",
    "import matplotlib.path as mplPath\n",
    "import matplotlib.pyplot as plt\n",
    "import numpy as np\n",
    "import scipy as sp\n",
    "import pandas as pd\n",
    "import requests\n",
    "import scipy.stats as ss\n",
    "from sklearn.datasets.species_distributions import construct_grids\n",
    "from sklearn.neighbors.kde import KernelDensity\n",
    "\n",
    "%matplotlib inline\n"
   ]
  },
  {
   "cell_type": "markdown",
   "metadata": {},
   "source": [
    "# Data"
   ]
  },
  {
   "cell_type": "code",
   "execution_count": 3,
   "metadata": {
    "collapsed": true
   },
   "outputs": [],
   "source": [
    "# Get CA coordinates\n",
    "try:\n",
    "    x_coords\n",
    "    y_coords\n",
    "except:\n",
    "    infile = os.path.join('..','..','data','ca_shape.csv')\n",
    "    ca_shape = pd.read_csv(infile)\n",
    "    x_coords = ca_shape['longitude'].tolist()\n",
    "    y_coords = ca_shape['latitude'].tolist()\n"
   ]
  },
  {
   "cell_type": "code",
   "execution_count": 4,
   "metadata": {
    "collapsed": false
   },
   "outputs": [
    {
     "name": "stdout",
     "output_type": "stream",
     "text": [
      "--- 29.890805006 seconds ---\n"
     ]
    }
   ],
   "source": [
    "# import cleaned and pickled dataframe\n",
    "try:\n",
    "    flickr_all_clean.shape\n",
    "except:\n",
    "    start_time = time.time()\n",
    "    flickr_all_clean = pd.read_pickle(os.path.join('..','..','data','flickr_all_clean.df'))\n",
    "    print(\"--- %s seconds ---\" % (time.time() - start_time))\n"
   ]
  },
  {
   "cell_type": "code",
   "execution_count": 63,
   "metadata": {
    "collapsed": false
   },
   "outputs": [
    {
     "name": "stdout",
     "output_type": "stream",
     "text": [
      "(18104, 8)\n"
     ]
    }
   ],
   "source": [
    "keyword = 'football'\n",
    "df = flickr_all_clean[flickr_all_clean['title_tags']\n",
    "                      .str.contains(keyword, na=False)]\n",
    "print(df.shape)"
   ]
  },
  {
   "cell_type": "code",
   "execution_count": null,
   "metadata": {
    "collapsed": true
   },
   "outputs": [],
   "source": []
  },
  {
   "cell_type": "code",
   "execution_count": null,
   "metadata": {
    "collapsed": true
   },
   "outputs": [],
   "source": []
  },
  {
   "cell_type": "code",
   "execution_count": null,
   "metadata": {
    "collapsed": true
   },
   "outputs": [],
   "source": []
  },
  {
   "cell_type": "markdown",
   "metadata": {},
   "source": [
    "# Run KDE"
   ]
  },
  {
   "cell_type": "code",
   "execution_count": 64,
   "metadata": {
    "collapsed": false
   },
   "outputs": [],
   "source": [
    "# Select subset based on keyword\n",
    "start_time = time.time()\n",
    "# Set coordinates for cutout\n",
    "limit_lng = [-122.7,-121.8]\n",
    "limit_lat = [36.9,38.3]\n",
    "#\n",
    "limit_lng = [-123.194178,-121.375941]\n",
    "limit_lat = [36.911135,38.202246]\n",
    "#\n",
    "if len(limit_lng) != 0 and len(limit_lat) != 0:\n",
    "    yin = np.array((df['longitude'][(df['longitude'] > limit_lng[0]) & \n",
    "                                    (df['longitude'] < limit_lng[1]) & \n",
    "                                    (df['latitude'] > limit_lat[0]) & \n",
    "                                    (df['latitude'] < limit_lat[1])].tolist()))\n",
    "\n",
    "    xin = np.array((df['latitude'][(df['longitude'] > limit_lng[0]) & \n",
    "                                   (df['longitude'] < limit_lng[1]) & \n",
    "                                   (df['latitude'] > limit_lat[0]) & \n",
    "                                   (df['latitude'] < limit_lat[1])].tolist()))\n",
    "else:\n",
    "    yin = np.array((df['longitude'][(df['longitude'] != 0.0) & (df['latitude'] != 0.0)].tolist()))\n",
    "    xin = np.array((df['latitude'][(df['longitude'] != 0.0) & (df['latitude'] != 0.0)].tolist()))\n",
    "# build array\n",
    "XY = np.vstack([yin.ravel(), xin.ravel()]).T\n",
    "# Run KDE\n",
    "lng_max = limit_lng[0]\n",
    "lng_min = limit_lng[1]\n",
    "lat_max = limit_lat[0]\n",
    "lat_min = limit_lat[1]\n",
    "# Set up the data grid for the contour plot\n",
    "xgrid = np.linspace(lng_min,lng_max,100)\n",
    "ygrid = np.linspace(lat_min,lat_max,100)\n",
    "X, Y = np.meshgrid(xgrid, ygrid)\n",
    "#\n",
    "xy = np.vstack([Y.ravel(), X.ravel()]).T\n",
    "#\n",
    "Xtrain = np.vstack([xin,yin]).T\n",
    "# Xtrain *= np.pi / 180.  # Convert lat/long to radians\n",
    "# # \n",
    "# band = 0.0003\n",
    "# kde = KernelDensity(bandwidth=band,algorithm='ball_tree',rtol=1e-4)\n",
    "# kde.fit(Xtrain)\n",
    "# # evaluate only on land\n",
    "# # Create path for CA \n",
    "# bbPath = mplPath.Path(np.transpose(np.array((x_coords,y_coords))),closed=True)\n",
    "# patch_time = time.time()\n",
    "# land_mask = np.zeros(xy.shape[0], dtype=bool)\n",
    "# for idx,tmp_coords in enumerate(xy):\n",
    "#     land_mask[idx] = bbPath.contains_point((tmp_coords[1], tmp_coords[0]))\n",
    "# print(\"--- Masking: %s seconds ---\" % (time.time() - patch_time))\n",
    "# #\n",
    "# xy *= np.pi / 180. # Convert lat/long to radians\n",
    "# xy = xy[land_mask]\n",
    "# Z = -9999 + np.zeros(land_mask.shape[0])\n",
    "# Z[land_mask] = np.exp(kde.score_samples(xy))\n",
    "# Z = Z.reshape(X.shape)\n",
    "# land_mask_reshape = land_mask.reshape(X.shape)\n"
   ]
  },
  {
   "cell_type": "code",
   "execution_count": 65,
   "metadata": {
    "collapsed": false
   },
   "outputs": [
    {
     "name": "stdout",
     "output_type": "stream",
     "text": [
      "(10000, 2)\n",
      "(17798, 2)\n"
     ]
    }
   ],
   "source": [
    "print(xy.shape)\n",
    "print(Xtrain.shape)"
   ]
  },
  {
   "cell_type": "code",
   "execution_count": 66,
   "metadata": {
    "collapsed": false,
    "scrolled": true
   },
   "outputs": [
    {
     "name": "stdout",
     "output_type": "stream",
     "text": [
      "--- Masking: 8.95744299889 seconds ---\n"
     ]
    }
   ],
   "source": [
    "# Create land mask for input data\n",
    "patch_time = time.time()\n",
    "land_mask_input = np.zeros(Xtrain.shape[0], dtype=bool)\n",
    "for idx,tmp_coords in enumerate(Xtrain):\n",
    "    land_mask_input[idx] = bbPath.contains_point((tmp_coords[1], tmp_coords[0]))\n",
    "print(\"--- Masking: %s seconds ---\" % (time.time() - patch_time))\n",
    "#\n",
    "Xtrain *= np.pi / 180. # Convert lat/long to radians\n",
    "Xtrain = Xtrain[land_mask_input]\n"
   ]
  },
  {
   "cell_type": "code",
   "execution_count": 67,
   "metadata": {
    "collapsed": false
   },
   "outputs": [
    {
     "name": "stdout",
     "output_type": "stream",
     "text": [
      "[ True  True  True ...,  True  True  True]\n",
      "17761\n"
     ]
    }
   ],
   "source": [
    "print(land_mask_input)\n",
    "print(sum(land_mask_input))"
   ]
  },
  {
   "cell_type": "code",
   "execution_count": 68,
   "metadata": {
    "collapsed": false,
    "scrolled": true
   },
   "outputs": [
    {
     "name": "stdout",
     "output_type": "stream",
     "text": [
      "[ 0.66096772 -2.13366316]\n"
     ]
    }
   ],
   "source": [
    "print(Xtrain[0])"
   ]
  },
  {
   "cell_type": "code",
   "execution_count": 69,
   "metadata": {
    "collapsed": false
   },
   "outputs": [
    {
     "name": "stdout",
     "output_type": "stream",
     "text": [
      "(17761, 2)\n"
     ]
    }
   ],
   "source": [
    "print(Xtrain.shape)"
   ]
  },
  {
   "cell_type": "markdown",
   "metadata": {},
   "source": [
    "# Rund GridSearch"
   ]
  },
  {
   "cell_type": "code",
   "execution_count": 72,
   "metadata": {
    "collapsed": false
   },
   "outputs": [
    {
     "name": "stdout",
     "output_type": "stream",
     "text": [
      "Best parameters set found on development set:\n",
      "\n",
      "{'bandwidth': 0.004}\n",
      "\n",
      "Grid scores on development set:\n",
      "\n",
      "30055.297 (+/-25925.800) for {'bandwidth': 0.001}\n",
      "44653.751 (+/-8374.583) for {'bandwidth': 0.002}\n",
      "46922.539 (+/-4741.707) for {'bandwidth': 0.003}\n",
      "46931.656 (+/-3284.146) for {'bandwidth': 0.004}\n",
      "46343.560 (+/-2402.643) for {'bandwidth': 0.005}\n",
      "\n",
      "Detailed classification report:\n",
      "\n",
      "The model is trained on the full development set.\n",
      "The scores are computed on the full evaluation set.\n",
      "\n",
      "--- GridSearch: 139.628803968 seconds ---\n"
     ]
    }
   ],
   "source": [
    "\n",
    "patch_time = time.time()\n",
    "from sklearn.model_selection import GridSearchCV\n",
    "parameters = {'bandwidth':[0.0001,0.0002,0.0003,0.0004,0.0005,0.0007,0.001,0.002,0.005]}\n",
    "parameters = {'bandwidth':[0.0001,0.0002,0.0003,0.0004,0.0005,0.0006]}\n",
    "parameters = {'bandwidth':[0.0001,0.0005,0.001,0.005,0.01,0.05]}\n",
    "parameters = {'bandwidth':[0.001,0.003,0.005,0.007,0.009]}\n",
    "parameters = {'bandwidth':[0.001,0.002,0.003,0.004,0.005]}\n",
    "# parameters = {'bandwidth':[0.0001]}\n",
    "kde = KernelDensity(algorithm='ball_tree',rtol=1e-4)\n",
    "clf = GridSearchCV(kde, parameters)\n",
    "clf.fit(Xtrain)\n",
    "print(\"Best parameters set found on development set:\")\n",
    "print()\n",
    "print(clf.best_params_)\n",
    "print()\n",
    "print(\"Grid scores on development set:\")\n",
    "print()\n",
    "means = clf.cv_results_['mean_test_score']\n",
    "stds = clf.cv_results_['std_test_score']\n",
    "for mean, std, params in zip(means, stds, clf.cv_results_['params']):\n",
    "    print(\"%0.3f (+/-%0.03f) for %r\"\n",
    "          % (mean, std * 2, params))\n",
    "print()\n",
    "\n",
    "# print(\"Best parameters set found on development set:\")\n",
    "# print()\n",
    "# print(clf.best_params_)\n",
    "# print()\n",
    "# print(\"Grid scores on development set:\")\n",
    "# print()\n",
    "# # for params, mean_test_score, std_test_score in clf.cv_results_:\n",
    "# for n in range(len(clf.cv_results_['mean_test_score'])):\n",
    "#     print(\"%0.3f (+/-%0.03f) for %r\"\n",
    "#           % (clf.cv_results_['mean_test_score'][n], \n",
    "#              clf.cv_results_['std_test_score'][n] * 2, \n",
    "#              clf.cv_results_['params'][n]))\n",
    "# print()\n",
    "print(\"Detailed classification report:\")\n",
    "print()\n",
    "print(\"The model is trained on the full development set.\")\n",
    "print(\"The scores are computed on the full evaluation set.\")\n",
    "print()\n",
    "print(\"--- GridSearch: %s seconds ---\" % (time.time() - patch_time))\n"
   ]
  },
  {
   "cell_type": "code",
   "execution_count": null,
   "metadata": {
    "collapsed": true
   },
   "outputs": [],
   "source": []
  },
  {
   "cell_type": "code",
   "execution_count": null,
   "metadata": {
    "collapsed": true
   },
   "outputs": [],
   "source": [
    "30055.297 (+/-25925.800) for {'bandwidth': 0.001}\n",
    "44653.751 (+/-8374.583) for {'bandwidth': 0.002}\n",
    "46922.539 (+/-4741.707) for {'bandwidth': 0.003}\n",
    "46931.656 (+/-3284.146) for {'bandwidth': 0.004}\n",
    "46343.560 (+/-2402.643) for {'bandwidth': 0.005}\n"
   ]
  },
  {
   "cell_type": "code",
   "execution_count": null,
   "metadata": {
    "collapsed": true
   },
   "outputs": [],
   "source": []
  },
  {
   "cell_type": "code",
   "execution_count": null,
   "metadata": {
    "collapsed": true
   },
   "outputs": [],
   "source": []
  },
  {
   "cell_type": "code",
   "execution_count": null,
   "metadata": {
    "collapsed": true
   },
   "outputs": [],
   "source": []
  },
  {
   "cell_type": "code",
   "execution_count": null,
   "metadata": {
    "collapsed": true
   },
   "outputs": [],
   "source": []
  }
 ],
 "metadata": {
  "kernelspec": {
   "display_name": "Python 2",
   "language": "python",
   "name": "python2"
  },
  "language_info": {
   "codemirror_mode": {
    "name": "ipython",
    "version": 2
   },
   "file_extension": ".py",
   "mimetype": "text/x-python",
   "name": "python",
   "nbconvert_exporter": "python",
   "pygments_lexer": "ipython2",
   "version": "2.7.12"
  }
 },
 "nbformat": 4,
 "nbformat_minor": 0
}
